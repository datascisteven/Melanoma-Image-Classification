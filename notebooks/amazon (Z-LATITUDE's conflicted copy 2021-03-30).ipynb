{
 "metadata": {
  "language_info": {
   "codemirror_mode": {
    "name": "ipython",
    "version": 3
   },
   "file_extension": ".py",
   "mimetype": "text/x-python",
   "name": "python",
   "nbconvert_exporter": "python",
   "pygments_lexer": "ipython3",
   "version": "3.9.1-final"
  },
  "orig_nbformat": 2,
  "kernelspec": {
   "name": "python3",
   "display_name": "Python 3",
   "language": "python"
  }
 },
 "nbformat": 4,
 "nbformat_minor": 2,
 "cells": [
  {
   "cell_type": "code",
   "execution_count": 5,
   "metadata": {},
   "outputs": [
    {
     "output_type": "stream",
     "name": "stdout",
     "text": [
      "Wall time: 901 ms\n"
     ]
    }
   ],
   "source": [
    "%%time\n",
    "\n",
    "import boto3\n",
    "import re\n",
    "import sagemaker\n",
    "from sagemaker import get_execution_role\n",
    "from sagemaker.amazon.amazon_estimator import get_image_uri\n",
    "import os \n",
    "import urllib.request\n",
    "import boto3\n",
    "\n",
    "\n",
    "# role = sagemaker.get_execution_role()\n",
    "# bucket = sagemaker.Session().default_bucket()\n",
    "# training_image = get_image_uri(boto3.Session().region_name, 'flatiron-melanoma-capstone')\n",
    "\n",
    "def upload_to_s3(channel, Path):\n",
    "    s3_path_to_data = sagemaker.Session().upload_data(bucket=bucket, \n",
    "                                                      path=Path, \n",
    "                                                      key_prefix=channel)\n",
    "\n",
    "# Using Amazon S3\n",
    "s3 = boto3.client('s3')\n",
    "sage = boto3.client('sagemaker')\n",
    "\n",
    "session = boto3.session.Session()    \n",
    "sagemaker_session = sagemaker.Session()\n",
    "\n",
    "# Get a SageMaker-compatible role used by this Notebook Instance.\n",
    "role = get_execution_role()\n",
    "\n",
    "\n",
    "#Upload file using AWS session\n",
    "# S3 prefix\n",
    "prefix = 'flatiron-melanoma-capstone'\n",
    "\n",
    "\n"
   ]
  },
  {
   "cell_type": "code",
   "execution_count": null,
   "metadata": {},
   "outputs": [],
   "source": [
    "role = get_execution_role()\n",
    "bucket = sagemaker.Session().default_bucket()\n",
    "\n",
    "def upload_to_s3(channel, Path):\n",
    "    s3_path_to_data = sagemaker.Session().upload_data(bucket=bucket, \n",
    "                                                      path=Path, \n",
    "                                                      key_prefix=channel)\n",
    "\n",
    "\n",
    "# data copy to s3\n",
    "s3_train_key = \"flatiron-melanoma-capstone/sample\"\n",
    "# s3_validation_key = \"flatiron-melanoma-capstone/val\"\n",
    "# s3_test_key =\"flatiron-melanoma-capstone/test\"\n",
    "\n",
    "upload_to_s3(s3_train_key, 'E:\\Dropbox\\Data Science\\Flatiron\\iPython Notebooks\\course-materials\\DS-Repos\\Melanoma-Image-Classification\\sample\\test')\n",
    "# upload_to_s3(s3_validation_key, '/home/ec2-user/SageMaker/chest_xray/val/')\n",
    "# upload_to_s3(s3_test_key, '/home/ec2-user/SageMaker/chest_xray/test/')"
   ]
  },
  {
   "cell_type": "code",
   "execution_count": null,
   "metadata": {},
   "outputs": [],
   "source": []
  },
  {
   "cell_type": "code",
   "execution_count": null,
   "metadata": {},
   "outputs": [],
   "source": []
  }
 ]
}