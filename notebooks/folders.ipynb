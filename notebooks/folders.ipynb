{
 "cells": [
  {
   "cell_type": "markdown",
   "metadata": {},
   "source": [
    "# Importing Packages"
   ]
  },
  {
   "cell_type": "code",
   "execution_count": 1,
   "metadata": {},
   "outputs": [],
   "source": [
    "import numpy as np\n",
    "import pandas as pd\n",
    "import matplotlib.pyplot as plt\n",
    "%matplotlib inline\n",
    "import seaborn as sns\n",
    "import pydicom as dicom\n",
    "import os, sys, time, shutil, scipy, cv2, json, datetime\n",
    "import PIL.Image\n",
    "from tqdm.notebook import tqdm\n",
    "\n",
    "import warnings\n",
    "warnings.simplefilter(\"ignore\")\n",
    "\n",
    "from sklearn.model_selection import train_test_split\n",
    "\n",
    "%reload_ext autoreload\n",
    "%autoreload 2\n",
    "from utils import *\n"
   ]
  },
  {
   "cell_type": "markdown",
   "metadata": {},
   "source": [
    "# Train-Validation-Test Split"
   ]
  },
  {
   "cell_type": "code",
   "execution_count": 48,
   "metadata": {},
   "outputs": [
    {
     "data": {
      "text/html": [
       "<div>\n",
       "<style scoped>\n",
       "    .dataframe tbody tr th:only-of-type {\n",
       "        vertical-align: middle;\n",
       "    }\n",
       "\n",
       "    .dataframe tbody tr th {\n",
       "        vertical-align: top;\n",
       "    }\n",
       "\n",
       "    .dataframe thead th {\n",
       "        text-align: right;\n",
       "    }\n",
       "</style>\n",
       "<table border=\"1\" class=\"dataframe\">\n",
       "  <thead>\n",
       "    <tr style=\"text-align: right;\">\n",
       "      <th></th>\n",
       "      <th>file</th>\n",
       "      <th>patient_id</th>\n",
       "      <th>lesion_id</th>\n",
       "      <th>gender</th>\n",
       "      <th>age</th>\n",
       "      <th>site</th>\n",
       "      <th>diagnosis</th>\n",
       "      <th>ben_mal</th>\n",
       "      <th>target</th>\n",
       "    </tr>\n",
       "  </thead>\n",
       "  <tbody>\n",
       "    <tr>\n",
       "      <th>0</th>\n",
       "      <td>ISIC_2637011</td>\n",
       "      <td>IP_7279968</td>\n",
       "      <td>IL_7972535</td>\n",
       "      <td>male</td>\n",
       "      <td>45.0</td>\n",
       "      <td>head/neck</td>\n",
       "      <td>unknown</td>\n",
       "      <td>benign</td>\n",
       "      <td>0</td>\n",
       "    </tr>\n",
       "    <tr>\n",
       "      <th>1</th>\n",
       "      <td>ISIC_0015719</td>\n",
       "      <td>IP_3075186</td>\n",
       "      <td>IL_4649854</td>\n",
       "      <td>female</td>\n",
       "      <td>45.0</td>\n",
       "      <td>upper extremity</td>\n",
       "      <td>unknown</td>\n",
       "      <td>benign</td>\n",
       "      <td>0</td>\n",
       "    </tr>\n",
       "    <tr>\n",
       "      <th>2</th>\n",
       "      <td>ISIC_0052212</td>\n",
       "      <td>IP_2842074</td>\n",
       "      <td>IL_9087444</td>\n",
       "      <td>female</td>\n",
       "      <td>50.0</td>\n",
       "      <td>lower extremity</td>\n",
       "      <td>nevus</td>\n",
       "      <td>benign</td>\n",
       "      <td>0</td>\n",
       "    </tr>\n",
       "    <tr>\n",
       "      <th>3</th>\n",
       "      <td>ISIC_0068279</td>\n",
       "      <td>IP_6890425</td>\n",
       "      <td>IL_4255399</td>\n",
       "      <td>female</td>\n",
       "      <td>45.0</td>\n",
       "      <td>head/neck</td>\n",
       "      <td>unknown</td>\n",
       "      <td>benign</td>\n",
       "      <td>0</td>\n",
       "    </tr>\n",
       "    <tr>\n",
       "      <th>4</th>\n",
       "      <td>ISIC_0074268</td>\n",
       "      <td>IP_8723313</td>\n",
       "      <td>IL_6898037</td>\n",
       "      <td>female</td>\n",
       "      <td>55.0</td>\n",
       "      <td>upper extremity</td>\n",
       "      <td>unknown</td>\n",
       "      <td>benign</td>\n",
       "      <td>0</td>\n",
       "    </tr>\n",
       "  </tbody>\n",
       "</table>\n",
       "</div>"
      ],
      "text/plain": [
       "           file  patient_id   lesion_id  gender   age             site  \\\n",
       "0  ISIC_2637011  IP_7279968  IL_7972535    male  45.0        head/neck   \n",
       "1  ISIC_0015719  IP_3075186  IL_4649854  female  45.0  upper extremity   \n",
       "2  ISIC_0052212  IP_2842074  IL_9087444  female  50.0  lower extremity   \n",
       "3  ISIC_0068279  IP_6890425  IL_4255399  female  45.0        head/neck   \n",
       "4  ISIC_0074268  IP_8723313  IL_6898037  female  55.0  upper extremity   \n",
       "\n",
       "  diagnosis ben_mal  target  \n",
       "0   unknown  benign       0  \n",
       "1   unknown  benign       0  \n",
       "2     nevus  benign       0  \n",
       "3   unknown  benign       0  \n",
       "4   unknown  benign       0  "
      ]
     },
     "execution_count": 48,
     "metadata": {},
     "output_type": "execute_result"
    }
   ],
   "source": [
    "df = pd.read_csv('../data/train.csv', index_col=0)\n",
    "df.head()"
   ]
  },
  {
   "cell_type": "code",
   "execution_count": 49,
   "metadata": {},
   "outputs": [
    {
     "data": {
      "text/plain": [
       "0    32542\n",
       "1     5106\n",
       "Name: target, dtype: int64"
      ]
     },
     "execution_count": 49,
     "metadata": {},
     "output_type": "execute_result"
    }
   ],
   "source": [
    "df.target.value_counts()"
   ]
  },
  {
   "cell_type": "code",
   "execution_count": 50,
   "metadata": {},
   "outputs": [
    {
     "data": {
      "text/plain": [
       "ISIC_4783933    1\n",
       "ISIC_4189520    1\n",
       "ISIC_6178088    1\n",
       "ISIC_6056657    1\n",
       "ISIC_2086082    1\n",
       "               ..\n",
       "ISIC_3760025    1\n",
       "ISIC_4938188    1\n",
       "ISIC_9789240    1\n",
       "ISIC_8651863    1\n",
       "ISIC_8429669    1\n",
       "Name: file, Length: 37648, dtype: int64"
      ]
     },
     "execution_count": 50,
     "metadata": {},
     "output_type": "execute_result"
    }
   ],
   "source": [
    "df.file.value_counts()"
   ]
  },
  {
   "cell_type": "code",
   "execution_count": 51,
   "metadata": {},
   "outputs": [
    {
     "name": "stdout",
     "output_type": "stream",
     "text": [
      "<class 'pandas.core.frame.DataFrame'>\n",
      "Int64Index: 37648 entries, 0 to 37647\n",
      "Data columns (total 9 columns):\n",
      " #   Column      Non-Null Count  Dtype  \n",
      "---  ------      --------------  -----  \n",
      " 0   file        37648 non-null  object \n",
      " 1   patient_id  33126 non-null  object \n",
      " 2   lesion_id   37311 non-null  object \n",
      " 3   gender      37502 non-null  object \n",
      " 4   age         37495 non-null  float64\n",
      " 5   site        36994 non-null  object \n",
      " 6   diagnosis   33126 non-null  object \n",
      " 7   ben_mal     33126 non-null  object \n",
      " 8   target      37648 non-null  int64  \n",
      "dtypes: float64(1), int64(1), object(7)\n",
      "memory usage: 2.9+ MB\n"
     ]
    }
   ],
   "source": [
    "df.info()"
   ]
  },
  {
   "cell_type": "code",
   "execution_count": 52,
   "metadata": {},
   "outputs": [],
   "source": [
    "melanoma = df[df.target == 1]\n",
    "non_melanoma = df[df.target == 0]\n",
    "y_mel = melanoma.target\n",
    "X_mel = melanoma.drop(columns=['target'], axis=1)\n",
    "y_non_mel = non_melanoma.target\n",
    "X_non_mel = non_melanoma.drop(columns=['target'], axis=1)"
   ]
  },
  {
   "cell_type": "code",
   "execution_count": 53,
   "metadata": {},
   "outputs": [],
   "source": [
    "X_tr_m, X_val_m, y_tr_m, y_val_m = train_test_split(X_mel, y_mel, random_state=42, test_size=0.2)\n",
    "X_tr_nm, X_val_nm, y_tr_nm, y_val_nm = train_test_split(X_non_mel, y_non_mel, random_state=42, test_size=0.2)\n",
    "\n",
    "mel_train = pd.concat([X_tr_m, y_tr_m], axis=1)\n",
    "non_mel_train = pd.concat([X_tr_nm, y_tr_nm], axis=1)\n",
    "\n",
    "train = pd.concat([mel_train, non_mel_train], axis=0)\n",
    "train = train.reset_index(drop=True)"
   ]
  },
  {
   "cell_type": "code",
   "execution_count": 54,
   "metadata": {},
   "outputs": [],
   "source": [
    "X_val_m2, X_tt_m, y_val_m2, y_tt_m = train_test_split(X_val_m, y_val_m, random_state=42, test_size=0.5)\n",
    "X_val_nm2, X_tt_nm, y_val_nm2, y_tt_nm = train_test_split(X_val_nm, y_val_nm, random_state=42, test_size=0.5)\n",
    "\n",
    "mel_val = pd.concat([X_val_m2, y_val_m2], axis=1)\n",
    "non_mel_val = pd.concat([X_val_nm2, y_val_nm2], axis=1)\n",
    "mel_tt = pd.concat([X_tt_m, y_tt_m], axis=1)\n",
    "non_mel_tt = pd.concat([X_tt_nm, y_tt_nm], axis=1)\n",
    "\n",
    "validation = pd.concat([mel_val, non_mel_val], axis=0)\n",
    "validation = validation.reset_index(drop=True)\n",
    "\n",
    "test = pd.concat([mel_tt, non_mel_tt], axis=0)\n",
    "test = test.reset_index(drop=True)"
   ]
  },
  {
   "cell_type": "code",
   "execution_count": 55,
   "metadata": {},
   "outputs": [
    {
     "data": {
      "text/html": [
       "<div>\n",
       "<style scoped>\n",
       "    .dataframe tbody tr th:only-of-type {\n",
       "        vertical-align: middle;\n",
       "    }\n",
       "\n",
       "    .dataframe tbody tr th {\n",
       "        vertical-align: top;\n",
       "    }\n",
       "\n",
       "    .dataframe thead th {\n",
       "        text-align: right;\n",
       "    }\n",
       "</style>\n",
       "<table border=\"1\" class=\"dataframe\">\n",
       "  <thead>\n",
       "    <tr style=\"text-align: right;\">\n",
       "      <th></th>\n",
       "      <th>file</th>\n",
       "      <th>patient_id</th>\n",
       "      <th>lesion_id</th>\n",
       "      <th>gender</th>\n",
       "      <th>age</th>\n",
       "      <th>site</th>\n",
       "      <th>diagnosis</th>\n",
       "      <th>ben_mal</th>\n",
       "      <th>target</th>\n",
       "    </tr>\n",
       "  </thead>\n",
       "  <tbody>\n",
       "    <tr>\n",
       "      <th>0</th>\n",
       "      <td>ISIC_0065823</td>\n",
       "      <td>NaN</td>\n",
       "      <td>BCN_0003902</td>\n",
       "      <td>male</td>\n",
       "      <td>75.0</td>\n",
       "      <td>anterior torso</td>\n",
       "      <td>NaN</td>\n",
       "      <td>NaN</td>\n",
       "      <td>1</td>\n",
       "    </tr>\n",
       "    <tr>\n",
       "      <th>1</th>\n",
       "      <td>ISIC_0013908_downsampled</td>\n",
       "      <td>NaN</td>\n",
       "      <td>MSK4_0010423</td>\n",
       "      <td>male</td>\n",
       "      <td>75.0</td>\n",
       "      <td>posterior torso</td>\n",
       "      <td>NaN</td>\n",
       "      <td>NaN</td>\n",
       "      <td>1</td>\n",
       "    </tr>\n",
       "    <tr>\n",
       "      <th>2</th>\n",
       "      <td>ISIC_0054089</td>\n",
       "      <td>NaN</td>\n",
       "      <td>BCN_0005268</td>\n",
       "      <td>male</td>\n",
       "      <td>45.0</td>\n",
       "      <td>anterior torso</td>\n",
       "      <td>NaN</td>\n",
       "      <td>NaN</td>\n",
       "      <td>1</td>\n",
       "    </tr>\n",
       "    <tr>\n",
       "      <th>3</th>\n",
       "      <td>ISIC_0061371</td>\n",
       "      <td>NaN</td>\n",
       "      <td>BCN_0004405</td>\n",
       "      <td>male</td>\n",
       "      <td>60.0</td>\n",
       "      <td>palms/soles</td>\n",
       "      <td>NaN</td>\n",
       "      <td>NaN</td>\n",
       "      <td>1</td>\n",
       "    </tr>\n",
       "    <tr>\n",
       "      <th>4</th>\n",
       "      <td>ISIC_8702237</td>\n",
       "      <td>IP_0738123</td>\n",
       "      <td>IL_8854900</td>\n",
       "      <td>female</td>\n",
       "      <td>50.0</td>\n",
       "      <td>lower extremity</td>\n",
       "      <td>melanoma</td>\n",
       "      <td>malignant</td>\n",
       "      <td>1</td>\n",
       "    </tr>\n",
       "  </tbody>\n",
       "</table>\n",
       "</div>"
      ],
      "text/plain": [
       "                       file  patient_id     lesion_id  gender   age  \\\n",
       "0              ISIC_0065823         NaN   BCN_0003902    male  75.0   \n",
       "1  ISIC_0013908_downsampled         NaN  MSK4_0010423    male  75.0   \n",
       "2              ISIC_0054089         NaN   BCN_0005268    male  45.0   \n",
       "3              ISIC_0061371         NaN   BCN_0004405    male  60.0   \n",
       "4              ISIC_8702237  IP_0738123    IL_8854900  female  50.0   \n",
       "\n",
       "              site diagnosis    ben_mal  target  \n",
       "0   anterior torso       NaN        NaN       1  \n",
       "1  posterior torso       NaN        NaN       1  \n",
       "2   anterior torso       NaN        NaN       1  \n",
       "3      palms/soles       NaN        NaN       1  \n",
       "4  lower extremity  melanoma  malignant       1  "
      ]
     },
     "execution_count": 55,
     "metadata": {},
     "output_type": "execute_result"
    }
   ],
   "source": [
    "train.head()"
   ]
  },
  {
   "cell_type": "code",
   "execution_count": 56,
   "metadata": {},
   "outputs": [
    {
     "data": {
      "text/plain": [
       "30117"
      ]
     },
     "execution_count": 56,
     "metadata": {},
     "output_type": "execute_result"
    }
   ],
   "source": [
    "len(train)"
   ]
  },
  {
   "cell_type": "code",
   "execution_count": 57,
   "metadata": {},
   "outputs": [
    {
     "data": {
      "text/plain": [
       "0    26033\n",
       "1     4084\n",
       "Name: target, dtype: int64"
      ]
     },
     "execution_count": 57,
     "metadata": {},
     "output_type": "execute_result"
    }
   ],
   "source": [
    "train.target.value_counts()"
   ]
  },
  {
   "cell_type": "code",
   "execution_count": 58,
   "metadata": {},
   "outputs": [
    {
     "data": {
      "text/html": [
       "<div>\n",
       "<style scoped>\n",
       "    .dataframe tbody tr th:only-of-type {\n",
       "        vertical-align: middle;\n",
       "    }\n",
       "\n",
       "    .dataframe tbody tr th {\n",
       "        vertical-align: top;\n",
       "    }\n",
       "\n",
       "    .dataframe thead th {\n",
       "        text-align: right;\n",
       "    }\n",
       "</style>\n",
       "<table border=\"1\" class=\"dataframe\">\n",
       "  <thead>\n",
       "    <tr style=\"text-align: right;\">\n",
       "      <th></th>\n",
       "      <th>file</th>\n",
       "      <th>patient_id</th>\n",
       "      <th>lesion_id</th>\n",
       "      <th>gender</th>\n",
       "      <th>age</th>\n",
       "      <th>site</th>\n",
       "      <th>diagnosis</th>\n",
       "      <th>ben_mal</th>\n",
       "      <th>target</th>\n",
       "    </tr>\n",
       "  </thead>\n",
       "  <tbody>\n",
       "    <tr>\n",
       "      <th>0</th>\n",
       "      <td>ISIC_0066678</td>\n",
       "      <td>NaN</td>\n",
       "      <td>BCN_0003144</td>\n",
       "      <td>male</td>\n",
       "      <td>45.0</td>\n",
       "      <td>anterior torso</td>\n",
       "      <td>NaN</td>\n",
       "      <td>NaN</td>\n",
       "      <td>1</td>\n",
       "    </tr>\n",
       "    <tr>\n",
       "      <th>1</th>\n",
       "      <td>ISIC_0057668</td>\n",
       "      <td>NaN</td>\n",
       "      <td>BCN_0003907</td>\n",
       "      <td>female</td>\n",
       "      <td>65.0</td>\n",
       "      <td>anterior torso</td>\n",
       "      <td>NaN</td>\n",
       "      <td>NaN</td>\n",
       "      <td>1</td>\n",
       "    </tr>\n",
       "    <tr>\n",
       "      <th>2</th>\n",
       "      <td>ISIC_0053843</td>\n",
       "      <td>NaN</td>\n",
       "      <td>BCN_0002433</td>\n",
       "      <td>male</td>\n",
       "      <td>45.0</td>\n",
       "      <td>anterior torso</td>\n",
       "      <td>NaN</td>\n",
       "      <td>NaN</td>\n",
       "      <td>1</td>\n",
       "    </tr>\n",
       "    <tr>\n",
       "      <th>3</th>\n",
       "      <td>ISIC_0072218</td>\n",
       "      <td>NaN</td>\n",
       "      <td>BCN_0003200</td>\n",
       "      <td>female</td>\n",
       "      <td>75.0</td>\n",
       "      <td>upper extremity</td>\n",
       "      <td>NaN</td>\n",
       "      <td>NaN</td>\n",
       "      <td>1</td>\n",
       "    </tr>\n",
       "    <tr>\n",
       "      <th>4</th>\n",
       "      <td>ISIC_0032685</td>\n",
       "      <td>NaN</td>\n",
       "      <td>HAM_0005608</td>\n",
       "      <td>male</td>\n",
       "      <td>75.0</td>\n",
       "      <td>posterior torso</td>\n",
       "      <td>NaN</td>\n",
       "      <td>NaN</td>\n",
       "      <td>1</td>\n",
       "    </tr>\n",
       "  </tbody>\n",
       "</table>\n",
       "</div>"
      ],
      "text/plain": [
       "           file patient_id    lesion_id  gender   age             site  \\\n",
       "0  ISIC_0066678        NaN  BCN_0003144    male  45.0   anterior torso   \n",
       "1  ISIC_0057668        NaN  BCN_0003907  female  65.0   anterior torso   \n",
       "2  ISIC_0053843        NaN  BCN_0002433    male  45.0   anterior torso   \n",
       "3  ISIC_0072218        NaN  BCN_0003200  female  75.0  upper extremity   \n",
       "4  ISIC_0032685        NaN  HAM_0005608    male  75.0  posterior torso   \n",
       "\n",
       "  diagnosis ben_mal  target  \n",
       "0       NaN     NaN       1  \n",
       "1       NaN     NaN       1  \n",
       "2       NaN     NaN       1  \n",
       "3       NaN     NaN       1  \n",
       "4       NaN     NaN       1  "
      ]
     },
     "execution_count": 58,
     "metadata": {},
     "output_type": "execute_result"
    }
   ],
   "source": [
    "validation.head()"
   ]
  },
  {
   "cell_type": "code",
   "execution_count": 59,
   "metadata": {},
   "outputs": [
    {
     "data": {
      "text/plain": [
       "3765"
      ]
     },
     "execution_count": 59,
     "metadata": {},
     "output_type": "execute_result"
    }
   ],
   "source": [
    "len(validation)"
   ]
  },
  {
   "cell_type": "code",
   "execution_count": 60,
   "metadata": {},
   "outputs": [
    {
     "data": {
      "text/plain": [
       "0    3254\n",
       "1     511\n",
       "Name: target, dtype: int64"
      ]
     },
     "execution_count": 60,
     "metadata": {},
     "output_type": "execute_result"
    }
   ],
   "source": [
    "validation.target.value_counts()"
   ]
  },
  {
   "cell_type": "code",
   "execution_count": 61,
   "metadata": {},
   "outputs": [
    {
     "data": {
      "text/html": [
       "<div>\n",
       "<style scoped>\n",
       "    .dataframe tbody tr th:only-of-type {\n",
       "        vertical-align: middle;\n",
       "    }\n",
       "\n",
       "    .dataframe tbody tr th {\n",
       "        vertical-align: top;\n",
       "    }\n",
       "\n",
       "    .dataframe thead th {\n",
       "        text-align: right;\n",
       "    }\n",
       "</style>\n",
       "<table border=\"1\" class=\"dataframe\">\n",
       "  <thead>\n",
       "    <tr style=\"text-align: right;\">\n",
       "      <th></th>\n",
       "      <th>file</th>\n",
       "      <th>patient_id</th>\n",
       "      <th>lesion_id</th>\n",
       "      <th>gender</th>\n",
       "      <th>age</th>\n",
       "      <th>site</th>\n",
       "      <th>diagnosis</th>\n",
       "      <th>ben_mal</th>\n",
       "      <th>target</th>\n",
       "    </tr>\n",
       "  </thead>\n",
       "  <tbody>\n",
       "    <tr>\n",
       "      <th>0</th>\n",
       "      <td>ISIC_0064868</td>\n",
       "      <td>NaN</td>\n",
       "      <td>BCN_0003025</td>\n",
       "      <td>male</td>\n",
       "      <td>50.0</td>\n",
       "      <td>anterior torso</td>\n",
       "      <td>NaN</td>\n",
       "      <td>NaN</td>\n",
       "      <td>1</td>\n",
       "    </tr>\n",
       "    <tr>\n",
       "      <th>1</th>\n",
       "      <td>ISIC_0032617</td>\n",
       "      <td>NaN</td>\n",
       "      <td>HAM_0006101</td>\n",
       "      <td>male</td>\n",
       "      <td>75.0</td>\n",
       "      <td>posterior torso</td>\n",
       "      <td>NaN</td>\n",
       "      <td>NaN</td>\n",
       "      <td>1</td>\n",
       "    </tr>\n",
       "    <tr>\n",
       "      <th>2</th>\n",
       "      <td>ISIC_0061378</td>\n",
       "      <td>NaN</td>\n",
       "      <td>BCN_0001755</td>\n",
       "      <td>male</td>\n",
       "      <td>60.0</td>\n",
       "      <td>anterior torso</td>\n",
       "      <td>NaN</td>\n",
       "      <td>NaN</td>\n",
       "      <td>1</td>\n",
       "    </tr>\n",
       "    <tr>\n",
       "      <th>3</th>\n",
       "      <td>ISIC_0065382</td>\n",
       "      <td>NaN</td>\n",
       "      <td>BCN_0001728</td>\n",
       "      <td>male</td>\n",
       "      <td>50.0</td>\n",
       "      <td>anterior torso</td>\n",
       "      <td>NaN</td>\n",
       "      <td>NaN</td>\n",
       "      <td>1</td>\n",
       "    </tr>\n",
       "    <tr>\n",
       "      <th>4</th>\n",
       "      <td>ISIC_5732201</td>\n",
       "      <td>IP_8142871</td>\n",
       "      <td>IL_8516895</td>\n",
       "      <td>female</td>\n",
       "      <td>45.0</td>\n",
       "      <td>torso</td>\n",
       "      <td>melanoma</td>\n",
       "      <td>malignant</td>\n",
       "      <td>1</td>\n",
       "    </tr>\n",
       "  </tbody>\n",
       "</table>\n",
       "</div>"
      ],
      "text/plain": [
       "           file  patient_id    lesion_id  gender   age             site  \\\n",
       "0  ISIC_0064868         NaN  BCN_0003025    male  50.0   anterior torso   \n",
       "1  ISIC_0032617         NaN  HAM_0006101    male  75.0  posterior torso   \n",
       "2  ISIC_0061378         NaN  BCN_0001755    male  60.0   anterior torso   \n",
       "3  ISIC_0065382         NaN  BCN_0001728    male  50.0   anterior torso   \n",
       "4  ISIC_5732201  IP_8142871   IL_8516895  female  45.0            torso   \n",
       "\n",
       "  diagnosis    ben_mal  target  \n",
       "0       NaN        NaN       1  \n",
       "1       NaN        NaN       1  \n",
       "2       NaN        NaN       1  \n",
       "3       NaN        NaN       1  \n",
       "4  melanoma  malignant       1  "
      ]
     },
     "execution_count": 61,
     "metadata": {},
     "output_type": "execute_result"
    }
   ],
   "source": [
    "test.head()"
   ]
  },
  {
   "cell_type": "code",
   "execution_count": 62,
   "metadata": {},
   "outputs": [
    {
     "data": {
      "text/plain": [
       "3766"
      ]
     },
     "execution_count": 62,
     "metadata": {},
     "output_type": "execute_result"
    }
   ],
   "source": [
    "len(test)"
   ]
  },
  {
   "cell_type": "code",
   "execution_count": 63,
   "metadata": {},
   "outputs": [
    {
     "data": {
      "text/plain": [
       "0    3255\n",
       "1     511\n",
       "Name: target, dtype: int64"
      ]
     },
     "execution_count": 63,
     "metadata": {},
     "output_type": "execute_result"
    }
   ],
   "source": [
    "test.target.value_counts()"
   ]
  },
  {
   "cell_type": "code",
   "execution_count": 64,
   "metadata": {},
   "outputs": [],
   "source": [
    "train.to_csv(\"../data/tr.csv\")\n",
    "validation.to_csv(\"../data/val.csv\")\n",
    "test.to_csv(\"../data/tt.csv\")"
   ]
  },
  {
   "cell_type": "markdown",
   "metadata": {},
   "source": [
    "# Creating Training Dataset"
   ]
  },
  {
   "cell_type": "code",
   "execution_count": 42,
   "metadata": {},
   "outputs": [],
   "source": [
    "train['jpg'] = train.file.apply(lambda x: str(x) + '.jpg')\n",
    "mel_tr = train[train.target == 1]\n",
    "nm_tr = train[train.target == 0]\n",
    "\n",
    "mel_tr_ids = mel_tr.jpg.to_list()\n",
    "nm_tr_ids = nm_tr.jpg.to_list()"
   ]
  },
  {
   "cell_type": "code",
   "execution_count": 46,
   "metadata": {},
   "outputs": [],
   "source": [
    "images_dir = '../jpegs'\n",
    "tr_mel = '../split/train/mel'\n",
    "tr_nm = '../split/train/not_mel'"
   ]
  },
  {
   "cell_type": "code",
   "execution_count": 47,
   "metadata": {},
   "outputs": [],
   "source": [
    "mel1 = mel_tr_ids[0:1000]\n",
    "mel2 = mel_tr_ids[1000:2000]\n",
    "mel3 = mel_tr_ids[2000:3000]\n",
    "mel4 = mel_tr_ids[3000:]"
   ]
  },
  {
   "cell_type": "code",
   "execution_count": 48,
   "metadata": {},
   "outputs": [
    {
     "data": {
      "application/vnd.jupyter.widget-view+json": {
       "model_id": "d04212a60c8646fa99e29011bba0251a",
       "version_major": 2,
       "version_minor": 0
      },
      "text/plain": [
       "  0%|          | 0/1000 [00:00<?, ?it/s]"
      ]
     },
     "metadata": {},
     "output_type": "display_data"
    }
   ],
   "source": [
    "for img in tqdm(mel1):\n",
    "    shutil.move(os.path.join(images_dir, img), os.path.join(tr_mel, img))"
   ]
  },
  {
   "cell_type": "code",
   "execution_count": 49,
   "metadata": {},
   "outputs": [
    {
     "data": {
      "application/vnd.jupyter.widget-view+json": {
       "model_id": "fea0b8eb96664116b49811b25a3cfa3b",
       "version_major": 2,
       "version_minor": 0
      },
      "text/plain": [
       "  0%|          | 0/1000 [00:00<?, ?it/s]"
      ]
     },
     "metadata": {},
     "output_type": "display_data"
    }
   ],
   "source": [
    "for img in tqdm(mel2):\n",
    "    shutil.move(os.path.join(images_dir, img), os.path.join(tr_mel, img))"
   ]
  },
  {
   "cell_type": "code",
   "execution_count": 50,
   "metadata": {},
   "outputs": [
    {
     "data": {
      "application/vnd.jupyter.widget-view+json": {
       "model_id": "b65f30d936bf44e88cf8f9fa24960735",
       "version_major": 2,
       "version_minor": 0
      },
      "text/plain": [
       "  0%|          | 0/1000 [00:00<?, ?it/s]"
      ]
     },
     "metadata": {},
     "output_type": "display_data"
    }
   ],
   "source": [
    "for img in tqdm(mel3):\n",
    "    shutil.move(os.path.join(images_dir, img), os.path.join(tr_mel, img))"
   ]
  },
  {
   "cell_type": "code",
   "execution_count": 51,
   "metadata": {},
   "outputs": [
    {
     "data": {
      "application/vnd.jupyter.widget-view+json": {
       "model_id": "60a692ef77424b5199f6269d9f346910",
       "version_major": 2,
       "version_minor": 0
      },
      "text/plain": [
       "  0%|          | 0/1084 [00:00<?, ?it/s]"
      ]
     },
     "metadata": {},
     "output_type": "display_data"
    }
   ],
   "source": [
    "for img in tqdm(mel4):\n",
    "    shutil.move(os.path.join(images_dir, img), os.path.join(tr_mel, img))"
   ]
  },
  {
   "cell_type": "code",
   "execution_count": 52,
   "metadata": {},
   "outputs": [],
   "source": [
    "nm1 = nm_tr_ids[0:2000]\n",
    "nm2 = nm_tr_ids[2000:4000]\n",
    "nm3 = nm_tr_ids[4000:6000]\n",
    "nm4 = nm_tr_ids[6000:8000]\n",
    "nm5 = nm_tr_ids[8000:10000]\n",
    "nm6 = nm_tr_ids[10000:12000]\n",
    "nm7 = nm_tr_ids[12000:14000]\n",
    "nm8 = nm_tr_ids[14000:16000]\n",
    "nm9 = nm_tr_ids[16000:18000]\n",
    "nm10 = nm_tr_ids[18000:20000]\n",
    "nm11 = nm_tr_ids[20000:22000]\n",
    "nm12 = nm_tr_ids[22000:24000]\n",
    "nm13 = nm_tr_ids[24000:]"
   ]
  },
  {
   "cell_type": "code",
   "execution_count": 62,
   "metadata": {},
   "outputs": [
    {
     "data": {
      "application/vnd.jupyter.widget-view+json": {
       "model_id": "70a40b5ecb874314b966f7e58696f5af",
       "version_major": 2,
       "version_minor": 0
      },
      "text/plain": [
       "  0%|          | 0/2000 [00:00<?, ?it/s]"
      ]
     },
     "metadata": {},
     "output_type": "display_data"
    }
   ],
   "source": [
    "for img in tqdm(nm1):\n",
    "    shutil.move(os.path.join(images_dir, img), os.path.join(tr_nm, img))"
   ]
  },
  {
   "cell_type": "code",
   "execution_count": 63,
   "metadata": {},
   "outputs": [
    {
     "data": {
      "application/vnd.jupyter.widget-view+json": {
       "model_id": "41dba694a6e8434a861d8990f008b346",
       "version_major": 2,
       "version_minor": 0
      },
      "text/plain": [
       "  0%|          | 0/2000 [00:00<?, ?it/s]"
      ]
     },
     "metadata": {},
     "output_type": "display_data"
    }
   ],
   "source": [
    "for img in tqdm(nm2):\n",
    "    shutil.move(os.path.join(images_dir, img), os.path.join(tr_nm, img))"
   ]
  },
  {
   "cell_type": "code",
   "execution_count": 64,
   "metadata": {},
   "outputs": [
    {
     "data": {
      "application/vnd.jupyter.widget-view+json": {
       "model_id": "4ec564894d1d45dbac9652c0c1594161",
       "version_major": 2,
       "version_minor": 0
      },
      "text/plain": [
       "  0%|          | 0/2000 [00:00<?, ?it/s]"
      ]
     },
     "metadata": {},
     "output_type": "display_data"
    }
   ],
   "source": [
    "for img in tqdm(nm3):\n",
    "    shutil.move(os.path.join(images_dir, img), os.path.join(tr_nm, img))"
   ]
  },
  {
   "cell_type": "code",
   "execution_count": 65,
   "metadata": {},
   "outputs": [
    {
     "data": {
      "application/vnd.jupyter.widget-view+json": {
       "model_id": "55809580ea034220be39e4730e595135",
       "version_major": 2,
       "version_minor": 0
      },
      "text/plain": [
       "  0%|          | 0/2000 [00:00<?, ?it/s]"
      ]
     },
     "metadata": {},
     "output_type": "display_data"
    }
   ],
   "source": [
    "for img in tqdm(nm4):\n",
    "    shutil.move(os.path.join(images_dir, img), os.path.join(tr_nm, img))"
   ]
  },
  {
   "cell_type": "code",
   "execution_count": 66,
   "metadata": {},
   "outputs": [
    {
     "data": {
      "application/vnd.jupyter.widget-view+json": {
       "model_id": "8680f1120bda42d8aef29bece8502a10",
       "version_major": 2,
       "version_minor": 0
      },
      "text/plain": [
       "  0%|          | 0/2000 [00:00<?, ?it/s]"
      ]
     },
     "metadata": {},
     "output_type": "display_data"
    }
   ],
   "source": [
    "for img in tqdm(nm5):\n",
    "    shutil.move(os.path.join(images_dir, img), os.path.join(tr_nm, img))"
   ]
  },
  {
   "cell_type": "code",
   "execution_count": 67,
   "metadata": {},
   "outputs": [
    {
     "data": {
      "application/vnd.jupyter.widget-view+json": {
       "model_id": "d96c4f067f77413ebf7ceee8d02b1b59",
       "version_major": 2,
       "version_minor": 0
      },
      "text/plain": [
       "  0%|          | 0/2000 [00:00<?, ?it/s]"
      ]
     },
     "metadata": {},
     "output_type": "display_data"
    }
   ],
   "source": [
    "for img in tqdm(nm6):\n",
    "    shutil.move(os.path.join(images_dir, img), os.path.join(tr_nm, img))"
   ]
  },
  {
   "cell_type": "code",
   "execution_count": 68,
   "metadata": {},
   "outputs": [
    {
     "data": {
      "application/vnd.jupyter.widget-view+json": {
       "model_id": "155daad0f8b449b48be539d371904f71",
       "version_major": 2,
       "version_minor": 0
      },
      "text/plain": [
       "  0%|          | 0/2000 [00:00<?, ?it/s]"
      ]
     },
     "metadata": {},
     "output_type": "display_data"
    }
   ],
   "source": [
    "for img in tqdm(nm7):\n",
    "    shutil.move(os.path.join(images_dir, img), os.path.join(tr_nm, img))"
   ]
  },
  {
   "cell_type": "code",
   "execution_count": 69,
   "metadata": {},
   "outputs": [
    {
     "data": {
      "application/vnd.jupyter.widget-view+json": {
       "model_id": "4f7e751e28a74a78af154a44b036b526",
       "version_major": 2,
       "version_minor": 0
      },
      "text/plain": [
       "  0%|          | 0/2000 [00:00<?, ?it/s]"
      ]
     },
     "metadata": {},
     "output_type": "display_data"
    }
   ],
   "source": [
    "for img in tqdm(nm8):\n",
    "    shutil.move(os.path.join(images_dir, img), os.path.join(tr_nm, img))"
   ]
  },
  {
   "cell_type": "code",
   "execution_count": 84,
   "metadata": {},
   "outputs": [
    {
     "data": {
      "application/vnd.jupyter.widget-view+json": {
       "model_id": "79b258e512d34df4921280a491ce5c1b",
       "version_major": 2,
       "version_minor": 0
      },
      "text/plain": [
       "  0%|          | 0/2000 [00:00<?, ?it/s]"
      ]
     },
     "metadata": {},
     "output_type": "display_data"
    }
   ],
   "source": [
    "for img in tqdm(nm9):\n",
    "    shutil.move(os.path.join(images_dir, img), os.path.join(tr_nm, img))"
   ]
  },
  {
   "cell_type": "code",
   "execution_count": 85,
   "metadata": {},
   "outputs": [
    {
     "data": {
      "application/vnd.jupyter.widget-view+json": {
       "model_id": "861048563123444c914239c570f985ec",
       "version_major": 2,
       "version_minor": 0
      },
      "text/plain": [
       "  0%|          | 0/2000 [00:00<?, ?it/s]"
      ]
     },
     "metadata": {},
     "output_type": "display_data"
    }
   ],
   "source": [
    "for img in tqdm(nm10):\n",
    "    shutil.move(os.path.join(images_dir, img), os.path.join(tr_nm, img))"
   ]
  },
  {
   "cell_type": "code",
   "execution_count": 87,
   "metadata": {},
   "outputs": [
    {
     "data": {
      "application/vnd.jupyter.widget-view+json": {
       "model_id": "284ffcafe04a4f10975672258b47918d",
       "version_major": 2,
       "version_minor": 0
      },
      "text/plain": [
       "  0%|          | 0/2000 [00:00<?, ?it/s]"
      ]
     },
     "metadata": {},
     "output_type": "display_data"
    }
   ],
   "source": [
    "for img in tqdm(nm11):\n",
    "    shutil.move(os.path.join(images_dir, img), os.path.join(tr_nm, img))"
   ]
  },
  {
   "cell_type": "code",
   "execution_count": 88,
   "metadata": {},
   "outputs": [
    {
     "data": {
      "application/vnd.jupyter.widget-view+json": {
       "model_id": "3661fcc63010415187231e72f607cb7d",
       "version_major": 2,
       "version_minor": 0
      },
      "text/plain": [
       "  0%|          | 0/2000 [00:00<?, ?it/s]"
      ]
     },
     "metadata": {},
     "output_type": "display_data"
    }
   ],
   "source": [
    "for img in tqdm(nm12):\n",
    "    shutil.move(os.path.join(images_dir, img), os.path.join(tr_nm, img))"
   ]
  },
  {
   "cell_type": "code",
   "execution_count": 89,
   "metadata": {},
   "outputs": [
    {
     "data": {
      "application/vnd.jupyter.widget-view+json": {
       "model_id": "97bb3d3a4217428ca5d263145eb26572",
       "version_major": 2,
       "version_minor": 0
      },
      "text/plain": [
       "  0%|          | 0/2033 [00:00<?, ?it/s]"
      ]
     },
     "metadata": {},
     "output_type": "display_data"
    }
   ],
   "source": [
    "for img in tqdm(nm13):\n",
    "    shutil.move(os.path.join(images_dir, img), os.path.join(tr_nm, img))"
   ]
  },
  {
   "cell_type": "code",
   "execution_count": 72,
   "metadata": {},
   "outputs": [
    {
     "data": {
      "text/html": [
       "<div>\n",
       "<style scoped>\n",
       "    .dataframe tbody tr th:only-of-type {\n",
       "        vertical-align: middle;\n",
       "    }\n",
       "\n",
       "    .dataframe tbody tr th {\n",
       "        vertical-align: top;\n",
       "    }\n",
       "\n",
       "    .dataframe thead th {\n",
       "        text-align: right;\n",
       "    }\n",
       "</style>\n",
       "<table border=\"1\" class=\"dataframe\">\n",
       "  <thead>\n",
       "    <tr style=\"text-align: right;\">\n",
       "      <th></th>\n",
       "      <th>file</th>\n",
       "      <th>target</th>\n",
       "      <th>jpg</th>\n",
       "    </tr>\n",
       "  </thead>\n",
       "  <tbody>\n",
       "    <tr>\n",
       "      <th>0</th>\n",
       "      <td>ISIC_0065823</td>\n",
       "      <td>1</td>\n",
       "      <td>ISIC_0065823.jpg</td>\n",
       "    </tr>\n",
       "    <tr>\n",
       "      <th>1</th>\n",
       "      <td>ISIC_0013908_downsampled</td>\n",
       "      <td>1</td>\n",
       "      <td>ISIC_0013908_downsampled.jpg</td>\n",
       "    </tr>\n",
       "    <tr>\n",
       "      <th>2</th>\n",
       "      <td>ISIC_0054089</td>\n",
       "      <td>1</td>\n",
       "      <td>ISIC_0054089.jpg</td>\n",
       "    </tr>\n",
       "    <tr>\n",
       "      <th>3</th>\n",
       "      <td>ISIC_0061371</td>\n",
       "      <td>1</td>\n",
       "      <td>ISIC_0061371.jpg</td>\n",
       "    </tr>\n",
       "    <tr>\n",
       "      <th>4</th>\n",
       "      <td>ISIC_8702237</td>\n",
       "      <td>1</td>\n",
       "      <td>ISIC_8702237.jpg</td>\n",
       "    </tr>\n",
       "  </tbody>\n",
       "</table>\n",
       "</div>"
      ],
      "text/plain": [
       "                       file  target                           jpg\n",
       "0              ISIC_0065823       1              ISIC_0065823.jpg\n",
       "1  ISIC_0013908_downsampled       1  ISIC_0013908_downsampled.jpg\n",
       "2              ISIC_0054089       1              ISIC_0054089.jpg\n",
       "3              ISIC_0061371       1              ISIC_0061371.jpg\n",
       "4              ISIC_8702237       1              ISIC_8702237.jpg"
      ]
     },
     "execution_count": 72,
     "metadata": {},
     "output_type": "execute_result"
    }
   ],
   "source": [
    "train.head()"
   ]
  },
  {
   "cell_type": "code",
   "execution_count": 77,
   "metadata": {},
   "outputs": [
    {
     "data": {
      "text/plain": [
       "0    26033\n",
       "1     4084\n",
       "Name: target, dtype: int64"
      ]
     },
     "execution_count": 77,
     "metadata": {},
     "output_type": "execute_result"
    }
   ],
   "source": [
    "train.target.value_counts()"
   ]
  },
  {
   "cell_type": "markdown",
   "metadata": {},
   "source": [
    "## Creating Sample Training Set"
   ]
  },
  {
   "cell_type": "code",
   "execution_count": 76,
   "metadata": {},
   "outputs": [
    {
     "data": {
      "text/html": [
       "<div>\n",
       "<style scoped>\n",
       "    .dataframe tbody tr th:only-of-type {\n",
       "        vertical-align: middle;\n",
       "    }\n",
       "\n",
       "    .dataframe tbody tr th {\n",
       "        vertical-align: top;\n",
       "    }\n",
       "\n",
       "    .dataframe thead th {\n",
       "        text-align: right;\n",
       "    }\n",
       "</style>\n",
       "<table border=\"1\" class=\"dataframe\">\n",
       "  <thead>\n",
       "    <tr style=\"text-align: right;\">\n",
       "      <th></th>\n",
       "      <th>index</th>\n",
       "      <th>file</th>\n",
       "      <th>target</th>\n",
       "      <th>jpg</th>\n",
       "    </tr>\n",
       "  </thead>\n",
       "  <tbody>\n",
       "    <tr>\n",
       "      <th>0</th>\n",
       "      <td>22645</td>\n",
       "      <td>ISIC_5247383</td>\n",
       "      <td>0</td>\n",
       "      <td>ISIC_5247383.jpg</td>\n",
       "    </tr>\n",
       "    <tr>\n",
       "      <th>1</th>\n",
       "      <td>19797</td>\n",
       "      <td>ISIC_4422476</td>\n",
       "      <td>0</td>\n",
       "      <td>ISIC_4422476.jpg</td>\n",
       "    </tr>\n",
       "    <tr>\n",
       "      <th>2</th>\n",
       "      <td>18060</td>\n",
       "      <td>ISIC_8124459</td>\n",
       "      <td>0</td>\n",
       "      <td>ISIC_8124459.jpg</td>\n",
       "    </tr>\n",
       "    <tr>\n",
       "      <th>3</th>\n",
       "      <td>29506</td>\n",
       "      <td>ISIC_1669883</td>\n",
       "      <td>0</td>\n",
       "      <td>ISIC_1669883.jpg</td>\n",
       "    </tr>\n",
       "    <tr>\n",
       "      <th>4</th>\n",
       "      <td>17825</td>\n",
       "      <td>ISIC_5842418</td>\n",
       "      <td>0</td>\n",
       "      <td>ISIC_5842418.jpg</td>\n",
       "    </tr>\n",
       "  </tbody>\n",
       "</table>\n",
       "</div>"
      ],
      "text/plain": [
       "   index          file  target               jpg\n",
       "0  22645  ISIC_5247383       0  ISIC_5247383.jpg\n",
       "1  19797  ISIC_4422476       0  ISIC_4422476.jpg\n",
       "2  18060  ISIC_8124459       0  ISIC_8124459.jpg\n",
       "3  29506  ISIC_1669883       0  ISIC_1669883.jpg\n",
       "4  17825  ISIC_5842418       0  ISIC_5842418.jpg"
      ]
     },
     "execution_count": 76,
     "metadata": {},
     "output_type": "execute_result"
    }
   ],
   "source": [
    "strat_tr = stratified_sample(df = train2, strata = ['target'], size = 0.2, seed = 42)\n",
    "strat_tr.head()"
   ]
  },
  {
   "cell_type": "code",
   "execution_count": 78,
   "metadata": {},
   "outputs": [
    {
     "data": {
      "text/plain": [
       "0    5206\n",
       "1     817\n",
       "Name: target, dtype: int64"
      ]
     },
     "execution_count": 78,
     "metadata": {},
     "output_type": "execute_result"
    }
   ],
   "source": [
    "strat_tr.target.value_counts()              "
   ]
  },
  {
   "cell_type": "code",
   "execution_count": 90,
   "metadata": {},
   "outputs": [],
   "source": [
    "samp_mel_tr = strat_tr[strat_tr.target == 1]\n",
    "samp_nm_tr = strat_tr[strat_tr.target == 0]\n",
    "\n",
    "samp_mel_tr_ids = samp_mel_tr.jpg.to_list()\n",
    "samp_nm_tr_ids = samp_nm_tr.jpg.to_list()"
   ]
  },
  {
   "cell_type": "code",
   "execution_count": 91,
   "metadata": {},
   "outputs": [],
   "source": [
    "tr_mel_ori = '../split/train/mel'\n",
    "tr_mel_dest = '../sample/train/mel'\n",
    "tr_nm_ori = '../split/train/not_mel'\n",
    "tr_nm_dest = '../sample/train/not_mel'"
   ]
  },
  {
   "cell_type": "code",
   "execution_count": 92,
   "metadata": {},
   "outputs": [
    {
     "data": {
      "application/vnd.jupyter.widget-view+json": {
       "model_id": "23f36a1be41e4f9f82a5f99383ea2544",
       "version_major": 2,
       "version_minor": 0
      },
      "text/plain": [
       "  0%|          | 0/817 [00:00<?, ?it/s]"
      ]
     },
     "metadata": {},
     "output_type": "display_data"
    }
   ],
   "source": [
    "for img in tqdm(samp_mel_tr_ids):\n",
    "    shutil.copyfile(os.path.join(tr_mel_ori, img), os.path.join(tr_mel_dest, img))"
   ]
  },
  {
   "cell_type": "code",
   "execution_count": 93,
   "metadata": {},
   "outputs": [],
   "source": [
    "sam_tr_1 = samp_nm_tr_ids[0:2000]\n",
    "sam_tr_2 = samp_nm_tr_ids[2000:4000]\n",
    "sam_tr_3 = samp_nm_tr_ids[4000:] "
   ]
  },
  {
   "cell_type": "code",
   "execution_count": 94,
   "metadata": {},
   "outputs": [
    {
     "data": {
      "application/vnd.jupyter.widget-view+json": {
       "model_id": "63f1c3784a6340aeb57e79476d1bedb2",
       "version_major": 2,
       "version_minor": 0
      },
      "text/plain": [
       "  0%|          | 0/2000 [00:00<?, ?it/s]"
      ]
     },
     "metadata": {},
     "output_type": "display_data"
    }
   ],
   "source": [
    "for img in tqdm(sam_tr_1):\n",
    "    shutil.copyfile(os.path.join(tr_nm_ori, img), os.path.join(tr_nm_dest, img))"
   ]
  },
  {
   "cell_type": "code",
   "execution_count": 95,
   "metadata": {},
   "outputs": [
    {
     "data": {
      "application/vnd.jupyter.widget-view+json": {
       "model_id": "1cb0d99a96f541098b0769e85aa618fd",
       "version_major": 2,
       "version_minor": 0
      },
      "text/plain": [
       "  0%|          | 0/2000 [00:00<?, ?it/s]"
      ]
     },
     "metadata": {},
     "output_type": "display_data"
    }
   ],
   "source": [
    "for img in tqdm(sam_tr_2):\n",
    "    shutil.copyfile(os.path.join(tr_nm_ori, img), os.path.join(tr_nm_dest, img))"
   ]
  },
  {
   "cell_type": "code",
   "execution_count": 96,
   "metadata": {},
   "outputs": [
    {
     "data": {
      "application/vnd.jupyter.widget-view+json": {
       "model_id": "ed4677adfb114550986b42a65f03073e",
       "version_major": 2,
       "version_minor": 0
      },
      "text/plain": [
       "  0%|          | 0/1206 [00:00<?, ?it/s]"
      ]
     },
     "metadata": {},
     "output_type": "display_data"
    }
   ],
   "source": [
    "for img in tqdm(sam_tr_3):\n",
    "    shutil.copyfile(os.path.join(tr_nm_ori, img), os.path.join(tr_nm_dest, img))"
   ]
  },
  {
   "cell_type": "markdown",
   "metadata": {},
   "source": [
    "# Creating Validation Dataset"
   ]
  },
  {
   "cell_type": "code",
   "execution_count": 75,
   "metadata": {},
   "outputs": [],
   "source": [
    "validation['jpg'] = validation.file.apply(lambda x: str(x) + '.jpg')\n",
    "mel_val = validation[validation.target == 1]\n",
    "nm_val = validation[validation.target == 0]\n",
    "\n",
    "mel_val_ids = mel_val.jpg.to_list()\n",
    "nm_val_ids = nm_val.jpg.to_list()"
   ]
  },
  {
   "cell_type": "code",
   "execution_count": 54,
   "metadata": {},
   "outputs": [],
   "source": [
    "images_dir = '../jpegs'\n",
    "val_mel = '../split/val/mel'\n",
    "val_nm = '../split/val/not_mel'"
   ]
  },
  {
   "cell_type": "code",
   "execution_count": 55,
   "metadata": {},
   "outputs": [],
   "source": [
    "for img in mel_val_ids:\n",
    "    shutil.move(os.path.join(images_dir, img), os.path.join(val_mel, img))"
   ]
  },
  {
   "cell_type": "code",
   "execution_count": 60,
   "metadata": {},
   "outputs": [],
   "source": [
    "val_nm1 = nm_val_ids[0:2000]\n",
    "val_nm3 = nm_val_ids[2000:4000]\n",
    "val_nm2 = nm_val_ids[4000:]\n"
   ]
  },
  {
   "cell_type": "code",
   "execution_count": 58,
   "metadata": {},
   "outputs": [
    {
     "data": {
      "application/vnd.jupyter.widget-view+json": {
       "model_id": "54590fbded974cf6ab2f621b946ab14b",
       "version_major": 2,
       "version_minor": 0
      },
      "text/plain": [
       "  0%|          | 0/2000 [00:00<?, ?it/s]"
      ]
     },
     "metadata": {},
     "output_type": "display_data"
    }
   ],
   "source": [
    "for img in tqdm(val_nm1):\n",
    "    shutil.move(os.path.join(images_dir, img), os.path.join(val_nm, img))"
   ]
  },
  {
   "cell_type": "code",
   "execution_count": 59,
   "metadata": {},
   "outputs": [
    {
     "data": {
      "application/vnd.jupyter.widget-view+json": {
       "model_id": "8bebdc0360e446d792a1eaf65fa0224b",
       "version_major": 2,
       "version_minor": 0
      },
      "text/plain": [
       "  0%|          | 0/2509 [00:00<?, ?it/s]"
      ]
     },
     "metadata": {},
     "output_type": "display_data"
    }
   ],
   "source": [
    "for img in tqdm(val_nm2):\n",
    "    shutil.move(os.path.join(images_dir, img), os.path.join(val_nm, img))"
   ]
  },
  {
   "cell_type": "code",
   "execution_count": 61,
   "metadata": {},
   "outputs": [
    {
     "data": {
      "application/vnd.jupyter.widget-view+json": {
       "model_id": "5d8a3d09fce940f78733bd21943c1ffe",
       "version_major": 2,
       "version_minor": 0
      },
      "text/plain": [
       "  0%|          | 0/2000 [00:00<?, ?it/s]"
      ]
     },
     "metadata": {},
     "output_type": "display_data"
    }
   ],
   "source": [
    "for img in tqdm(val_nm3):\n",
    "    shutil.move(os.path.join(images_dir, img), os.path.join(val_nm, img))"
   ]
  },
  {
   "cell_type": "markdown",
   "metadata": {},
   "source": [
    "## Sample Validation Set"
   ]
  },
  {
   "cell_type": "code",
   "execution_count": 84,
   "metadata": {},
   "outputs": [
    {
     "data": {
      "text/html": [
       "<div>\n",
       "<style scoped>\n",
       "    .dataframe tbody tr th:only-of-type {\n",
       "        vertical-align: middle;\n",
       "    }\n",
       "\n",
       "    .dataframe tbody tr th {\n",
       "        vertical-align: top;\n",
       "    }\n",
       "\n",
       "    .dataframe thead th {\n",
       "        text-align: right;\n",
       "    }\n",
       "</style>\n",
       "<table border=\"1\" class=\"dataframe\">\n",
       "  <thead>\n",
       "    <tr style=\"text-align: right;\">\n",
       "      <th></th>\n",
       "      <th>file</th>\n",
       "      <th>target</th>\n",
       "      <th>jpg</th>\n",
       "    </tr>\n",
       "  </thead>\n",
       "  <tbody>\n",
       "    <tr>\n",
       "      <th>0</th>\n",
       "      <td>ISIC_0066678</td>\n",
       "      <td>1</td>\n",
       "      <td>ISIC_0066678.jpg</td>\n",
       "    </tr>\n",
       "    <tr>\n",
       "      <th>1</th>\n",
       "      <td>ISIC_0057668</td>\n",
       "      <td>1</td>\n",
       "      <td>ISIC_0057668.jpg</td>\n",
       "    </tr>\n",
       "    <tr>\n",
       "      <th>2</th>\n",
       "      <td>ISIC_0053843</td>\n",
       "      <td>1</td>\n",
       "      <td>ISIC_0053843.jpg</td>\n",
       "    </tr>\n",
       "    <tr>\n",
       "      <th>3</th>\n",
       "      <td>ISIC_0072218</td>\n",
       "      <td>1</td>\n",
       "      <td>ISIC_0072218.jpg</td>\n",
       "    </tr>\n",
       "    <tr>\n",
       "      <th>4</th>\n",
       "      <td>ISIC_0032685</td>\n",
       "      <td>1</td>\n",
       "      <td>ISIC_0032685.jpg</td>\n",
       "    </tr>\n",
       "  </tbody>\n",
       "</table>\n",
       "</div>"
      ],
      "text/plain": [
       "           file  target               jpg\n",
       "0  ISIC_0066678       1  ISIC_0066678.jpg\n",
       "1  ISIC_0057668       1  ISIC_0057668.jpg\n",
       "2  ISIC_0053843       1  ISIC_0053843.jpg\n",
       "3  ISIC_0072218       1  ISIC_0072218.jpg\n",
       "4  ISIC_0032685       1  ISIC_0032685.jpg"
      ]
     },
     "execution_count": 84,
     "metadata": {},
     "output_type": "execute_result"
    }
   ],
   "source": [
    "validation.head()"
   ]
  },
  {
   "cell_type": "code",
   "execution_count": 85,
   "metadata": {},
   "outputs": [
    {
     "data": {
      "text/plain": [
       "0    3254\n",
       "1     511\n",
       "Name: target, dtype: int64"
      ]
     },
     "execution_count": 85,
     "metadata": {},
     "output_type": "execute_result"
    }
   ],
   "source": [
    "validation.target.value_counts()"
   ]
  },
  {
   "cell_type": "markdown",
   "metadata": {},
   "source": [
    "## Creating Sample Validation Set"
   ]
  },
  {
   "cell_type": "code",
   "execution_count": 86,
   "metadata": {},
   "outputs": [],
   "source": [
    "strat_val = stratified_sample(df = validation, strata = ['target'], size = 0.2, seed = 42)"
   ]
  },
  {
   "cell_type": "code",
   "execution_count": 87,
   "metadata": {},
   "outputs": [
    {
     "data": {
      "text/plain": [
       "0    651\n",
       "1    102\n",
       "Name: target, dtype: int64"
      ]
     },
     "execution_count": 87,
     "metadata": {},
     "output_type": "execute_result"
    }
   ],
   "source": [
    "strat_val.target.value_counts()"
   ]
  },
  {
   "cell_type": "code",
   "execution_count": 94,
   "metadata": {},
   "outputs": [],
   "source": [
    "val_mel_ori = '../split/val/mel'\n",
    "val_mel_dest = '../sample/val/mel'\n",
    "val_nm_ori = '../split/val/not_mel'\n",
    "val_nm_dest = '../sample/val/not_mel'"
   ]
  },
  {
   "cell_type": "code",
   "execution_count": 95,
   "metadata": {},
   "outputs": [],
   "source": [
    "samp_mel_val = strat_val[strat_val.target == 1]\n",
    "samp_nm_val = strat_val[strat_val.target == 0]\n",
    "\n",
    "samp_mel_val_ids = samp_mel_val.jpg.to_list()\n",
    "samp_nm_val_ids = samp_nm_val.jpg.to_list()"
   ]
  },
  {
   "cell_type": "code",
   "execution_count": 96,
   "metadata": {},
   "outputs": [
    {
     "data": {
      "application/vnd.jupyter.widget-view+json": {
       "model_id": "fa0929b6d7b040c19bfb1cdeeb9ff4f4",
       "version_major": 2,
       "version_minor": 0
      },
      "text/plain": [
       "  0%|          | 0/102 [00:00<?, ?it/s]"
      ]
     },
     "metadata": {},
     "output_type": "display_data"
    }
   ],
   "source": [
    "for img in tqdm(samp_mel_val_ids):\n",
    "    shutil.copyfile(os.path.join(val_mel_ori, img), os.path.join(val_mel_dest, img))"
   ]
  },
  {
   "cell_type": "code",
   "execution_count": 97,
   "metadata": {},
   "outputs": [
    {
     "data": {
      "application/vnd.jupyter.widget-view+json": {
       "model_id": "7ec31dbbd2ee49efba09d1bda4bf6fee",
       "version_major": 2,
       "version_minor": 0
      },
      "text/plain": [
       "  0%|          | 0/651 [00:00<?, ?it/s]"
      ]
     },
     "metadata": {},
     "output_type": "display_data"
    }
   ],
   "source": [
    "for img in tqdm(samp_nm_val_ids):\n",
    "    shutil.copyfile(os.path.join(val_nm_ori, img), os.path.join(val_nm_dest, img))"
   ]
  },
  {
   "cell_type": "markdown",
   "metadata": {},
   "source": [
    "# Creating Testing Set"
   ]
  },
  {
   "cell_type": "code",
   "execution_count": 76,
   "metadata": {},
   "outputs": [],
   "source": [
    "test['jpg'] = test.file.apply(lambda x: str(x) + '.jpg')\n",
    "mel_tt = test[test.target == 1]\n",
    "nm_tt = test[test.target == 0]\n",
    "\n",
    "mel_tt_ids = mel_tt.jpg.to_list()\n",
    "nm_tt_ids = nm_tt.jpg.to_list()"
   ]
  },
  {
   "cell_type": "code",
   "execution_count": 78,
   "metadata": {},
   "outputs": [],
   "source": [
    "# direc = '../split/te/'\n",
    "\n",
    "# os.mkdir('../split/test/mel')\n",
    "# os.mkdir('../split/test/non_mel')\n",
    "\n",
    "direc = '../split/val/mel/'\n",
    "direc2 = '../split/val/not_mel'\n",
    "direc3 = '../split/test/mel'\n",
    "direc4 = '../split/test/not_mel'"
   ]
  },
  {
   "cell_type": "code",
   "execution_count": 81,
   "metadata": {},
   "outputs": [
    {
     "data": {
      "application/vnd.jupyter.widget-view+json": {
       "model_id": "5849a72ab8754d849d68126aa2b4b3b2",
       "version_major": 2,
       "version_minor": 0
      },
      "text/plain": [
       "  0%|          | 0/3255 [00:00<?, ?it/s]"
      ]
     },
     "metadata": {},
     "output_type": "display_data"
    }
   ],
   "source": [
    "for img in tqdm(nm_tt_ids):\n",
    "    shutil.move(os.path.join(direc2, img), os.path.join(direc4, img))"
   ]
  },
  {
   "cell_type": "code",
   "execution_count": 80,
   "metadata": {},
   "outputs": [
    {
     "data": {
      "application/vnd.jupyter.widget-view+json": {
       "model_id": "8872d67a22394f11a26b1673dc4251e6",
       "version_major": 2,
       "version_minor": 0
      },
      "text/plain": [
       "  0%|          | 0/511 [00:00<?, ?it/s]"
      ]
     },
     "metadata": {},
     "output_type": "display_data"
    }
   ],
   "source": [
    "for img in tqdm(mel_tt_ids):\n",
    "    shutil.move(os.path.join(direc, img), os.path.join(direc3, img))"
   ]
  },
  {
   "cell_type": "code",
   "execution_count": 82,
   "metadata": {},
   "outputs": [
    {
     "data": {
      "text/html": [
       "<div>\n",
       "<style scoped>\n",
       "    .dataframe tbody tr th:only-of-type {\n",
       "        vertical-align: middle;\n",
       "    }\n",
       "\n",
       "    .dataframe tbody tr th {\n",
       "        vertical-align: top;\n",
       "    }\n",
       "\n",
       "    .dataframe thead th {\n",
       "        text-align: right;\n",
       "    }\n",
       "</style>\n",
       "<table border=\"1\" class=\"dataframe\">\n",
       "  <thead>\n",
       "    <tr style=\"text-align: right;\">\n",
       "      <th></th>\n",
       "      <th>file</th>\n",
       "      <th>target</th>\n",
       "      <th>jpg</th>\n",
       "    </tr>\n",
       "  </thead>\n",
       "  <tbody>\n",
       "    <tr>\n",
       "      <th>0</th>\n",
       "      <td>ISIC_0064868</td>\n",
       "      <td>1</td>\n",
       "      <td>ISIC_0064868.jpg</td>\n",
       "    </tr>\n",
       "    <tr>\n",
       "      <th>1</th>\n",
       "      <td>ISIC_0032617</td>\n",
       "      <td>1</td>\n",
       "      <td>ISIC_0032617.jpg</td>\n",
       "    </tr>\n",
       "    <tr>\n",
       "      <th>2</th>\n",
       "      <td>ISIC_0061378</td>\n",
       "      <td>1</td>\n",
       "      <td>ISIC_0061378.jpg</td>\n",
       "    </tr>\n",
       "    <tr>\n",
       "      <th>3</th>\n",
       "      <td>ISIC_0065382</td>\n",
       "      <td>1</td>\n",
       "      <td>ISIC_0065382.jpg</td>\n",
       "    </tr>\n",
       "    <tr>\n",
       "      <th>4</th>\n",
       "      <td>ISIC_5732201</td>\n",
       "      <td>1</td>\n",
       "      <td>ISIC_5732201.jpg</td>\n",
       "    </tr>\n",
       "  </tbody>\n",
       "</table>\n",
       "</div>"
      ],
      "text/plain": [
       "           file  target               jpg\n",
       "0  ISIC_0064868       1  ISIC_0064868.jpg\n",
       "1  ISIC_0032617       1  ISIC_0032617.jpg\n",
       "2  ISIC_0061378       1  ISIC_0061378.jpg\n",
       "3  ISIC_0065382       1  ISIC_0065382.jpg\n",
       "4  ISIC_5732201       1  ISIC_5732201.jpg"
      ]
     },
     "execution_count": 82,
     "metadata": {},
     "output_type": "execute_result"
    }
   ],
   "source": [
    "test.head()"
   ]
  },
  {
   "cell_type": "code",
   "execution_count": 83,
   "metadata": {},
   "outputs": [
    {
     "data": {
      "text/plain": [
       "0    3255\n",
       "1     511\n",
       "Name: target, dtype: int64"
      ]
     },
     "execution_count": 83,
     "metadata": {},
     "output_type": "execute_result"
    }
   ],
   "source": [
    "test.target.value_counts()"
   ]
  },
  {
   "cell_type": "markdown",
   "metadata": {},
   "source": [
    "## Creating Sample Testing Set"
   ]
  },
  {
   "cell_type": "code",
   "execution_count": 90,
   "metadata": {},
   "outputs": [],
   "source": [
    "strat_tt = stratified_sample(df = test, strata = ['target'], size = 0.2, seed = 42)"
   ]
  },
  {
   "cell_type": "code",
   "execution_count": 91,
   "metadata": {},
   "outputs": [
    {
     "data": {
      "text/plain": [
       "0    651\n",
       "1    102\n",
       "Name: target, dtype: int64"
      ]
     },
     "execution_count": 91,
     "metadata": {},
     "output_type": "execute_result"
    }
   ],
   "source": [
    "strat_tt.target.value_counts()"
   ]
  },
  {
   "cell_type": "code",
   "execution_count": 98,
   "metadata": {},
   "outputs": [],
   "source": [
    "tt_mel_ori = '../split/test/mel'\n",
    "tt_mel_dest = '../sample/test/mel'\n",
    "tt_nm_ori = '../split/test/not_mel'\n",
    "tt_nm_dest = '../sample/test/not_mel'"
   ]
  },
  {
   "cell_type": "code",
   "execution_count": 99,
   "metadata": {},
   "outputs": [],
   "source": [
    "samp_mel_tt = strat_tt[strat_tt.target == 1]\n",
    "samp_nm_tt = strat_tt[strat_tt.target == 0]\n",
    "\n",
    "samp_mel_tt_ids = samp_mel_tt.jpg.to_list()\n",
    "samp_nm_tt_ids = samp_nm_tt.jpg.to_list()"
   ]
  },
  {
   "cell_type": "code",
   "execution_count": 102,
   "metadata": {},
   "outputs": [
    {
     "data": {
      "application/vnd.jupyter.widget-view+json": {
       "model_id": "bfc3a9d41d4e40d2bad95e849e35ab47",
       "version_major": 2,
       "version_minor": 0
      },
      "text/plain": [
       "  0%|          | 0/102 [00:00<?, ?it/s]"
      ]
     },
     "metadata": {},
     "output_type": "display_data"
    }
   ],
   "source": [
    "for img in tqdm(samp_mel_tt_ids):\n",
    "    shutil.copyfile(os.path.join(tt_mel_ori, img), os.path.join(tt_mel_dest, img))"
   ]
  },
  {
   "cell_type": "code",
   "execution_count": 103,
   "metadata": {},
   "outputs": [
    {
     "data": {
      "application/vnd.jupyter.widget-view+json": {
       "model_id": "13a5d4a62b4446b48bb9fcf79709ccf9",
       "version_major": 2,
       "version_minor": 0
      },
      "text/plain": [
       "  0%|          | 0/651 [00:00<?, ?it/s]"
      ]
     },
     "metadata": {},
     "output_type": "display_data"
    }
   ],
   "source": [
    "for img in tqdm(samp_nm_tt_ids):\n",
    "    shutil.copyfile(os.path.join(tt_nm_ori, img), os.path.join(tt_nm_dest, img))"
   ]
  }
 ],
 "metadata": {
  "kernelspec": {
   "display_name": "Python 3.6.13 64-bit ('nn-env': conda)",
   "name": "python3613jvsc74a57bd06555959b910bb7a8fb6f47a2dcc8365b919d4ffbc6f566ad680344e31443b77e"
  },
  "language_info": {
   "codemirror_mode": {
    "name": "ipython",
    "version": 3
   },
   "file_extension": ".py",
   "mimetype": "text/x-python",
   "name": "python",
   "nbconvert_exporter": "python",
   "pygments_lexer": "ipython3",
   "version": "3.6.13"
  },
  "orig_nbformat": 2
 },
 "nbformat": 4,
 "nbformat_minor": 2
}
