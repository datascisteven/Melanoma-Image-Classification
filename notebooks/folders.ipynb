{
 "metadata": {
  "language_info": {
   "codemirror_mode": {
    "name": "ipython",
    "version": 3
   },
   "file_extension": ".py",
   "mimetype": "text/x-python",
   "name": "python",
   "nbconvert_exporter": "python",
   "pygments_lexer": "ipython3",
   "version": "3.6.13-final"
  },
  "orig_nbformat": 2,
  "kernelspec": {
   "name": "python3",
   "display_name": "Python 3.6.13 64-bit ('nn-env': conda)",
   "metadata": {
    "interpreter": {
     "hash": "6555959b910bb7a8fb6f47a2dcc8365b919d4ffbc6f566ad680344e31443b77e"
    }
   }
  }
 },
 "nbformat": 4,
 "nbformat_minor": 2,
 "cells": [
  {
   "cell_type": "code",
   "execution_count": 1,
   "metadata": {},
   "outputs": [],
   "source": [
    "import numpy as np\n",
    "import pandas as pd\n",
    "import matplotlib.pyplot as plt\n",
    "%matplotlib inline\n",
    "import seaborn as sns\n",
    "import pydicom as dicom\n",
    "import os, sys, time, shutil, scipy, cv2, json, datetime\n",
    "import PIL.Image\n",
    "from tqdm.notebook import tqdm\n",
    "\n",
    "import warnings\n",
    "warnings.simplefilter(\"ignore\")\n",
    "\n",
    "from sklearn.model_selection import train_test_split\n"
   ]
  },
  {
   "source": [
    "# Dataset 1 (Train and Validation)"
   ],
   "cell_type": "markdown",
   "metadata": {}
  },
  {
   "cell_type": "code",
   "execution_count": 37,
   "metadata": {},
   "outputs": [
    {
     "output_type": "execute_result",
     "data": {
      "text/plain": [
       "           file  patient_id   lesion_id  gender   age             site  \\\n",
       "0  ISIC_2637011  IP_7279968  IL_7972535    male  45.0        head/neck   \n",
       "1  ISIC_0015719  IP_3075186  IL_4649854  female  45.0  upper extremity   \n",
       "2  ISIC_0052212  IP_2842074  IL_9087444  female  50.0  lower extremity   \n",
       "3  ISIC_0068279  IP_6890425  IL_4255399  female  45.0        head/neck   \n",
       "4  ISIC_0074268  IP_8723313  IL_6898037  female  55.0  upper extremity   \n",
       "\n",
       "  diagnosis ben_mal  target  gen_enc  site_enc  diag_enc  \n",
       "0   unknown  benign       0        1         0         8  \n",
       "1   unknown  benign       0        0         6         8  \n",
       "2     nevus  benign       0        0         1         5  \n",
       "3   unknown  benign       0        0         0         8  \n",
       "4   unknown  benign       0        0         6         8  "
      ],
      "text/html": "<div>\n<style scoped>\n    .dataframe tbody tr th:only-of-type {\n        vertical-align: middle;\n    }\n\n    .dataframe tbody tr th {\n        vertical-align: top;\n    }\n\n    .dataframe thead th {\n        text-align: right;\n    }\n</style>\n<table border=\"1\" class=\"dataframe\">\n  <thead>\n    <tr style=\"text-align: right;\">\n      <th></th>\n      <th>file</th>\n      <th>patient_id</th>\n      <th>lesion_id</th>\n      <th>gender</th>\n      <th>age</th>\n      <th>site</th>\n      <th>diagnosis</th>\n      <th>ben_mal</th>\n      <th>target</th>\n      <th>gen_enc</th>\n      <th>site_enc</th>\n      <th>diag_enc</th>\n    </tr>\n  </thead>\n  <tbody>\n    <tr>\n      <th>0</th>\n      <td>ISIC_2637011</td>\n      <td>IP_7279968</td>\n      <td>IL_7972535</td>\n      <td>male</td>\n      <td>45.0</td>\n      <td>head/neck</td>\n      <td>unknown</td>\n      <td>benign</td>\n      <td>0</td>\n      <td>1</td>\n      <td>0</td>\n      <td>8</td>\n    </tr>\n    <tr>\n      <th>1</th>\n      <td>ISIC_0015719</td>\n      <td>IP_3075186</td>\n      <td>IL_4649854</td>\n      <td>female</td>\n      <td>45.0</td>\n      <td>upper extremity</td>\n      <td>unknown</td>\n      <td>benign</td>\n      <td>0</td>\n      <td>0</td>\n      <td>6</td>\n      <td>8</td>\n    </tr>\n    <tr>\n      <th>2</th>\n      <td>ISIC_0052212</td>\n      <td>IP_2842074</td>\n      <td>IL_9087444</td>\n      <td>female</td>\n      <td>50.0</td>\n      <td>lower extremity</td>\n      <td>nevus</td>\n      <td>benign</td>\n      <td>0</td>\n      <td>0</td>\n      <td>1</td>\n      <td>5</td>\n    </tr>\n    <tr>\n      <th>3</th>\n      <td>ISIC_0068279</td>\n      <td>IP_6890425</td>\n      <td>IL_4255399</td>\n      <td>female</td>\n      <td>45.0</td>\n      <td>head/neck</td>\n      <td>unknown</td>\n      <td>benign</td>\n      <td>0</td>\n      <td>0</td>\n      <td>0</td>\n      <td>8</td>\n    </tr>\n    <tr>\n      <th>4</th>\n      <td>ISIC_0074268</td>\n      <td>IP_8723313</td>\n      <td>IL_6898037</td>\n      <td>female</td>\n      <td>55.0</td>\n      <td>upper extremity</td>\n      <td>unknown</td>\n      <td>benign</td>\n      <td>0</td>\n      <td>0</td>\n      <td>6</td>\n      <td>8</td>\n    </tr>\n  </tbody>\n</table>\n</div>"
     },
     "metadata": {},
     "execution_count": 37
    }
   ],
   "source": [
    "df = pd.read_csv('../data/train_df.csv', index_col=0)\n",
    "df.head()"
   ]
  },
  {
   "cell_type": "code",
   "execution_count": 38,
   "metadata": {},
   "outputs": [
    {
     "output_type": "stream",
     "name": "stdout",
     "text": [
      "<class 'pandas.core.frame.DataFrame'>\nInt64Index: 33126 entries, 0 to 33125\nData columns (total 12 columns):\n #   Column      Non-Null Count  Dtype  \n---  ------      --------------  -----  \n 0   file        33126 non-null  object \n 1   patient_id  33126 non-null  object \n 2   lesion_id   33126 non-null  object \n 3   gender      33126 non-null  object \n 4   age         33126 non-null  float64\n 5   site        33126 non-null  object \n 6   diagnosis   33126 non-null  object \n 7   ben_mal     33126 non-null  object \n 8   target      33126 non-null  int64  \n 9   gen_enc     33126 non-null  int64  \n 10  site_enc    33126 non-null  int64  \n 11  diag_enc    33126 non-null  int64  \ndtypes: float64(1), int64(4), object(7)\nmemory usage: 3.3+ MB\n"
     ]
    }
   ],
   "source": [
    "df.info()"
   ]
  },
  {
   "cell_type": "code",
   "execution_count": 39,
   "metadata": {},
   "outputs": [],
   "source": [
    "melanoma = df[df.target == 1]\n",
    "non_melanoma = df[df.target == 0]\n",
    "y_mel = melanoma.target\n",
    "X_mel = melanoma.drop(columns=['target'], axis=1)\n",
    "y_non_mel = non_melanoma.target\n",
    "X_non_mel = non_melanoma.drop(columns=['target'], axis=1)"
   ]
  },
  {
   "cell_type": "code",
   "execution_count": 40,
   "metadata": {},
   "outputs": [],
   "source": [
    "X_tr_m, X_val_m, y_tr_m, y_val_m = train_test_split(X_mel, y_mel, random_state=42, test_size=0.2)\n",
    "X_tr_nm, X_val_nm, y_tr_nm, y_val_nm = train_test_split(X_non_mel, y_non_mel, random_state=42, test_size=0.2)\n",
    "\n",
    "mel_train = pd.concat([X_tr_m, y_tr_m], axis=1)\n",
    "non_mel_train = pd.concat([X_tr_nm, y_tr_nm], axis=1)\n",
    "mel_val = pd.concat([X_val_m, y_val_m], axis=1)\n",
    "non_mel_val = pd.concat([X_val_nm, y_val_nm], axis=1)\n",
    "\n",
    "train = pd.concat([mel_train, non_mel_train], axis=0)\n",
    "validation = pd.concat([mel_val, non_mel_val], axis=0)\n",
    "train = train.reset_index(drop=True)\n",
    "validation = validation.reset_index(drop=True)"
   ]
  },
  {
   "cell_type": "code",
   "execution_count": 41,
   "metadata": {},
   "outputs": [
    {
     "output_type": "execute_result",
     "data": {
      "text/plain": [
       "           file  patient_id   lesion_id  gender   age             site  \\\n",
       "0  ISIC_1569119  IP_6120178  IL_3157235    male  65.0            torso   \n",
       "1  ISIC_7536704  IP_3994607  IL_1685088    male  75.0            torso   \n",
       "2  ISIC_3696488  IP_6051587  IL_8878499  female  90.0  upper extremity   \n",
       "3  ISIC_3343475  IP_4576785  IL_9262145    male  80.0        head/neck   \n",
       "4  ISIC_7785723  IP_8447624  IL_2711936  female  50.0  lower extremity   \n",
       "\n",
       "  diagnosis    ben_mal  gen_enc  site_enc  diag_enc  target  \n",
       "0  melanoma  malignant        1         4         4       1  \n",
       "1  melanoma  malignant        1         4         4       1  \n",
       "2  melanoma  malignant        0         6         4       1  \n",
       "3  melanoma  malignant        1         0         4       1  \n",
       "4  melanoma  malignant        0         1         4       1  "
      ],
      "text/html": "<div>\n<style scoped>\n    .dataframe tbody tr th:only-of-type {\n        vertical-align: middle;\n    }\n\n    .dataframe tbody tr th {\n        vertical-align: top;\n    }\n\n    .dataframe thead th {\n        text-align: right;\n    }\n</style>\n<table border=\"1\" class=\"dataframe\">\n  <thead>\n    <tr style=\"text-align: right;\">\n      <th></th>\n      <th>file</th>\n      <th>patient_id</th>\n      <th>lesion_id</th>\n      <th>gender</th>\n      <th>age</th>\n      <th>site</th>\n      <th>diagnosis</th>\n      <th>ben_mal</th>\n      <th>gen_enc</th>\n      <th>site_enc</th>\n      <th>diag_enc</th>\n      <th>target</th>\n    </tr>\n  </thead>\n  <tbody>\n    <tr>\n      <th>0</th>\n      <td>ISIC_1569119</td>\n      <td>IP_6120178</td>\n      <td>IL_3157235</td>\n      <td>male</td>\n      <td>65.0</td>\n      <td>torso</td>\n      <td>melanoma</td>\n      <td>malignant</td>\n      <td>1</td>\n      <td>4</td>\n      <td>4</td>\n      <td>1</td>\n    </tr>\n    <tr>\n      <th>1</th>\n      <td>ISIC_7536704</td>\n      <td>IP_3994607</td>\n      <td>IL_1685088</td>\n      <td>male</td>\n      <td>75.0</td>\n      <td>torso</td>\n      <td>melanoma</td>\n      <td>malignant</td>\n      <td>1</td>\n      <td>4</td>\n      <td>4</td>\n      <td>1</td>\n    </tr>\n    <tr>\n      <th>2</th>\n      <td>ISIC_3696488</td>\n      <td>IP_6051587</td>\n      <td>IL_8878499</td>\n      <td>female</td>\n      <td>90.0</td>\n      <td>upper extremity</td>\n      <td>melanoma</td>\n      <td>malignant</td>\n      <td>0</td>\n      <td>6</td>\n      <td>4</td>\n      <td>1</td>\n    </tr>\n    <tr>\n      <th>3</th>\n      <td>ISIC_3343475</td>\n      <td>IP_4576785</td>\n      <td>IL_9262145</td>\n      <td>male</td>\n      <td>80.0</td>\n      <td>head/neck</td>\n      <td>melanoma</td>\n      <td>malignant</td>\n      <td>1</td>\n      <td>0</td>\n      <td>4</td>\n      <td>1</td>\n    </tr>\n    <tr>\n      <th>4</th>\n      <td>ISIC_7785723</td>\n      <td>IP_8447624</td>\n      <td>IL_2711936</td>\n      <td>female</td>\n      <td>50.0</td>\n      <td>lower extremity</td>\n      <td>melanoma</td>\n      <td>malignant</td>\n      <td>0</td>\n      <td>1</td>\n      <td>4</td>\n      <td>1</td>\n    </tr>\n  </tbody>\n</table>\n</div>"
     },
     "metadata": {},
     "execution_count": 41
    }
   ],
   "source": [
    "train.head()"
   ]
  },
  {
   "cell_type": "code",
   "execution_count": 42,
   "metadata": {},
   "outputs": [
    {
     "output_type": "execute_result",
     "data": {
      "text/plain": [
       "           file  target\n",
       "0  ISIC_1569119       1\n",
       "1  ISIC_7536704       1\n",
       "2  ISIC_3696488       1\n",
       "3  ISIC_3343475       1\n",
       "4  ISIC_7785723       1"
      ],
      "text/html": "<div>\n<style scoped>\n    .dataframe tbody tr th:only-of-type {\n        vertical-align: middle;\n    }\n\n    .dataframe tbody tr th {\n        vertical-align: top;\n    }\n\n    .dataframe thead th {\n        text-align: right;\n    }\n</style>\n<table border=\"1\" class=\"dataframe\">\n  <thead>\n    <tr style=\"text-align: right;\">\n      <th></th>\n      <th>file</th>\n      <th>target</th>\n    </tr>\n  </thead>\n  <tbody>\n    <tr>\n      <th>0</th>\n      <td>ISIC_1569119</td>\n      <td>1</td>\n    </tr>\n    <tr>\n      <th>1</th>\n      <td>ISIC_7536704</td>\n      <td>1</td>\n    </tr>\n    <tr>\n      <th>2</th>\n      <td>ISIC_3696488</td>\n      <td>1</td>\n    </tr>\n    <tr>\n      <th>3</th>\n      <td>ISIC_3343475</td>\n      <td>1</td>\n    </tr>\n    <tr>\n      <th>4</th>\n      <td>ISIC_7785723</td>\n      <td>1</td>\n    </tr>\n  </tbody>\n</table>\n</div>"
     },
     "metadata": {},
     "execution_count": 42
    }
   ],
   "source": [
    "tr = train[['file', 'target']]\n",
    "tr.head()"
   ]
  },
  {
   "cell_type": "code",
   "execution_count": 43,
   "metadata": {},
   "outputs": [
    {
     "output_type": "execute_result",
     "data": {
      "text/plain": [
       "0    26033\n",
       "1      467\n",
       "Name: target, dtype: int64"
      ]
     },
     "metadata": {},
     "execution_count": 43
    }
   ],
   "source": [
    "tr.target.value_counts()"
   ]
  },
  {
   "cell_type": "code",
   "execution_count": 44,
   "metadata": {},
   "outputs": [
    {
     "output_type": "execute_result",
     "data": {
      "text/plain": [
       "           file  patient_id   lesion_id  gender   age             site  \\\n",
       "0  ISIC_6767569  IP_7665112  IL_1769376    male  70.0        head/neck   \n",
       "1  ISIC_7312977  IP_8675890  IL_2723500    male  55.0  lower extremity   \n",
       "2  ISIC_1785627  IP_0170821  IL_6029631  female  40.0  upper extremity   \n",
       "3  ISIC_8066110  IP_3055814  IL_7066374    male  50.0  lower extremity   \n",
       "4  ISIC_8838753  IP_6292815  IL_9486623  female  65.0  lower extremity   \n",
       "\n",
       "  diagnosis    ben_mal  gen_enc  site_enc  diag_enc  target  \n",
       "0  melanoma  malignant        1         0         4       1  \n",
       "1  melanoma  malignant        1         1         4       1  \n",
       "2  melanoma  malignant        0         6         4       1  \n",
       "3  melanoma  malignant        1         1         4       1  \n",
       "4  melanoma  malignant        0         1         4       1  "
      ],
      "text/html": "<div>\n<style scoped>\n    .dataframe tbody tr th:only-of-type {\n        vertical-align: middle;\n    }\n\n    .dataframe tbody tr th {\n        vertical-align: top;\n    }\n\n    .dataframe thead th {\n        text-align: right;\n    }\n</style>\n<table border=\"1\" class=\"dataframe\">\n  <thead>\n    <tr style=\"text-align: right;\">\n      <th></th>\n      <th>file</th>\n      <th>patient_id</th>\n      <th>lesion_id</th>\n      <th>gender</th>\n      <th>age</th>\n      <th>site</th>\n      <th>diagnosis</th>\n      <th>ben_mal</th>\n      <th>gen_enc</th>\n      <th>site_enc</th>\n      <th>diag_enc</th>\n      <th>target</th>\n    </tr>\n  </thead>\n  <tbody>\n    <tr>\n      <th>0</th>\n      <td>ISIC_6767569</td>\n      <td>IP_7665112</td>\n      <td>IL_1769376</td>\n      <td>male</td>\n      <td>70.0</td>\n      <td>head/neck</td>\n      <td>melanoma</td>\n      <td>malignant</td>\n      <td>1</td>\n      <td>0</td>\n      <td>4</td>\n      <td>1</td>\n    </tr>\n    <tr>\n      <th>1</th>\n      <td>ISIC_7312977</td>\n      <td>IP_8675890</td>\n      <td>IL_2723500</td>\n      <td>male</td>\n      <td>55.0</td>\n      <td>lower extremity</td>\n      <td>melanoma</td>\n      <td>malignant</td>\n      <td>1</td>\n      <td>1</td>\n      <td>4</td>\n      <td>1</td>\n    </tr>\n    <tr>\n      <th>2</th>\n      <td>ISIC_1785627</td>\n      <td>IP_0170821</td>\n      <td>IL_6029631</td>\n      <td>female</td>\n      <td>40.0</td>\n      <td>upper extremity</td>\n      <td>melanoma</td>\n      <td>malignant</td>\n      <td>0</td>\n      <td>6</td>\n      <td>4</td>\n      <td>1</td>\n    </tr>\n    <tr>\n      <th>3</th>\n      <td>ISIC_8066110</td>\n      <td>IP_3055814</td>\n      <td>IL_7066374</td>\n      <td>male</td>\n      <td>50.0</td>\n      <td>lower extremity</td>\n      <td>melanoma</td>\n      <td>malignant</td>\n      <td>1</td>\n      <td>1</td>\n      <td>4</td>\n      <td>1</td>\n    </tr>\n    <tr>\n      <th>4</th>\n      <td>ISIC_8838753</td>\n      <td>IP_6292815</td>\n      <td>IL_9486623</td>\n      <td>female</td>\n      <td>65.0</td>\n      <td>lower extremity</td>\n      <td>melanoma</td>\n      <td>malignant</td>\n      <td>0</td>\n      <td>1</td>\n      <td>4</td>\n      <td>1</td>\n    </tr>\n  </tbody>\n</table>\n</div>"
     },
     "metadata": {},
     "execution_count": 44
    }
   ],
   "source": [
    "validation.head()"
   ]
  },
  {
   "cell_type": "code",
   "execution_count": 45,
   "metadata": {},
   "outputs": [
    {
     "output_type": "execute_result",
     "data": {
      "text/plain": [
       "           file  target\n",
       "0  ISIC_6767569       1\n",
       "1  ISIC_7312977       1\n",
       "2  ISIC_1785627       1\n",
       "3  ISIC_8066110       1\n",
       "4  ISIC_8838753       1"
      ],
      "text/html": "<div>\n<style scoped>\n    .dataframe tbody tr th:only-of-type {\n        vertical-align: middle;\n    }\n\n    .dataframe tbody tr th {\n        vertical-align: top;\n    }\n\n    .dataframe thead th {\n        text-align: right;\n    }\n</style>\n<table border=\"1\" class=\"dataframe\">\n  <thead>\n    <tr style=\"text-align: right;\">\n      <th></th>\n      <th>file</th>\n      <th>target</th>\n    </tr>\n  </thead>\n  <tbody>\n    <tr>\n      <th>0</th>\n      <td>ISIC_6767569</td>\n      <td>1</td>\n    </tr>\n    <tr>\n      <th>1</th>\n      <td>ISIC_7312977</td>\n      <td>1</td>\n    </tr>\n    <tr>\n      <th>2</th>\n      <td>ISIC_1785627</td>\n      <td>1</td>\n    </tr>\n    <tr>\n      <th>3</th>\n      <td>ISIC_8066110</td>\n      <td>1</td>\n    </tr>\n    <tr>\n      <th>4</th>\n      <td>ISIC_8838753</td>\n      <td>1</td>\n    </tr>\n  </tbody>\n</table>\n</div>"
     },
     "metadata": {},
     "execution_count": 45
    }
   ],
   "source": [
    "val = validation[['file', 'target']]\n",
    "val.head()"
   ]
  },
  {
   "cell_type": "code",
   "execution_count": 46,
   "metadata": {},
   "outputs": [
    {
     "output_type": "execute_result",
     "data": {
      "text/plain": [
       "0    6509\n",
       "1     117\n",
       "Name: target, dtype: int64"
      ]
     },
     "metadata": {},
     "execution_count": 46
    }
   ],
   "source": [
    "val.target.value_counts()"
   ]
  },
  {
   "cell_type": "code",
   "execution_count": 47,
   "metadata": {},
   "outputs": [
    {
     "output_type": "execute_result",
     "data": {
      "text/plain": [
       "26500"
      ]
     },
     "metadata": {},
     "execution_count": 47
    }
   ],
   "source": [
    "len(train)"
   ]
  },
  {
   "cell_type": "code",
   "execution_count": 48,
   "metadata": {},
   "outputs": [
    {
     "output_type": "execute_result",
     "data": {
      "text/plain": [
       "6626"
      ]
     },
     "metadata": {},
     "execution_count": 48
    }
   ],
   "source": [
    "len(val)"
   ]
  },
  {
   "cell_type": "code",
   "execution_count": 9,
   "metadata": {},
   "outputs": [],
   "source": [
    "# train.to_csv('../data/train.csv')\n",
    "# val.to_csv('../data/val.csv')"
   ]
  },
  {
   "source": [],
   "cell_type": "markdown",
   "metadata": {}
  },
  {
   "source": [
    "# Proper Folder Structure"
   ],
   "cell_type": "markdown",
   "metadata": {}
  },
  {
   "cell_type": "code",
   "execution_count": 10,
   "metadata": {},
   "outputs": [],
   "source": [
    "new_dir = 'images/'\n",
    "# os.mkdir(new_dir)"
   ]
  },
  {
   "source": [
    "## Training Set"
   ],
   "cell_type": "markdown",
   "metadata": {}
  },
  {
   "cell_type": "code",
   "execution_count": 11,
   "metadata": {},
   "outputs": [],
   "source": [
    "tr_fldr = os.path.join(new_dir, 'train')\n",
    "tr_mel = os.path.join(tr_fldr, 'mel')\n",
    "tr_nm = os.path.join(tr_fldr, 'not_mel')\n",
    "\n",
    "# os.mkdir(tr_fldr)\n",
    "# os.mkdir(tr_mel)\n",
    "# os.mkdir(tr_nm)"
   ]
  },
  {
   "cell_type": "code",
   "execution_count": 12,
   "metadata": {},
   "outputs": [],
   "source": [
    "train['jpg'] = train.file.apply(lambda x: str(x) + '.jpg')\n",
    "mel_train = train[train.target == 1]\n",
    "non_mel_train = train[train.target == 0]"
   ]
  },
  {
   "cell_type": "code",
   "execution_count": 13,
   "metadata": {},
   "outputs": [],
   "source": [
    "images_dir = 'data/train_jpg'\n",
    "mel_tr_ids = mel_train.jpg.to_list()\n",
    "nm_tr_ids = non_mel_train.jpg.to_list()"
   ]
  },
  {
   "cell_type": "code",
   "execution_count": 14,
   "metadata": {},
   "outputs": [],
   "source": [
    "# for img in tqdm (mel_tr_ids):\n",
    "#     shutil.copyfile(os.path.join(images_dir, img), os.path.join(tr_mel, img))"
   ]
  },
  {
   "cell_type": "code",
   "execution_count": 15,
   "metadata": {},
   "outputs": [],
   "source": [
    "# for img in tqdm(nm_tr_ids):\n",
    "#     shutil.copyfile(os.path.join(images_dir, img), os.path.join(tr_nm, img))"
   ]
  },
  {
   "source": [
    "## Validation Set"
   ],
   "cell_type": "markdown",
   "metadata": {}
  },
  {
   "cell_type": "code",
   "execution_count": 16,
   "metadata": {},
   "outputs": [],
   "source": [
    "val_fldr = os.path.join(new_dir, 'val')\n",
    "val_mel = os.path.join(val_fldr, 'mel')\n",
    "val_nm = os.path.join(val_fldr, 'not_mel')\n",
    "\n",
    "# os.mkdir(val_fldr)\n",
    "# os.mkdir(val_mel)\n",
    "# os.mkdir(val_nm)"
   ]
  },
  {
   "cell_type": "code",
   "execution_count": 17,
   "metadata": {},
   "outputs": [],
   "source": [
    "val['jpg'] = val.file.apply(lambda x: str(x) + 'jpg')\n",
    "mel_val = val[val.target == 1]\n",
    "non_mel_val = val[val.target == 0]\n",
    "\n",
    "mel_val_ids = mel_val.jpg.to_list()\n",
    "nm_val_ids = non_mel_val.jpg.to_list()"
   ]
  },
  {
   "cell_type": "code",
   "execution_count": 18,
   "metadata": {},
   "outputs": [],
   "source": [
    "# for img in mel_val_ids:\n",
    "#     shutil.copyfile(os.path.join(images_dir, img), os.path.join(val_mel, img))    "
   ]
  },
  {
   "cell_type": "code",
   "execution_count": 19,
   "metadata": {},
   "outputs": [],
   "source": [
    "# for img in nm_val_ids:\n",
    "#     shutil.copyfile(os.path.join(images_dir, img), os.path.join(val_nm, img))"
   ]
  },
  {
   "cell_type": "code",
   "execution_count": null,
   "metadata": {},
   "outputs": [],
   "source": []
  },
  {
   "source": [
    "# New Train-Validation Split"
   ],
   "cell_type": "markdown",
   "metadata": {}
  },
  {
   "cell_type": "code",
   "execution_count": 68,
   "metadata": {},
   "outputs": [
    {
     "output_type": "execute_result",
     "data": {
      "text/plain": [
       "           file  patient_id   lesion_id  gender   age             site  \\\n",
       "0  ISIC_2637011  IP_7279968  IL_7972535    male  45.0        head/neck   \n",
       "1  ISIC_0015719  IP_3075186  IL_4649854  female  45.0  upper extremity   \n",
       "2  ISIC_0052212  IP_2842074  IL_9087444  female  50.0  lower extremity   \n",
       "3  ISIC_0068279  IP_6890425  IL_4255399  female  45.0        head/neck   \n",
       "4  ISIC_0074268  IP_8723313  IL_6898037  female  55.0  upper extremity   \n",
       "\n",
       "  diagnosis ben_mal  target  \n",
       "0   unknown  benign       0  \n",
       "1   unknown  benign       0  \n",
       "2     nevus  benign       0  \n",
       "3   unknown  benign       0  \n",
       "4   unknown  benign       0  "
      ],
      "text/html": "<div>\n<style scoped>\n    .dataframe tbody tr th:only-of-type {\n        vertical-align: middle;\n    }\n\n    .dataframe tbody tr th {\n        vertical-align: top;\n    }\n\n    .dataframe thead th {\n        text-align: right;\n    }\n</style>\n<table border=\"1\" class=\"dataframe\">\n  <thead>\n    <tr style=\"text-align: right;\">\n      <th></th>\n      <th>file</th>\n      <th>patient_id</th>\n      <th>lesion_id</th>\n      <th>gender</th>\n      <th>age</th>\n      <th>site</th>\n      <th>diagnosis</th>\n      <th>ben_mal</th>\n      <th>target</th>\n    </tr>\n  </thead>\n  <tbody>\n    <tr>\n      <th>0</th>\n      <td>ISIC_2637011</td>\n      <td>IP_7279968</td>\n      <td>IL_7972535</td>\n      <td>male</td>\n      <td>45.0</td>\n      <td>head/neck</td>\n      <td>unknown</td>\n      <td>benign</td>\n      <td>0</td>\n    </tr>\n    <tr>\n      <th>1</th>\n      <td>ISIC_0015719</td>\n      <td>IP_3075186</td>\n      <td>IL_4649854</td>\n      <td>female</td>\n      <td>45.0</td>\n      <td>upper extremity</td>\n      <td>unknown</td>\n      <td>benign</td>\n      <td>0</td>\n    </tr>\n    <tr>\n      <th>2</th>\n      <td>ISIC_0052212</td>\n      <td>IP_2842074</td>\n      <td>IL_9087444</td>\n      <td>female</td>\n      <td>50.0</td>\n      <td>lower extremity</td>\n      <td>nevus</td>\n      <td>benign</td>\n      <td>0</td>\n    </tr>\n    <tr>\n      <th>3</th>\n      <td>ISIC_0068279</td>\n      <td>IP_6890425</td>\n      <td>IL_4255399</td>\n      <td>female</td>\n      <td>45.0</td>\n      <td>head/neck</td>\n      <td>unknown</td>\n      <td>benign</td>\n      <td>0</td>\n    </tr>\n    <tr>\n      <th>4</th>\n      <td>ISIC_0074268</td>\n      <td>IP_8723313</td>\n      <td>IL_6898037</td>\n      <td>female</td>\n      <td>55.0</td>\n      <td>upper extremity</td>\n      <td>unknown</td>\n      <td>benign</td>\n      <td>0</td>\n    </tr>\n  </tbody>\n</table>\n</div>"
     },
     "metadata": {},
     "execution_count": 68
    }
   ],
   "source": [
    "df2 = pd.read_csv('../data/tr_tot.csv', index_col=0)\n",
    "df2.head()"
   ]
  },
  {
   "cell_type": "code",
   "execution_count": 69,
   "metadata": {},
   "outputs": [
    {
     "output_type": "execute_result",
     "data": {
      "text/plain": [
       "0    32542\n",
       "1     6219\n",
       "Name: target, dtype: int64"
      ]
     },
     "metadata": {},
     "execution_count": 69
    }
   ],
   "source": [
    "df2.target.value_counts()"
   ]
  },
  {
   "cell_type": "code",
   "execution_count": 70,
   "metadata": {},
   "outputs": [
    {
     "output_type": "execute_result",
     "data": {
      "text/plain": [
       "ISIC_0033369    2\n",
       "ISIC_0031561    2\n",
       "ISIC_0026930    2\n",
       "ISIC_0027573    2\n",
       "ISIC_0025451    2\n",
       "               ..\n",
       "ISIC_3848572    1\n",
       "ISIC_7166676    1\n",
       "ISIC_3192233    1\n",
       "ISIC_7486963    1\n",
       "ISIC_4026808    1\n",
       "Name: file, Length: 37648, dtype: int64"
      ]
     },
     "metadata": {},
     "execution_count": 70
    }
   ],
   "source": [
    "df2.file.value_counts()"
   ]
  },
  {
   "cell_type": "code",
   "execution_count": 71,
   "metadata": {},
   "outputs": [
    {
     "output_type": "execute_result",
     "data": {
      "text/plain": [
       "   index          file  patient_id   lesion_id  gender   age             site  \\\n",
       "0      0  ISIC_2637011  IP_7279968  IL_7972535    male  45.0        head/neck   \n",
       "1      1  ISIC_0015719  IP_3075186  IL_4649854  female  45.0  upper extremity   \n",
       "2      2  ISIC_0052212  IP_2842074  IL_9087444  female  50.0  lower extremity   \n",
       "3      3  ISIC_0068279  IP_6890425  IL_4255399  female  45.0        head/neck   \n",
       "4      4  ISIC_0074268  IP_8723313  IL_6898037  female  55.0  upper extremity   \n",
       "\n",
       "  diagnosis ben_mal  target  \n",
       "0   unknown  benign       0  \n",
       "1   unknown  benign       0  \n",
       "2     nevus  benign       0  \n",
       "3   unknown  benign       0  \n",
       "4   unknown  benign       0  "
      ],
      "text/html": "<div>\n<style scoped>\n    .dataframe tbody tr th:only-of-type {\n        vertical-align: middle;\n    }\n\n    .dataframe tbody tr th {\n        vertical-align: top;\n    }\n\n    .dataframe thead th {\n        text-align: right;\n    }\n</style>\n<table border=\"1\" class=\"dataframe\">\n  <thead>\n    <tr style=\"text-align: right;\">\n      <th></th>\n      <th>index</th>\n      <th>file</th>\n      <th>patient_id</th>\n      <th>lesion_id</th>\n      <th>gender</th>\n      <th>age</th>\n      <th>site</th>\n      <th>diagnosis</th>\n      <th>ben_mal</th>\n      <th>target</th>\n    </tr>\n  </thead>\n  <tbody>\n    <tr>\n      <th>0</th>\n      <td>0</td>\n      <td>ISIC_2637011</td>\n      <td>IP_7279968</td>\n      <td>IL_7972535</td>\n      <td>male</td>\n      <td>45.0</td>\n      <td>head/neck</td>\n      <td>unknown</td>\n      <td>benign</td>\n      <td>0</td>\n    </tr>\n    <tr>\n      <th>1</th>\n      <td>1</td>\n      <td>ISIC_0015719</td>\n      <td>IP_3075186</td>\n      <td>IL_4649854</td>\n      <td>female</td>\n      <td>45.0</td>\n      <td>upper extremity</td>\n      <td>unknown</td>\n      <td>benign</td>\n      <td>0</td>\n    </tr>\n    <tr>\n      <th>2</th>\n      <td>2</td>\n      <td>ISIC_0052212</td>\n      <td>IP_2842074</td>\n      <td>IL_9087444</td>\n      <td>female</td>\n      <td>50.0</td>\n      <td>lower extremity</td>\n      <td>nevus</td>\n      <td>benign</td>\n      <td>0</td>\n    </tr>\n    <tr>\n      <th>3</th>\n      <td>3</td>\n      <td>ISIC_0068279</td>\n      <td>IP_6890425</td>\n      <td>IL_4255399</td>\n      <td>female</td>\n      <td>45.0</td>\n      <td>head/neck</td>\n      <td>unknown</td>\n      <td>benign</td>\n      <td>0</td>\n    </tr>\n    <tr>\n      <th>4</th>\n      <td>4</td>\n      <td>ISIC_0074268</td>\n      <td>IP_8723313</td>\n      <td>IL_6898037</td>\n      <td>female</td>\n      <td>55.0</td>\n      <td>upper extremity</td>\n      <td>unknown</td>\n      <td>benign</td>\n      <td>0</td>\n    </tr>\n  </tbody>\n</table>\n</div>"
     },
     "metadata": {},
     "execution_count": 71
    }
   ],
   "source": [
    "df2.drop_duplicates('file', inplace=True)\n",
    "df2.reset_index(inplace=True)\n",
    "df2.head()"
   ]
  },
  {
   "cell_type": "code",
   "execution_count": 72,
   "metadata": {},
   "outputs": [
    {
     "output_type": "stream",
     "name": "stdout",
     "text": [
      "<class 'pandas.core.frame.DataFrame'>\nRangeIndex: 37648 entries, 0 to 37647\nData columns (total 10 columns):\n #   Column      Non-Null Count  Dtype  \n---  ------      --------------  -----  \n 0   index       37648 non-null  int64  \n 1   file        37648 non-null  object \n 2   patient_id  33126 non-null  object \n 3   lesion_id   37311 non-null  object \n 4   gender      37502 non-null  object \n 5   age         37495 non-null  float64\n 6   site        36994 non-null  object \n 7   diagnosis   33126 non-null  object \n 8   ben_mal     33126 non-null  object \n 9   target      37648 non-null  int64  \ndtypes: float64(1), int64(2), object(7)\nmemory usage: 2.9+ MB\n"
     ]
    }
   ],
   "source": [
    "df2.info()"
   ]
  },
  {
   "cell_type": "code",
   "execution_count": 73,
   "metadata": {},
   "outputs": [],
   "source": [
    "melanoma2 = df2[df2.target == 1]\n",
    "non_melanoma2 = df2[df2.target == 0]\n",
    "y_mel2 = melanoma2.target\n",
    "X_mel2 = melanoma2.drop(columns=['target'], axis=1)\n",
    "y_non_mel2 = non_melanoma2.target\n",
    "X_non_mel2 = non_melanoma2.drop(columns=['target'], axis=1)"
   ]
  },
  {
   "cell_type": "code",
   "execution_count": 74,
   "metadata": {},
   "outputs": [],
   "source": [
    "X_tr_m2, X_val_m2, y_tr_m2, y_val_m2 = train_test_split(X_mel2, y_mel2, random_state=42, test_size=0.2)\n",
    "X_tr_nm2, X_val_nm2, y_tr_nm2, y_val_nm2 = train_test_split(X_non_mel2, y_non_mel2, random_state=42, test_size=0.2)\n",
    "\n",
    "mel_train2 = pd.concat([X_tr_m2, y_tr_m2], axis=1)\n",
    "non_mel_train2 = pd.concat([X_tr_nm2, y_tr_nm2], axis=1)\n",
    "mel_val2 = pd.concat([X_val_m2, y_val_m2], axis=1)\n",
    "non_mel_val2 = pd.concat([X_val_nm2, y_val_nm2], axis=1)\n",
    "\n",
    "train2 = pd.concat([mel_train2, non_mel_train2], axis=0)\n",
    "validation2 = pd.concat([mel_val2, non_mel_val2], axis=0)\n",
    "train2 = train2.reset_index(drop=True)\n",
    "validation2 = validation2.reset_index(drop=True)"
   ]
  },
  {
   "cell_type": "code",
   "execution_count": 75,
   "metadata": {},
   "outputs": [
    {
     "output_type": "execute_result",
     "data": {
      "text/plain": [
       "                       file  target\n",
       "0              ISIC_0065823       1\n",
       "1  ISIC_0013908_downsampled       1\n",
       "2              ISIC_0054089       1\n",
       "3              ISIC_0061371       1\n",
       "4              ISIC_8702237       1"
      ],
      "text/html": "<div>\n<style scoped>\n    .dataframe tbody tr th:only-of-type {\n        vertical-align: middle;\n    }\n\n    .dataframe tbody tr th {\n        vertical-align: top;\n    }\n\n    .dataframe thead th {\n        text-align: right;\n    }\n</style>\n<table border=\"1\" class=\"dataframe\">\n  <thead>\n    <tr style=\"text-align: right;\">\n      <th></th>\n      <th>file</th>\n      <th>target</th>\n    </tr>\n  </thead>\n  <tbody>\n    <tr>\n      <th>0</th>\n      <td>ISIC_0065823</td>\n      <td>1</td>\n    </tr>\n    <tr>\n      <th>1</th>\n      <td>ISIC_0013908_downsampled</td>\n      <td>1</td>\n    </tr>\n    <tr>\n      <th>2</th>\n      <td>ISIC_0054089</td>\n      <td>1</td>\n    </tr>\n    <tr>\n      <th>3</th>\n      <td>ISIC_0061371</td>\n      <td>1</td>\n    </tr>\n    <tr>\n      <th>4</th>\n      <td>ISIC_8702237</td>\n      <td>1</td>\n    </tr>\n  </tbody>\n</table>\n</div>"
     },
     "metadata": {},
     "execution_count": 75
    }
   ],
   "source": [
    "tr2 = train2[['file', 'target']]\n",
    "tr2.head()"
   ]
  },
  {
   "cell_type": "code",
   "execution_count": 76,
   "metadata": {},
   "outputs": [
    {
     "output_type": "execute_result",
     "data": {
      "text/plain": [
       "30117"
      ]
     },
     "metadata": {},
     "execution_count": 76
    }
   ],
   "source": [
    "len(tr2)"
   ]
  },
  {
   "cell_type": "code",
   "execution_count": 77,
   "metadata": {},
   "outputs": [
    {
     "output_type": "execute_result",
     "data": {
      "text/plain": [
       "0    26033\n",
       "1     4084\n",
       "Name: target, dtype: int64"
      ]
     },
     "metadata": {},
     "execution_count": 77
    }
   ],
   "source": [
    "tr2.target.value_counts()"
   ]
  },
  {
   "cell_type": "code",
   "execution_count": 78,
   "metadata": {},
   "outputs": [
    {
     "output_type": "execute_result",
     "data": {
      "text/plain": [
       "           file  target\n",
       "0  ISIC_0066225       1\n",
       "1  ISIC_0000013       1\n",
       "2  ISIC_9367522       1\n",
       "3  ISIC_3969411       1\n",
       "4  ISIC_0026531       1"
      ],
      "text/html": "<div>\n<style scoped>\n    .dataframe tbody tr th:only-of-type {\n        vertical-align: middle;\n    }\n\n    .dataframe tbody tr th {\n        vertical-align: top;\n    }\n\n    .dataframe thead th {\n        text-align: right;\n    }\n</style>\n<table border=\"1\" class=\"dataframe\">\n  <thead>\n    <tr style=\"text-align: right;\">\n      <th></th>\n      <th>file</th>\n      <th>target</th>\n    </tr>\n  </thead>\n  <tbody>\n    <tr>\n      <th>0</th>\n      <td>ISIC_0066225</td>\n      <td>1</td>\n    </tr>\n    <tr>\n      <th>1</th>\n      <td>ISIC_0000013</td>\n      <td>1</td>\n    </tr>\n    <tr>\n      <th>2</th>\n      <td>ISIC_9367522</td>\n      <td>1</td>\n    </tr>\n    <tr>\n      <th>3</th>\n      <td>ISIC_3969411</td>\n      <td>1</td>\n    </tr>\n    <tr>\n      <th>4</th>\n      <td>ISIC_0026531</td>\n      <td>1</td>\n    </tr>\n  </tbody>\n</table>\n</div>"
     },
     "metadata": {},
     "execution_count": 78
    }
   ],
   "source": [
    "val2 = validation2[['file', 'target']]\n",
    "val2.head()"
   ]
  },
  {
   "cell_type": "code",
   "execution_count": 79,
   "metadata": {},
   "outputs": [
    {
     "output_type": "execute_result",
     "data": {
      "text/plain": [
       "7531"
      ]
     },
     "metadata": {},
     "execution_count": 79
    }
   ],
   "source": [
    "len(val2)"
   ]
  },
  {
   "cell_type": "code",
   "execution_count": 63,
   "metadata": {},
   "outputs": [
    {
     "output_type": "execute_result",
     "data": {
      "text/plain": [
       "0    6509\n",
       "1    1244\n",
       "Name: target, dtype: int64"
      ]
     },
     "metadata": {},
     "execution_count": 63
    }
   ],
   "source": [
    "val2.target.value_counts()"
   ]
  },
  {
   "source": [
    "# 2019 Dataset"
   ],
   "cell_type": "markdown",
   "metadata": {}
  },
  {
   "cell_type": "code",
   "execution_count": 21,
   "metadata": {},
   "outputs": [],
   "source": [
    "\n",
    "train2 = train2.drop(columns=['NV', 'BCC', 'AK', 'BKL', 'DF', 'VASC', \"SCC\", 'UNK'], axis=1)\n",
    "train2.columns = ['file', 'target']\n",
    "train2.target = train2.target.astype(int)\n",
    "train2.head()"
   ]
  },
  {
   "cell_type": "code",
   "execution_count": 22,
   "metadata": {},
   "outputs": [],
   "source": [
    "tr19_dir = 'images/test'\n",
    "tr19_fldr = os.path.join(new_dir, '2019')\n",
    "tr19_mel = os.path.join(tr19_fldr, 'mel')\n",
    "tr19_nm = os.path.join(tr19_fldr, 'not_mel')\n",
    "\n",
    "# os.mkdir(tr19_fldr)\n",
    "# os.mkdir(tr19_mel)\n",
    "# os.mkdir(tr19_nm)"
   ]
  },
  {
   "cell_type": "code",
   "execution_count": 23,
   "metadata": {},
   "outputs": [],
   "source": [
    "tr19_mel_df = train2[train2.target == 1]\n",
    "tr19_nm_df = train2[train2.target == 0]\n",
    "\n",
    "tr19_mel_ids = tr19_mel_df.jpg.to_list()\n",
    "tr19_nm_ids = tr19_nm_df.jpg.to_list()"
   ]
  },
  {
   "cell_type": "code",
   "execution_count": 24,
   "metadata": {},
   "outputs": [],
   "source": [
    "# for img in tr19_mel_ids:\n",
    "#     shutil.copyfile(os.path.join(tr19_dir, img), os.path.join(tr19_mel, img))"
   ]
  },
  {
   "cell_type": "code",
   "execution_count": 25,
   "metadata": {},
   "outputs": [],
   "source": [
    "# for img in tr19_nm_ids:\n",
    "#     shutil.copyfile(os.path.join(tr19_dir, img), os.path.join(tr19_nm, img))"
   ]
  },
  {
   "source": [
    "# Testing Set"
   ],
   "cell_type": "markdown",
   "metadata": {}
  },
  {
   "cell_type": "code",
   "execution_count": 2,
   "metadata": {},
   "outputs": [
    {
     "output_type": "execute_result",
     "data": {
      "text/plain": [
       "           file age  gender  target\n",
       "0  ISIC_0000000  55  female       0\n",
       "1  ISIC_0000001  30  female       0\n",
       "2  ISIC_0000002  60  female       1\n",
       "3  ISIC_0000003  30    male       0\n",
       "4  ISIC_0000004  80    male       1"
      ],
      "text/html": "<div>\n<style scoped>\n    .dataframe tbody tr th:only-of-type {\n        vertical-align: middle;\n    }\n\n    .dataframe tbody tr th {\n        vertical-align: top;\n    }\n\n    .dataframe thead th {\n        text-align: right;\n    }\n</style>\n<table border=\"1\" class=\"dataframe\">\n  <thead>\n    <tr style=\"text-align: right;\">\n      <th></th>\n      <th>file</th>\n      <th>age</th>\n      <th>gender</th>\n      <th>target</th>\n    </tr>\n  </thead>\n  <tbody>\n    <tr>\n      <th>0</th>\n      <td>ISIC_0000000</td>\n      <td>55</td>\n      <td>female</td>\n      <td>0</td>\n    </tr>\n    <tr>\n      <th>1</th>\n      <td>ISIC_0000001</td>\n      <td>30</td>\n      <td>female</td>\n      <td>0</td>\n    </tr>\n    <tr>\n      <th>2</th>\n      <td>ISIC_0000002</td>\n      <td>60</td>\n      <td>female</td>\n      <td>1</td>\n    </tr>\n    <tr>\n      <th>3</th>\n      <td>ISIC_0000003</td>\n      <td>30</td>\n      <td>male</td>\n      <td>0</td>\n    </tr>\n    <tr>\n      <th>4</th>\n      <td>ISIC_0000004</td>\n      <td>80</td>\n      <td>male</td>\n      <td>1</td>\n    </tr>\n  </tbody>\n</table>\n</div>"
     },
     "metadata": {},
     "execution_count": 2
    }
   ],
   "source": [
    "test2 = pd.read_csv('../data/test2.csv', index_col = 0)\n",
    "test2.head()"
   ]
  },
  {
   "cell_type": "code",
   "execution_count": 3,
   "metadata": {},
   "outputs": [],
   "source": [
    "# test2 = test2.rename(columns={'image': 'file'})\n",
    "test2['jpg'] = test2.file.apply(lambda x: str(x) + '.jpg')\n",
    "test_nm = test2[test2.target == 0]\n",
    "test_mel = test2[test2.target == 1]"
   ]
  },
  {
   "cell_type": "code",
   "execution_count": 4,
   "metadata": {},
   "outputs": [],
   "source": [
    "ttnm = test_nm.jpg.to_list()\n",
    "ttmel = test_mel.jpg.to_list()"
   ]
  },
  {
   "cell_type": "code",
   "execution_count": 5,
   "metadata": {},
   "outputs": [],
   "source": [
    "direc = '../split/test2/'\n",
    "\n",
    "os.mkdir('../split/test2/mel')\n",
    "os.mkdir('../split/test2/non_mel')\n",
    "\n",
    "direc2 = '../split/test2/mel/'\n",
    "direc3 = '../split/test2/non_mel'"
   ]
  },
  {
   "cell_type": "code",
   "execution_count": 7,
   "metadata": {},
   "outputs": [
    {
     "output_type": "display_data",
     "data": {
      "text/plain": "  0%|          | 0/1626 [00:00<?, ?it/s]",
      "application/vnd.jupyter.widget-view+json": {
       "version_major": 2,
       "version_minor": 0,
       "model_id": "2e055fa4f9a948f1b92f25f27086bdf5"
      }
     },
     "metadata": {}
    }
   ],
   "source": [
    "for img in tqdm(ttnm):\n",
    "    shutil.move(os.path.join(direc, img), os.path.join(direc3, img))"
   ]
  },
  {
   "cell_type": "code",
   "execution_count": 6,
   "metadata": {},
   "outputs": [
    {
     "output_type": "display_data",
     "data": {
      "text/plain": "  0%|          | 0/374 [00:00<?, ?it/s]",
      "application/vnd.jupyter.widget-view+json": {
       "version_major": 2,
       "version_minor": 0,
       "model_id": "c0617f0d6285444c9b65d3341b82f23c"
      }
     },
     "metadata": {}
    }
   ],
   "source": [
    "for img in tqdm(ttmel):\n",
    "    shutil.move(os.path.join(direc, img), os.path.join(direc2, img))"
   ]
  },
  {
   "cell_type": "code",
   "execution_count": null,
   "metadata": {},
   "outputs": [],
   "source": []
  }
 ]
}