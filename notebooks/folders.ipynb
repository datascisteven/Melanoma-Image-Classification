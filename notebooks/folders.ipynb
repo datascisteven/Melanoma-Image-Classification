{
 "metadata": {
  "language_info": {
   "codemirror_mode": {
    "name": "ipython",
    "version": 3
   },
   "file_extension": ".py",
   "mimetype": "text/x-python",
   "name": "python",
   "nbconvert_exporter": "python",
   "pygments_lexer": "ipython3",
   "version": "3.6.13-final"
  },
  "orig_nbformat": 2,
  "kernelspec": {
   "name": "python3613jvsc74a57bd06555959b910bb7a8fb6f47a2dcc8365b919d4ffbc6f566ad680344e31443b77e",
   "display_name": "Python 3.6.13 64-bit ('nn-env': conda)"
  }
 },
 "nbformat": 4,
 "nbformat_minor": 2,
 "cells": [
  {
   "source": [
    "# Importing Packages"
   ],
   "cell_type": "markdown",
   "metadata": {}
  },
  {
   "cell_type": "code",
   "execution_count": 1,
   "metadata": {},
   "outputs": [],
   "source": [
    "import numpy as np\n",
    "import pandas as pd\n",
    "import matplotlib.pyplot as plt\n",
    "%matplotlib inline\n",
    "import seaborn as sns\n",
    "import pydicom as dicom\n",
    "import os, sys, time, shutil, scipy, cv2, json, datetime\n",
    "import PIL.Image\n",
    "from tqdm.notebook import tqdm\n",
    "\n",
    "import warnings\n",
    "warnings.simplefilter(\"ignore\")\n",
    "\n",
    "from sklearn.model_selection import train_test_split\n",
    "\n",
    "%reload_ext autoreload\n",
    "%autoreload 2\n",
    "from utils import *\n"
   ]
  },
  {
   "source": [
    "# Dataset 1 (80-10-10 Split)"
   ],
   "cell_type": "markdown",
   "metadata": {}
  },
  {
   "cell_type": "code",
   "execution_count": 2,
   "metadata": {},
   "outputs": [
    {
     "output_type": "execute_result",
     "data": {
      "text/plain": [
       "           file  patient_id   lesion_id  gender   age             site  \\\n",
       "0  ISIC_2637011  IP_7279968  IL_7972535    male  45.0        head/neck   \n",
       "1  ISIC_0015719  IP_3075186  IL_4649854  female  45.0  upper extremity   \n",
       "2  ISIC_0052212  IP_2842074  IL_9087444  female  50.0  lower extremity   \n",
       "3  ISIC_0068279  IP_6890425  IL_4255399  female  45.0        head/neck   \n",
       "4  ISIC_0074268  IP_8723313  IL_6898037  female  55.0  upper extremity   \n",
       "\n",
       "  diagnosis ben_mal  target  \n",
       "0   unknown  benign       0  \n",
       "1   unknown  benign       0  \n",
       "2     nevus  benign       0  \n",
       "3   unknown  benign       0  \n",
       "4   unknown  benign       0  "
      ],
      "text/html": "<div>\n<style scoped>\n    .dataframe tbody tr th:only-of-type {\n        vertical-align: middle;\n    }\n\n    .dataframe tbody tr th {\n        vertical-align: top;\n    }\n\n    .dataframe thead th {\n        text-align: right;\n    }\n</style>\n<table border=\"1\" class=\"dataframe\">\n  <thead>\n    <tr style=\"text-align: right;\">\n      <th></th>\n      <th>file</th>\n      <th>patient_id</th>\n      <th>lesion_id</th>\n      <th>gender</th>\n      <th>age</th>\n      <th>site</th>\n      <th>diagnosis</th>\n      <th>ben_mal</th>\n      <th>target</th>\n    </tr>\n  </thead>\n  <tbody>\n    <tr>\n      <th>0</th>\n      <td>ISIC_2637011</td>\n      <td>IP_7279968</td>\n      <td>IL_7972535</td>\n      <td>male</td>\n      <td>45.0</td>\n      <td>head/neck</td>\n      <td>unknown</td>\n      <td>benign</td>\n      <td>0</td>\n    </tr>\n    <tr>\n      <th>1</th>\n      <td>ISIC_0015719</td>\n      <td>IP_3075186</td>\n      <td>IL_4649854</td>\n      <td>female</td>\n      <td>45.0</td>\n      <td>upper extremity</td>\n      <td>unknown</td>\n      <td>benign</td>\n      <td>0</td>\n    </tr>\n    <tr>\n      <th>2</th>\n      <td>ISIC_0052212</td>\n      <td>IP_2842074</td>\n      <td>IL_9087444</td>\n      <td>female</td>\n      <td>50.0</td>\n      <td>lower extremity</td>\n      <td>nevus</td>\n      <td>benign</td>\n      <td>0</td>\n    </tr>\n    <tr>\n      <th>3</th>\n      <td>ISIC_0068279</td>\n      <td>IP_6890425</td>\n      <td>IL_4255399</td>\n      <td>female</td>\n      <td>45.0</td>\n      <td>head/neck</td>\n      <td>unknown</td>\n      <td>benign</td>\n      <td>0</td>\n    </tr>\n    <tr>\n      <th>4</th>\n      <td>ISIC_0074268</td>\n      <td>IP_8723313</td>\n      <td>IL_6898037</td>\n      <td>female</td>\n      <td>55.0</td>\n      <td>upper extremity</td>\n      <td>unknown</td>\n      <td>benign</td>\n      <td>0</td>\n    </tr>\n  </tbody>\n</table>\n</div>"
     },
     "metadata": {},
     "execution_count": 2
    }
   ],
   "source": [
    "df = pd.read_csv('../data/train20.csv', index_col=0)\n",
    "df.head()"
   ]
  },
  {
   "cell_type": "code",
   "execution_count": 3,
   "metadata": {},
   "outputs": [
    {
     "output_type": "stream",
     "name": "stdout",
     "text": [
      "<class 'pandas.core.frame.DataFrame'>\nInt64Index: 33126 entries, 0 to 33125\nData columns (total 9 columns):\n #   Column      Non-Null Count  Dtype  \n---  ------      --------------  -----  \n 0   file        33126 non-null  object \n 1   patient_id  33126 non-null  object \n 2   lesion_id   33126 non-null  object \n 3   gender      33061 non-null  object \n 4   age         33058 non-null  float64\n 5   site        32599 non-null  object \n 6   diagnosis   33126 non-null  object \n 7   ben_mal     33126 non-null  object \n 8   target      33126 non-null  int64  \ndtypes: float64(1), int64(1), object(7)\nmemory usage: 2.5+ MB\n"
     ]
    }
   ],
   "source": [
    "df.info()"
   ]
  },
  {
   "cell_type": "code",
   "execution_count": 4,
   "metadata": {},
   "outputs": [],
   "source": [
    "melanoma = df[df.target == 1]\n",
    "non_melanoma = df[df.target == 0]\n",
    "y_mel = melanoma.target\n",
    "X_mel = melanoma.drop(columns=['target'], axis=1)\n",
    "y_non_mel = non_melanoma.target\n",
    "X_non_mel = non_melanoma.drop(columns=['target'], axis=1)"
   ]
  },
  {
   "cell_type": "code",
   "execution_count": 5,
   "metadata": {},
   "outputs": [],
   "source": [
    "X_tr_m, X_val_m, y_tr_m, y_val_m = train_test_split(X_mel, y_mel, random_state=42, test_size=0.2)\n",
    "X_tr_nm, X_val_nm, y_tr_nm, y_val_nm = train_test_split(X_non_mel, y_non_mel, random_state=42, test_size=0.2)\n",
    "\n",
    "mel_train = pd.concat([X_tr_m, y_tr_m], axis=1)\n",
    "non_mel_train = pd.concat([X_tr_nm, y_tr_nm], axis=1)\n",
    "train = pd.concat([mel_train, non_mel_train], axis=0)\n",
    "train = train.reset_index(drop=True)"
   ]
  },
  {
   "cell_type": "code",
   "execution_count": 47,
   "metadata": {},
   "outputs": [],
   "source": [
    "X_val_m2, X_tt_m, y_val_m2, y_tt_m = train_test_split(X_val_m, y_val_m, random_state=42, test_size=0.5)\n",
    "X_val_nm2, X_tt_nm, y_val_nm2, y_tt_nm = train_test_split(X_val_nm, y_val_nm, random_state=42, test_size=0.5)\n",
    "\n",
    "mel_val = pd.concat([X_val_m2, y_val_m2], axis=1)\n",
    "non_mel_val = pd.concat([X_val_nm2, y_val_nm2], axis=1)\n",
    "mel_tt = pd.concat([X_tt_m, y_tt_m], axis=1)\n",
    "non_mel_tt = pd.concat([X_tt_nm, y_tt_nm], axis=1)\n",
    "\n",
    "validation = pd.concat([mel_val, non_mel_val], axis=0)\n",
    "validation = validation.reset_index(drop=True)\n",
    "\n",
    "test = pd.concat([mel_tt, non_mel_tt], axis=0)\n",
    "test = test.reset_index(drop=True)"
   ]
  },
  {
   "cell_type": "code",
   "execution_count": 14,
   "metadata": {},
   "outputs": [
    {
     "output_type": "execute_result",
     "data": {
      "text/plain": [
       "           file  target\n",
       "0  ISIC_1569119       1\n",
       "1  ISIC_7536704       1\n",
       "2  ISIC_3696488       1\n",
       "3  ISIC_3343475       1\n",
       "4  ISIC_7785723       1"
      ],
      "text/html": "<div>\n<style scoped>\n    .dataframe tbody tr th:only-of-type {\n        vertical-align: middle;\n    }\n\n    .dataframe tbody tr th {\n        vertical-align: top;\n    }\n\n    .dataframe thead th {\n        text-align: right;\n    }\n</style>\n<table border=\"1\" class=\"dataframe\">\n  <thead>\n    <tr style=\"text-align: right;\">\n      <th></th>\n      <th>file</th>\n      <th>target</th>\n    </tr>\n  </thead>\n  <tbody>\n    <tr>\n      <th>0</th>\n      <td>ISIC_1569119</td>\n      <td>1</td>\n    </tr>\n    <tr>\n      <th>1</th>\n      <td>ISIC_7536704</td>\n      <td>1</td>\n    </tr>\n    <tr>\n      <th>2</th>\n      <td>ISIC_3696488</td>\n      <td>1</td>\n    </tr>\n    <tr>\n      <th>3</th>\n      <td>ISIC_3343475</td>\n      <td>1</td>\n    </tr>\n    <tr>\n      <th>4</th>\n      <td>ISIC_7785723</td>\n      <td>1</td>\n    </tr>\n  </tbody>\n</table>\n</div>"
     },
     "metadata": {},
     "execution_count": 14
    }
   ],
   "source": [
    "tr = train[['file', 'target']]\n",
    "tr.head()"
   ]
  },
  {
   "cell_type": "code",
   "execution_count": 15,
   "metadata": {},
   "outputs": [
    {
     "output_type": "execute_result",
     "data": {
      "text/plain": [
       "0    26033\n",
       "1      467\n",
       "Name: target, dtype: int64"
      ]
     },
     "metadata": {},
     "execution_count": 15
    }
   ],
   "source": [
    "tr.target.value_counts()"
   ]
  },
  {
   "cell_type": "code",
   "execution_count": 17,
   "metadata": {},
   "outputs": [
    {
     "output_type": "execute_result",
     "data": {
      "text/plain": [
       "           file  target\n",
       "0  ISIC_6124481       1\n",
       "1  ISIC_1255336       1\n",
       "2  ISIC_2408815       1\n",
       "3  ISIC_5343231       1\n",
       "4  ISIC_8306697       1"
      ],
      "text/html": "<div>\n<style scoped>\n    .dataframe tbody tr th:only-of-type {\n        vertical-align: middle;\n    }\n\n    .dataframe tbody tr th {\n        vertical-align: top;\n    }\n\n    .dataframe thead th {\n        text-align: right;\n    }\n</style>\n<table border=\"1\" class=\"dataframe\">\n  <thead>\n    <tr style=\"text-align: right;\">\n      <th></th>\n      <th>file</th>\n      <th>target</th>\n    </tr>\n  </thead>\n  <tbody>\n    <tr>\n      <th>0</th>\n      <td>ISIC_6124481</td>\n      <td>1</td>\n    </tr>\n    <tr>\n      <th>1</th>\n      <td>ISIC_1255336</td>\n      <td>1</td>\n    </tr>\n    <tr>\n      <th>2</th>\n      <td>ISIC_2408815</td>\n      <td>1</td>\n    </tr>\n    <tr>\n      <th>3</th>\n      <td>ISIC_5343231</td>\n      <td>1</td>\n    </tr>\n    <tr>\n      <th>4</th>\n      <td>ISIC_8306697</td>\n      <td>1</td>\n    </tr>\n  </tbody>\n</table>\n</div>"
     },
     "metadata": {},
     "execution_count": 17
    }
   ],
   "source": [
    "val = validation[['file', 'target']]\n",
    "val.head()"
   ]
  },
  {
   "cell_type": "code",
   "execution_count": 18,
   "metadata": {},
   "outputs": [
    {
     "output_type": "execute_result",
     "data": {
      "text/plain": [
       "0    3254\n",
       "1      58\n",
       "Name: target, dtype: int64"
      ]
     },
     "metadata": {},
     "execution_count": 18
    }
   ],
   "source": [
    "val.target.value_counts()"
   ]
  },
  {
   "cell_type": "code",
   "execution_count": 21,
   "metadata": {},
   "outputs": [
    {
     "output_type": "execute_result",
     "data": {
      "text/plain": [
       "           file  target\n",
       "0  ISIC_7346228       1\n",
       "1  ISIC_8838753       1\n",
       "2  ISIC_3084312       1\n",
       "3  ISIC_3068885       1\n",
       "4  ISIC_9164054       1"
      ],
      "text/html": "<div>\n<style scoped>\n    .dataframe tbody tr th:only-of-type {\n        vertical-align: middle;\n    }\n\n    .dataframe tbody tr th {\n        vertical-align: top;\n    }\n\n    .dataframe thead th {\n        text-align: right;\n    }\n</style>\n<table border=\"1\" class=\"dataframe\">\n  <thead>\n    <tr style=\"text-align: right;\">\n      <th></th>\n      <th>file</th>\n      <th>target</th>\n    </tr>\n  </thead>\n  <tbody>\n    <tr>\n      <th>0</th>\n      <td>ISIC_7346228</td>\n      <td>1</td>\n    </tr>\n    <tr>\n      <th>1</th>\n      <td>ISIC_8838753</td>\n      <td>1</td>\n    </tr>\n    <tr>\n      <th>2</th>\n      <td>ISIC_3084312</td>\n      <td>1</td>\n    </tr>\n    <tr>\n      <th>3</th>\n      <td>ISIC_3068885</td>\n      <td>1</td>\n    </tr>\n    <tr>\n      <th>4</th>\n      <td>ISIC_9164054</td>\n      <td>1</td>\n    </tr>\n  </tbody>\n</table>\n</div>"
     },
     "metadata": {},
     "execution_count": 21
    }
   ],
   "source": [
    "tt = test[['file', 'target']]\n",
    "tt.head()"
   ]
  },
  {
   "cell_type": "code",
   "execution_count": 22,
   "metadata": {},
   "outputs": [
    {
     "output_type": "execute_result",
     "data": {
      "text/plain": [
       "0    3255\n",
       "1      59\n",
       "Name: target, dtype: int64"
      ]
     },
     "metadata": {},
     "execution_count": 22
    }
   ],
   "source": [
    "tt.target.value_counts()"
   ]
  },
  {
   "cell_type": "code",
   "execution_count": 25,
   "metadata": {},
   "outputs": [
    {
     "output_type": "execute_result",
     "data": {
      "text/plain": [
       "26500"
      ]
     },
     "metadata": {},
     "execution_count": 25
    }
   ],
   "source": [
    "len(tr)"
   ]
  },
  {
   "cell_type": "code",
   "execution_count": 26,
   "metadata": {},
   "outputs": [
    {
     "output_type": "execute_result",
     "data": {
      "text/plain": [
       "3312"
      ]
     },
     "metadata": {},
     "execution_count": 26
    }
   ],
   "source": [
    "len(val)"
   ]
  },
  {
   "cell_type": "code",
   "execution_count": 27,
   "metadata": {},
   "outputs": [
    {
     "output_type": "execute_result",
     "data": {
      "text/plain": [
       "3314"
      ]
     },
     "metadata": {},
     "execution_count": 27
    }
   ],
   "source": [
    "len(tt)"
   ]
  },
  {
   "cell_type": "code",
   "execution_count": 74,
   "metadata": {},
   "outputs": [],
   "source": [
    "tr.to_csv('../data/train.csv')\n",
    "val.to_csv('../data/val.csv')\n",
    "tt.to_csv(\"../data/test.csv\")"
   ]
  },
  {
   "source": [],
   "cell_type": "markdown",
   "metadata": {}
  },
  {
   "source": [
    "# Creating Proper Folder Structure"
   ],
   "cell_type": "markdown",
   "metadata": {}
  },
  {
   "cell_type": "code",
   "execution_count": 29,
   "metadata": {},
   "outputs": [],
   "source": [
    "top_dir = 'split/'\n",
    "# os.mkdir(source_dir)"
   ]
  },
  {
   "source": [
    "## Training Set"
   ],
   "cell_type": "markdown",
   "metadata": {}
  },
  {
   "cell_type": "code",
   "execution_count": 20,
   "metadata": {},
   "outputs": [],
   "source": [
    "tr_fldr = os.path.join(top_dir, 'train')\n",
    "tr_mel = os.path.join(tr_fldr, 'mel')\n",
    "tr_nm = os.path.join(tr_fldr, 'not_mel')\n",
    "\n",
    "# os.mkdir(tr_fldr)\n",
    "# os.mkdir(tr_mel)\n",
    "# os.mkdir(tr_nm)"
   ]
  },
  {
   "cell_type": "code",
   "execution_count": 21,
   "metadata": {},
   "outputs": [],
   "source": [
    "train['jpg'] = train.file.apply(lambda x: str(x) + '.jpg')\n",
    "mel_train = train[train.target == 1]\n",
    "non_mel_train = train[train.target == 0]"
   ]
  },
  {
   "cell_type": "code",
   "execution_count": 22,
   "metadata": {},
   "outputs": [],
   "source": [
    "images_dir = 'data/train_jpg'\n",
    "mel_tr_ids = mel_train.jpg.to_list()\n",
    "nm_tr_ids = non_mel_train.jpg.to_list()"
   ]
  },
  {
   "cell_type": "code",
   "execution_count": 23,
   "metadata": {},
   "outputs": [],
   "source": [
    "# for img in tqdm (mel_tr_ids):\n",
    "#     shutil.copyfile(os.path.join(images_dir, img), os.path.join(tr_mel, img))"
   ]
  },
  {
   "cell_type": "code",
   "execution_count": 24,
   "metadata": {},
   "outputs": [],
   "source": [
    "# for img in tqdm(nm_tr_ids):\n",
    "#     shutil.copyfile(os.path.join(images_dir, img), os.path.join(tr_nm, img))"
   ]
  },
  {
   "source": [
    "## Validation Set"
   ],
   "cell_type": "markdown",
   "metadata": {}
  },
  {
   "cell_type": "code",
   "execution_count": 25,
   "metadata": {},
   "outputs": [],
   "source": [
    "val_fldr = os.path.join(top_dir, 'val')\n",
    "val_mel = os.path.join(val_fldr, 'mel')\n",
    "val_nm = os.path.join(val_fldr, 'not_mel')\n",
    "\n",
    "# os.mkdir(val_fldr)\n",
    "# os.mkdir(val_mel)\n",
    "# os.mkdir(val_nm)"
   ]
  },
  {
   "cell_type": "code",
   "execution_count": 26,
   "metadata": {},
   "outputs": [],
   "source": [
    "val['jpg'] = val.file.apply(lambda x: str(x) + 'jpg')\n",
    "mel_val = val[val.target == 1]\n",
    "non_mel_val = val[val.target == 0]\n",
    "\n",
    "mel_val_ids = mel_val.jpg.to_list()\n",
    "nm_val_ids = non_mel_val.jpg.to_list()"
   ]
  },
  {
   "cell_type": "code",
   "execution_count": 27,
   "metadata": {},
   "outputs": [],
   "source": [
    "# for img in mel_val_ids:\n",
    "#     shutil.copyfile(os.path.join(images_dir, img), os.path.join(val_mel, img))    "
   ]
  },
  {
   "cell_type": "code",
   "execution_count": 28,
   "metadata": {},
   "outputs": [],
   "source": [
    "# for img in nm_val_ids:\n",
    "#     shutil.copyfile(os.path.join(images_dir, img), os.path.join(val_nm, img))"
   ]
  },
  {
   "source": [
    "## Testing Set"
   ],
   "cell_type": "markdown",
   "metadata": {}
  },
  {
   "cell_type": "code",
   "execution_count": 31,
   "metadata": {},
   "outputs": [],
   "source": [
    "tt_fldr = os.path.join(top_dir, 'test')\n",
    "tt_mel = os.path.join(tt_fldr, 'mel')\n",
    "tt_nm = os.path.join(tt_fldr, 'not_mel')"
   ]
  },
  {
   "cell_type": "code",
   "execution_count": 53,
   "metadata": {},
   "outputs": [],
   "source": [
    "tt['jpg'] = tt.file.apply(lambda x: str(x) + 'jpg')\n",
    "mel_tt = tt[tt.target == 1]\n",
    "non_mel_tt = tt[tt.target == 0]\n",
    "\n",
    "mel_tt_ids = mel_tt.jpg.to_list()\n",
    "nm_tt_ids = non_mel_tt.jpg.to_list()"
   ]
  },
  {
   "cell_type": "code",
   "execution_count": 60,
   "metadata": {},
   "outputs": [],
   "source": [
    "# images_dir = '../split/val/mel'\n",
    "# for img in mel_tt_ids:\n",
    "#      shutil.copyfile(os.path.join(images_dir, img), os.path.join(tt_mel, img))   "
   ]
  },
  {
   "source": [
    "# Post-Transformation Train-Validation-Test Split"
   ],
   "cell_type": "markdown",
   "metadata": {}
  },
  {
   "cell_type": "code",
   "execution_count": 55,
   "metadata": {},
   "outputs": [
    {
     "output_type": "execute_result",
     "data": {
      "text/plain": [
       "           file  patient_id   lesion_id  gender   age             site  \\\n",
       "0  ISIC_2637011  IP_7279968  IL_7972535    male  45.0        head/neck   \n",
       "1  ISIC_0015719  IP_3075186  IL_4649854  female  45.0  upper extremity   \n",
       "2  ISIC_0052212  IP_2842074  IL_9087444  female  50.0  lower extremity   \n",
       "3  ISIC_0068279  IP_6890425  IL_4255399  female  45.0        head/neck   \n",
       "4  ISIC_0074268  IP_8723313  IL_6898037  female  55.0  upper extremity   \n",
       "\n",
       "  diagnosis ben_mal  target  \n",
       "0   unknown  benign       0  \n",
       "1   unknown  benign       0  \n",
       "2     nevus  benign       0  \n",
       "3   unknown  benign       0  \n",
       "4   unknown  benign       0  "
      ],
      "text/html": "<div>\n<style scoped>\n    .dataframe tbody tr th:only-of-type {\n        vertical-align: middle;\n    }\n\n    .dataframe tbody tr th {\n        vertical-align: top;\n    }\n\n    .dataframe thead th {\n        text-align: right;\n    }\n</style>\n<table border=\"1\" class=\"dataframe\">\n  <thead>\n    <tr style=\"text-align: right;\">\n      <th></th>\n      <th>file</th>\n      <th>patient_id</th>\n      <th>lesion_id</th>\n      <th>gender</th>\n      <th>age</th>\n      <th>site</th>\n      <th>diagnosis</th>\n      <th>ben_mal</th>\n      <th>target</th>\n    </tr>\n  </thead>\n  <tbody>\n    <tr>\n      <th>0</th>\n      <td>ISIC_2637011</td>\n      <td>IP_7279968</td>\n      <td>IL_7972535</td>\n      <td>male</td>\n      <td>45.0</td>\n      <td>head/neck</td>\n      <td>unknown</td>\n      <td>benign</td>\n      <td>0</td>\n    </tr>\n    <tr>\n      <th>1</th>\n      <td>ISIC_0015719</td>\n      <td>IP_3075186</td>\n      <td>IL_4649854</td>\n      <td>female</td>\n      <td>45.0</td>\n      <td>upper extremity</td>\n      <td>unknown</td>\n      <td>benign</td>\n      <td>0</td>\n    </tr>\n    <tr>\n      <th>2</th>\n      <td>ISIC_0052212</td>\n      <td>IP_2842074</td>\n      <td>IL_9087444</td>\n      <td>female</td>\n      <td>50.0</td>\n      <td>lower extremity</td>\n      <td>nevus</td>\n      <td>benign</td>\n      <td>0</td>\n    </tr>\n    <tr>\n      <th>3</th>\n      <td>ISIC_0068279</td>\n      <td>IP_6890425</td>\n      <td>IL_4255399</td>\n      <td>female</td>\n      <td>45.0</td>\n      <td>head/neck</td>\n      <td>unknown</td>\n      <td>benign</td>\n      <td>0</td>\n    </tr>\n    <tr>\n      <th>4</th>\n      <td>ISIC_0074268</td>\n      <td>IP_8723313</td>\n      <td>IL_6898037</td>\n      <td>female</td>\n      <td>55.0</td>\n      <td>upper extremity</td>\n      <td>unknown</td>\n      <td>benign</td>\n      <td>0</td>\n    </tr>\n  </tbody>\n</table>\n</div>"
     },
     "metadata": {},
     "execution_count": 55
    }
   ],
   "source": [
    "df2 = pd.read_csv('../data/tr_tot.csv', index_col=0)\n",
    "df2.head()"
   ]
  },
  {
   "cell_type": "code",
   "execution_count": 56,
   "metadata": {},
   "outputs": [
    {
     "output_type": "execute_result",
     "data": {
      "text/plain": [
       "0    32542\n",
       "1     5106\n",
       "Name: target, dtype: int64"
      ]
     },
     "metadata": {},
     "execution_count": 56
    }
   ],
   "source": [
    "df2.target.value_counts()"
   ]
  },
  {
   "cell_type": "code",
   "execution_count": 57,
   "metadata": {},
   "outputs": [
    {
     "output_type": "execute_result",
     "data": {
      "text/plain": [
       "ISIC_0072182    1\n",
       "ISIC_3179296    1\n",
       "ISIC_5587291    1\n",
       "ISIC_9935970    1\n",
       "ISIC_7309194    1\n",
       "               ..\n",
       "ISIC_9448599    1\n",
       "ISIC_0026430    1\n",
       "ISIC_9898848    1\n",
       "ISIC_8572893    1\n",
       "ISIC_5423896    1\n",
       "Name: file, Length: 37648, dtype: int64"
      ]
     },
     "metadata": {},
     "execution_count": 57
    }
   ],
   "source": [
    "df2.file.value_counts()"
   ]
  },
  {
   "cell_type": "code",
   "execution_count": 58,
   "metadata": {},
   "outputs": [
    {
     "output_type": "stream",
     "name": "stdout",
     "text": [
      "<class 'pandas.core.frame.DataFrame'>\nInt64Index: 37648 entries, 0 to 37647\nData columns (total 9 columns):\n #   Column      Non-Null Count  Dtype  \n---  ------      --------------  -----  \n 0   file        37648 non-null  object \n 1   patient_id  33126 non-null  object \n 2   lesion_id   37311 non-null  object \n 3   gender      37502 non-null  object \n 4   age         37495 non-null  float64\n 5   site        36994 non-null  object \n 6   diagnosis   33126 non-null  object \n 7   ben_mal     33126 non-null  object \n 8   target      37648 non-null  int64  \ndtypes: float64(1), int64(1), object(7)\nmemory usage: 2.9+ MB\n"
     ]
    }
   ],
   "source": [
    "df2.info()"
   ]
  },
  {
   "cell_type": "code",
   "execution_count": 59,
   "metadata": {},
   "outputs": [],
   "source": [
    "melanoma2 = df2[df2.target == 1]\n",
    "non_melanoma2 = df2[df2.target == 0]\n",
    "y_mel2 = melanoma2.target\n",
    "X_mel2 = melanoma2.drop(columns=['target'], axis=1)\n",
    "y_non_mel2 = non_melanoma2.target\n",
    "X_non_mel2 = non_melanoma2.drop(columns=['target'], axis=1)"
   ]
  },
  {
   "cell_type": "code",
   "execution_count": 61,
   "metadata": {},
   "outputs": [],
   "source": [
    "X_tr2_m, X_val2_m, y_tr2_m, y_val2_m = train_test_split(X_mel2, y_mel2, random_state=42, test_size=0.2)\n",
    "X_tr2_nm, X_val2_nm, y_tr2_nm, y_val2_nm = train_test_split(X_non_mel2, y_non_mel2, random_state=42, test_size=0.2)\n",
    "\n",
    "mel_train2 = pd.concat([X_tr2_m, y_tr2_m], axis=1)\n",
    "non_mel_train2 = pd.concat([X_tr2_nm, y_tr2_nm], axis=1)\n",
    "\n",
    "train2 = pd.concat([mel_train2, non_mel_train2], axis=0)\n",
    "train2 = train2.reset_index(drop=True)"
   ]
  },
  {
   "cell_type": "code",
   "execution_count": 62,
   "metadata": {},
   "outputs": [],
   "source": [
    "X_val2_m2, X_tt2_m, y_val2_m2, y_tt2_m = train_test_split(X_val2_m, y_val2_m, random_state=42, test_size=0.5)\n",
    "X_val2_nm2, X_tt2_nm, y_val2_nm2, y_tt2_nm = train_test_split(X_val2_nm, y_val2_nm, random_state=42, test_size=0.5)\n",
    "\n",
    "non_mel_val2 = pd.concat([X_val2_m2, y_val2_m2], axis=1)\n",
    "non_mel_val2 = pd.concat([X_val2_nm2, y_val2_nm2], axis=1)\n",
    "mel_tt2 = pd.concat([X_tt2_m, y_tt2_m], axis=1)\n",
    "non_mel_tt2 = pd.concat([X_tt2_nm, y_tt2_nm], axis=1)\n",
    "\n",
    "validation2 = pd.concat([mel_val, non_mel_val], axis=0)\n",
    "validation2 = validation2.reset_index(drop=True)\n",
    "\n",
    "test2 = pd.concat([mel_tt2, non_mel_tt2], axis=0)\n",
    "test2 = test2.reset_index(drop=True)"
   ]
  },
  {
   "cell_type": "code",
   "execution_count": 63,
   "metadata": {},
   "outputs": [
    {
     "output_type": "execute_result",
     "data": {
      "text/plain": [
       "                       file  target\n",
       "0              ISIC_0065823       1\n",
       "1  ISIC_0013908_downsampled       1\n",
       "2              ISIC_0054089       1\n",
       "3              ISIC_0061371       1\n",
       "4              ISIC_8702237       1"
      ],
      "text/html": "<div>\n<style scoped>\n    .dataframe tbody tr th:only-of-type {\n        vertical-align: middle;\n    }\n\n    .dataframe tbody tr th {\n        vertical-align: top;\n    }\n\n    .dataframe thead th {\n        text-align: right;\n    }\n</style>\n<table border=\"1\" class=\"dataframe\">\n  <thead>\n    <tr style=\"text-align: right;\">\n      <th></th>\n      <th>file</th>\n      <th>target</th>\n    </tr>\n  </thead>\n  <tbody>\n    <tr>\n      <th>0</th>\n      <td>ISIC_0065823</td>\n      <td>1</td>\n    </tr>\n    <tr>\n      <th>1</th>\n      <td>ISIC_0013908_downsampled</td>\n      <td>1</td>\n    </tr>\n    <tr>\n      <th>2</th>\n      <td>ISIC_0054089</td>\n      <td>1</td>\n    </tr>\n    <tr>\n      <th>3</th>\n      <td>ISIC_0061371</td>\n      <td>1</td>\n    </tr>\n    <tr>\n      <th>4</th>\n      <td>ISIC_8702237</td>\n      <td>1</td>\n    </tr>\n  </tbody>\n</table>\n</div>"
     },
     "metadata": {},
     "execution_count": 63
    }
   ],
   "source": [
    "tr2 = train2[['file', 'target']]\n",
    "tr2.head()"
   ]
  },
  {
   "cell_type": "code",
   "execution_count": 64,
   "metadata": {},
   "outputs": [
    {
     "output_type": "execute_result",
     "data": {
      "text/plain": [
       "30117"
      ]
     },
     "metadata": {},
     "execution_count": 64
    }
   ],
   "source": [
    "len(tr2)"
   ]
  },
  {
   "cell_type": "code",
   "execution_count": 65,
   "metadata": {},
   "outputs": [
    {
     "output_type": "execute_result",
     "data": {
      "text/plain": [
       "0    26033\n",
       "1     4084\n",
       "Name: target, dtype: int64"
      ]
     },
     "metadata": {},
     "execution_count": 65
    }
   ],
   "source": [
    "tr2.target.value_counts()"
   ]
  },
  {
   "cell_type": "code",
   "execution_count": 66,
   "metadata": {},
   "outputs": [
    {
     "output_type": "execute_result",
     "data": {
      "text/plain": [
       "           file  target\n",
       "0  ISIC_0066678       1\n",
       "1  ISIC_0057668       1\n",
       "2  ISIC_0053843       1\n",
       "3  ISIC_0072218       1\n",
       "4  ISIC_0032685       1"
      ],
      "text/html": "<div>\n<style scoped>\n    .dataframe tbody tr th:only-of-type {\n        vertical-align: middle;\n    }\n\n    .dataframe tbody tr th {\n        vertical-align: top;\n    }\n\n    .dataframe thead th {\n        text-align: right;\n    }\n</style>\n<table border=\"1\" class=\"dataframe\">\n  <thead>\n    <tr style=\"text-align: right;\">\n      <th></th>\n      <th>file</th>\n      <th>target</th>\n    </tr>\n  </thead>\n  <tbody>\n    <tr>\n      <th>0</th>\n      <td>ISIC_0066678</td>\n      <td>1</td>\n    </tr>\n    <tr>\n      <th>1</th>\n      <td>ISIC_0057668</td>\n      <td>1</td>\n    </tr>\n    <tr>\n      <th>2</th>\n      <td>ISIC_0053843</td>\n      <td>1</td>\n    </tr>\n    <tr>\n      <th>3</th>\n      <td>ISIC_0072218</td>\n      <td>1</td>\n    </tr>\n    <tr>\n      <th>4</th>\n      <td>ISIC_0032685</td>\n      <td>1</td>\n    </tr>\n  </tbody>\n</table>\n</div>"
     },
     "metadata": {},
     "execution_count": 66
    }
   ],
   "source": [
    "val2 = validation2[['file', 'target']]\n",
    "val2.head()"
   ]
  },
  {
   "cell_type": "code",
   "execution_count": 67,
   "metadata": {},
   "outputs": [
    {
     "output_type": "execute_result",
     "data": {
      "text/plain": [
       "3765"
      ]
     },
     "metadata": {},
     "execution_count": 67
    }
   ],
   "source": [
    "len(val2)"
   ]
  },
  {
   "cell_type": "code",
   "execution_count": 68,
   "metadata": {},
   "outputs": [
    {
     "output_type": "execute_result",
     "data": {
      "text/plain": [
       "0    3254\n",
       "1     511\n",
       "Name: target, dtype: int64"
      ]
     },
     "metadata": {},
     "execution_count": 68
    }
   ],
   "source": [
    "val2.target.value_counts()"
   ]
  },
  {
   "cell_type": "code",
   "execution_count": 69,
   "metadata": {},
   "outputs": [
    {
     "output_type": "execute_result",
     "data": {
      "text/plain": [
       "           file  target\n",
       "0  ISIC_0064868       1\n",
       "1  ISIC_0032617       1\n",
       "2  ISIC_0061378       1\n",
       "3  ISIC_0065382       1\n",
       "4  ISIC_5732201       1"
      ],
      "text/html": "<div>\n<style scoped>\n    .dataframe tbody tr th:only-of-type {\n        vertical-align: middle;\n    }\n\n    .dataframe tbody tr th {\n        vertical-align: top;\n    }\n\n    .dataframe thead th {\n        text-align: right;\n    }\n</style>\n<table border=\"1\" class=\"dataframe\">\n  <thead>\n    <tr style=\"text-align: right;\">\n      <th></th>\n      <th>file</th>\n      <th>target</th>\n    </tr>\n  </thead>\n  <tbody>\n    <tr>\n      <th>0</th>\n      <td>ISIC_0064868</td>\n      <td>1</td>\n    </tr>\n    <tr>\n      <th>1</th>\n      <td>ISIC_0032617</td>\n      <td>1</td>\n    </tr>\n    <tr>\n      <th>2</th>\n      <td>ISIC_0061378</td>\n      <td>1</td>\n    </tr>\n    <tr>\n      <th>3</th>\n      <td>ISIC_0065382</td>\n      <td>1</td>\n    </tr>\n    <tr>\n      <th>4</th>\n      <td>ISIC_5732201</td>\n      <td>1</td>\n    </tr>\n  </tbody>\n</table>\n</div>"
     },
     "metadata": {},
     "execution_count": 69
    }
   ],
   "source": [
    "tt2 = test2[['file', 'target']]\n",
    "tt2.head()"
   ]
  },
  {
   "cell_type": "code",
   "execution_count": 70,
   "metadata": {},
   "outputs": [
    {
     "output_type": "execute_result",
     "data": {
      "text/plain": [
       "3766"
      ]
     },
     "metadata": {},
     "execution_count": 70
    }
   ],
   "source": [
    "len(tt2)"
   ]
  },
  {
   "cell_type": "code",
   "execution_count": 71,
   "metadata": {},
   "outputs": [
    {
     "output_type": "execute_result",
     "data": {
      "text/plain": [
       "0    3255\n",
       "1     511\n",
       "Name: target, dtype: int64"
      ]
     },
     "metadata": {},
     "execution_count": 71
    }
   ],
   "source": [
    "test2.target.value_counts()"
   ]
  },
  {
   "cell_type": "code",
   "execution_count": 73,
   "metadata": {},
   "outputs": [],
   "source": [
    "tr2.to_csv(\"../data/train2.csv\")\n",
    "val2.to_csv(\"../data/val2.csv\")\n",
    "tt2.to_csv(\"../data/tt2.csv\")"
   ]
  },
  {
   "source": [
    "## Training Dataset"
   ],
   "cell_type": "markdown",
   "metadata": {}
  },
  {
   "cell_type": "code",
   "execution_count": 42,
   "metadata": {},
   "outputs": [],
   "source": [
    "tr2['jpg'] = tr2.file.apply(lambda x: str(x) + '.jpg')\n",
    "mel_tr = tr2[tr2.target == 1]\n",
    "nm_tr = tr2[tr2.target == 0]\n",
    "\n",
    "mel_tr_ids = mel_tr.jpg.to_list()\n",
    "nm_tr_ids = nm_tr.jpg.to_list()"
   ]
  },
  {
   "cell_type": "code",
   "execution_count": 46,
   "metadata": {},
   "outputs": [],
   "source": [
    "images_dir = '../jpegs'\n",
    "tr_mel = '../split/train/mel'\n",
    "tr_nm = '../split/train/not_mel'\n"
   ]
  },
  {
   "cell_type": "code",
   "execution_count": 47,
   "metadata": {},
   "outputs": [],
   "source": [
    "mel1 = mel_tr_ids[0:1000]\n",
    "mel2 = mel_tr_ids[1000:2000]\n",
    "mel3 = mel_tr_ids[2000:3000]\n",
    "mel4 = mel_tr_ids[3000:]"
   ]
  },
  {
   "cell_type": "code",
   "execution_count": 48,
   "metadata": {},
   "outputs": [
    {
     "output_type": "display_data",
     "data": {
      "text/plain": "  0%|          | 0/1000 [00:00<?, ?it/s]",
      "application/vnd.jupyter.widget-view+json": {
       "version_major": 2,
       "version_minor": 0,
       "model_id": "d04212a60c8646fa99e29011bba0251a"
      }
     },
     "metadata": {}
    }
   ],
   "source": [
    "for img in tqdm(mel1):\n",
    "    shutil.move(os.path.join(images_dir, img), os.path.join(tr_mel, img))"
   ]
  },
  {
   "cell_type": "code",
   "execution_count": 49,
   "metadata": {},
   "outputs": [
    {
     "output_type": "display_data",
     "data": {
      "text/plain": "  0%|          | 0/1000 [00:00<?, ?it/s]",
      "application/vnd.jupyter.widget-view+json": {
       "version_major": 2,
       "version_minor": 0,
       "model_id": "fea0b8eb96664116b49811b25a3cfa3b"
      }
     },
     "metadata": {}
    }
   ],
   "source": [
    "for img in tqdm(mel2):\n",
    "    shutil.move(os.path.join(images_dir, img), os.path.join(tr_mel, img))"
   ]
  },
  {
   "cell_type": "code",
   "execution_count": 50,
   "metadata": {},
   "outputs": [
    {
     "output_type": "display_data",
     "data": {
      "text/plain": "  0%|          | 0/1000 [00:00<?, ?it/s]",
      "application/vnd.jupyter.widget-view+json": {
       "version_major": 2,
       "version_minor": 0,
       "model_id": "b65f30d936bf44e88cf8f9fa24960735"
      }
     },
     "metadata": {}
    }
   ],
   "source": [
    "for img in tqdm(mel3):\n",
    "    shutil.move(os.path.join(images_dir, img), os.path.join(tr_mel, img))"
   ]
  },
  {
   "cell_type": "code",
   "execution_count": 51,
   "metadata": {},
   "outputs": [
    {
     "output_type": "display_data",
     "data": {
      "text/plain": "  0%|          | 0/1084 [00:00<?, ?it/s]",
      "application/vnd.jupyter.widget-view+json": {
       "version_major": 2,
       "version_minor": 0,
       "model_id": "60a692ef77424b5199f6269d9f346910"
      }
     },
     "metadata": {}
    }
   ],
   "source": [
    "for img in tqdm(mel4):\n",
    "    shutil.move(os.path.join(images_dir, img), os.path.join(tr_mel, img))"
   ]
  },
  {
   "cell_type": "code",
   "execution_count": 52,
   "metadata": {},
   "outputs": [],
   "source": [
    "nm1 = nm_tr_ids[0:2000]\n",
    "nm2 = nm_tr_ids[2000:4000]\n",
    "nm3 = nm_tr_ids[4000:6000]\n",
    "nm4 = nm_tr_ids[6000:8000]\n",
    "nm5 = nm_tr_ids[8000:10000]\n",
    "nm6 = nm_tr_ids[10000:12000]\n",
    "nm7 = nm_tr_ids[12000:14000]\n",
    "nm8 = nm_tr_ids[14000:16000]\n",
    "nm9 = nm_tr_ids[16000:18000]\n",
    "nm10 = nm_tr_ids[18000:20000]\n",
    "nm11 = nm_tr_ids[20000:22000]\n",
    "nm12 = nm_tr_ids[22000:24000]\n",
    "nm13 = nm_tr_ids[24000:]"
   ]
  },
  {
   "cell_type": "code",
   "execution_count": 62,
   "metadata": {},
   "outputs": [
    {
     "output_type": "display_data",
     "data": {
      "text/plain": "  0%|          | 0/2000 [00:00<?, ?it/s]",
      "application/vnd.jupyter.widget-view+json": {
       "version_major": 2,
       "version_minor": 0,
       "model_id": "70a40b5ecb874314b966f7e58696f5af"
      }
     },
     "metadata": {}
    }
   ],
   "source": [
    "for img in tqdm(nm1):\n",
    "    shutil.move(os.path.join(images_dir, img), os.path.join(tr_nm, img))"
   ]
  },
  {
   "cell_type": "code",
   "execution_count": 63,
   "metadata": {},
   "outputs": [
    {
     "output_type": "display_data",
     "data": {
      "text/plain": "  0%|          | 0/2000 [00:00<?, ?it/s]",
      "application/vnd.jupyter.widget-view+json": {
       "version_major": 2,
       "version_minor": 0,
       "model_id": "41dba694a6e8434a861d8990f008b346"
      }
     },
     "metadata": {}
    }
   ],
   "source": [
    "for img in tqdm(nm2):\n",
    "    shutil.move(os.path.join(images_dir, img), os.path.join(tr_nm, img))"
   ]
  },
  {
   "cell_type": "code",
   "execution_count": 64,
   "metadata": {},
   "outputs": [
    {
     "output_type": "display_data",
     "data": {
      "text/plain": "  0%|          | 0/2000 [00:00<?, ?it/s]",
      "application/vnd.jupyter.widget-view+json": {
       "version_major": 2,
       "version_minor": 0,
       "model_id": "4ec564894d1d45dbac9652c0c1594161"
      }
     },
     "metadata": {}
    }
   ],
   "source": [
    "for img in tqdm(nm3):\n",
    "    shutil.move(os.path.join(images_dir, img), os.path.join(tr_nm, img))"
   ]
  },
  {
   "cell_type": "code",
   "execution_count": 65,
   "metadata": {},
   "outputs": [
    {
     "output_type": "display_data",
     "data": {
      "text/plain": "  0%|          | 0/2000 [00:00<?, ?it/s]",
      "application/vnd.jupyter.widget-view+json": {
       "version_major": 2,
       "version_minor": 0,
       "model_id": "55809580ea034220be39e4730e595135"
      }
     },
     "metadata": {}
    }
   ],
   "source": [
    "for img in tqdm(nm4):\n",
    "    shutil.move(os.path.join(images_dir, img), os.path.join(tr_nm, img))"
   ]
  },
  {
   "cell_type": "code",
   "execution_count": 66,
   "metadata": {},
   "outputs": [
    {
     "output_type": "display_data",
     "data": {
      "text/plain": "  0%|          | 0/2000 [00:00<?, ?it/s]",
      "application/vnd.jupyter.widget-view+json": {
       "version_major": 2,
       "version_minor": 0,
       "model_id": "8680f1120bda42d8aef29bece8502a10"
      }
     },
     "metadata": {}
    }
   ],
   "source": [
    "for img in tqdm(nm5):\n",
    "    shutil.move(os.path.join(images_dir, img), os.path.join(tr_nm, img))"
   ]
  },
  {
   "cell_type": "code",
   "execution_count": 67,
   "metadata": {},
   "outputs": [
    {
     "output_type": "display_data",
     "data": {
      "text/plain": "  0%|          | 0/2000 [00:00<?, ?it/s]",
      "application/vnd.jupyter.widget-view+json": {
       "version_major": 2,
       "version_minor": 0,
       "model_id": "d96c4f067f77413ebf7ceee8d02b1b59"
      }
     },
     "metadata": {}
    }
   ],
   "source": [
    "for img in tqdm(nm6):\n",
    "    shutil.move(os.path.join(images_dir, img), os.path.join(tr_nm, img))"
   ]
  },
  {
   "cell_type": "code",
   "execution_count": 68,
   "metadata": {},
   "outputs": [
    {
     "output_type": "display_data",
     "data": {
      "text/plain": "  0%|          | 0/2000 [00:00<?, ?it/s]",
      "application/vnd.jupyter.widget-view+json": {
       "version_major": 2,
       "version_minor": 0,
       "model_id": "155daad0f8b449b48be539d371904f71"
      }
     },
     "metadata": {}
    }
   ],
   "source": [
    "for img in tqdm(nm7):\n",
    "    shutil.move(os.path.join(images_dir, img), os.path.join(tr_nm, img))"
   ]
  },
  {
   "cell_type": "code",
   "execution_count": 69,
   "metadata": {},
   "outputs": [
    {
     "output_type": "display_data",
     "data": {
      "text/plain": "  0%|          | 0/2000 [00:00<?, ?it/s]",
      "application/vnd.jupyter.widget-view+json": {
       "version_major": 2,
       "version_minor": 0,
       "model_id": "4f7e751e28a74a78af154a44b036b526"
      }
     },
     "metadata": {}
    }
   ],
   "source": [
    "for img in tqdm(nm8):\n",
    "    shutil.move(os.path.join(images_dir, img), os.path.join(tr_nm, img))"
   ]
  },
  {
   "cell_type": "code",
   "execution_count": 84,
   "metadata": {},
   "outputs": [
    {
     "output_type": "display_data",
     "data": {
      "text/plain": "  0%|          | 0/2000 [00:00<?, ?it/s]",
      "application/vnd.jupyter.widget-view+json": {
       "version_major": 2,
       "version_minor": 0,
       "model_id": "79b258e512d34df4921280a491ce5c1b"
      }
     },
     "metadata": {}
    }
   ],
   "source": [
    "for img in tqdm(nm9):\n",
    "    shutil.move(os.path.join(images_dir, img), os.path.join(tr_nm, img))"
   ]
  },
  {
   "cell_type": "code",
   "execution_count": 85,
   "metadata": {},
   "outputs": [
    {
     "output_type": "display_data",
     "data": {
      "text/plain": "  0%|          | 0/2000 [00:00<?, ?it/s]",
      "application/vnd.jupyter.widget-view+json": {
       "version_major": 2,
       "version_minor": 0,
       "model_id": "861048563123444c914239c570f985ec"
      }
     },
     "metadata": {}
    }
   ],
   "source": [
    "for img in tqdm(nm10):\n",
    "    shutil.move(os.path.join(images_dir, img), os.path.join(tr_nm, img))"
   ]
  },
  {
   "cell_type": "code",
   "execution_count": 87,
   "metadata": {},
   "outputs": [
    {
     "output_type": "display_data",
     "data": {
      "text/plain": "  0%|          | 0/2000 [00:00<?, ?it/s]",
      "application/vnd.jupyter.widget-view+json": {
       "version_major": 2,
       "version_minor": 0,
       "model_id": "284ffcafe04a4f10975672258b47918d"
      }
     },
     "metadata": {}
    }
   ],
   "source": [
    "for img in tqdm(nm11):\n",
    "    shutil.move(os.path.join(images_dir, img), os.path.join(tr_nm, img))"
   ]
  },
  {
   "cell_type": "code",
   "execution_count": 88,
   "metadata": {},
   "outputs": [
    {
     "output_type": "display_data",
     "data": {
      "text/plain": "  0%|          | 0/2000 [00:00<?, ?it/s]",
      "application/vnd.jupyter.widget-view+json": {
       "version_major": 2,
       "version_minor": 0,
       "model_id": "3661fcc63010415187231e72f607cb7d"
      }
     },
     "metadata": {}
    }
   ],
   "source": [
    "for img in tqdm(nm12):\n",
    "    shutil.move(os.path.join(images_dir, img), os.path.join(tr_nm, img))"
   ]
  },
  {
   "cell_type": "code",
   "execution_count": 89,
   "metadata": {},
   "outputs": [
    {
     "output_type": "display_data",
     "data": {
      "text/plain": "  0%|          | 0/2033 [00:00<?, ?it/s]",
      "application/vnd.jupyter.widget-view+json": {
       "version_major": 2,
       "version_minor": 0,
       "model_id": "97bb3d3a4217428ca5d263145eb26572"
      }
     },
     "metadata": {}
    }
   ],
   "source": [
    "for img in tqdm(nm13):\n",
    "    shutil.move(os.path.join(images_dir, img), os.path.join(tr_nm, img))"
   ]
  },
  {
   "source": [
    "## Sample Training Dataset"
   ],
   "cell_type": "markdown",
   "metadata": {}
  },
  {
   "cell_type": "code",
   "execution_count": 72,
   "metadata": {},
   "outputs": [
    {
     "output_type": "execute_result",
     "data": {
      "text/plain": [
       "                       file  target                           jpg\n",
       "0              ISIC_0065823       1              ISIC_0065823.jpg\n",
       "1  ISIC_0013908_downsampled       1  ISIC_0013908_downsampled.jpg\n",
       "2              ISIC_0054089       1              ISIC_0054089.jpg\n",
       "3              ISIC_0061371       1              ISIC_0061371.jpg\n",
       "4              ISIC_8702237       1              ISIC_8702237.jpg"
      ],
      "text/html": "<div>\n<style scoped>\n    .dataframe tbody tr th:only-of-type {\n        vertical-align: middle;\n    }\n\n    .dataframe tbody tr th {\n        vertical-align: top;\n    }\n\n    .dataframe thead th {\n        text-align: right;\n    }\n</style>\n<table border=\"1\" class=\"dataframe\">\n  <thead>\n    <tr style=\"text-align: right;\">\n      <th></th>\n      <th>file</th>\n      <th>target</th>\n      <th>jpg</th>\n    </tr>\n  </thead>\n  <tbody>\n    <tr>\n      <th>0</th>\n      <td>ISIC_0065823</td>\n      <td>1</td>\n      <td>ISIC_0065823.jpg</td>\n    </tr>\n    <tr>\n      <th>1</th>\n      <td>ISIC_0013908_downsampled</td>\n      <td>1</td>\n      <td>ISIC_0013908_downsampled.jpg</td>\n    </tr>\n    <tr>\n      <th>2</th>\n      <td>ISIC_0054089</td>\n      <td>1</td>\n      <td>ISIC_0054089.jpg</td>\n    </tr>\n    <tr>\n      <th>3</th>\n      <td>ISIC_0061371</td>\n      <td>1</td>\n      <td>ISIC_0061371.jpg</td>\n    </tr>\n    <tr>\n      <th>4</th>\n      <td>ISIC_8702237</td>\n      <td>1</td>\n      <td>ISIC_8702237.jpg</td>\n    </tr>\n  </tbody>\n</table>\n</div>"
     },
     "metadata": {},
     "execution_count": 72
    }
   ],
   "source": [
    "tr2.head()"
   ]
  },
  {
   "cell_type": "code",
   "execution_count": 77,
   "metadata": {},
   "outputs": [
    {
     "output_type": "execute_result",
     "data": {
      "text/plain": [
       "0    26033\n",
       "1     4084\n",
       "Name: target, dtype: int64"
      ]
     },
     "metadata": {},
     "execution_count": 77
    }
   ],
   "source": [
    "tr2.target.value_counts()"
   ]
  },
  {
   "cell_type": "code",
   "execution_count": 76,
   "metadata": {},
   "outputs": [
    {
     "output_type": "execute_result",
     "data": {
      "text/plain": [
       "   index          file  target               jpg\n",
       "0  22645  ISIC_5247383       0  ISIC_5247383.jpg\n",
       "1  19797  ISIC_4422476       0  ISIC_4422476.jpg\n",
       "2  18060  ISIC_8124459       0  ISIC_8124459.jpg\n",
       "3  29506  ISIC_1669883       0  ISIC_1669883.jpg\n",
       "4  17825  ISIC_5842418       0  ISIC_5842418.jpg"
      ],
      "text/html": "<div>\n<style scoped>\n    .dataframe tbody tr th:only-of-type {\n        vertical-align: middle;\n    }\n\n    .dataframe tbody tr th {\n        vertical-align: top;\n    }\n\n    .dataframe thead th {\n        text-align: right;\n    }\n</style>\n<table border=\"1\" class=\"dataframe\">\n  <thead>\n    <tr style=\"text-align: right;\">\n      <th></th>\n      <th>index</th>\n      <th>file</th>\n      <th>target</th>\n      <th>jpg</th>\n    </tr>\n  </thead>\n  <tbody>\n    <tr>\n      <th>0</th>\n      <td>22645</td>\n      <td>ISIC_5247383</td>\n      <td>0</td>\n      <td>ISIC_5247383.jpg</td>\n    </tr>\n    <tr>\n      <th>1</th>\n      <td>19797</td>\n      <td>ISIC_4422476</td>\n      <td>0</td>\n      <td>ISIC_4422476.jpg</td>\n    </tr>\n    <tr>\n      <th>2</th>\n      <td>18060</td>\n      <td>ISIC_8124459</td>\n      <td>0</td>\n      <td>ISIC_8124459.jpg</td>\n    </tr>\n    <tr>\n      <th>3</th>\n      <td>29506</td>\n      <td>ISIC_1669883</td>\n      <td>0</td>\n      <td>ISIC_1669883.jpg</td>\n    </tr>\n    <tr>\n      <th>4</th>\n      <td>17825</td>\n      <td>ISIC_5842418</td>\n      <td>0</td>\n      <td>ISIC_5842418.jpg</td>\n    </tr>\n  </tbody>\n</table>\n</div>"
     },
     "metadata": {},
     "execution_count": 76
    }
   ],
   "source": [
    "strat_tr = stratified_sample(df = tr2, strata = ['target'], size = 0.2, seed = 42)\n",
    "strat_tr.head()"
   ]
  },
  {
   "cell_type": "code",
   "execution_count": 78,
   "metadata": {},
   "outputs": [
    {
     "output_type": "execute_result",
     "data": {
      "text/plain": [
       "0    5206\n",
       "1     817\n",
       "Name: target, dtype: int64"
      ]
     },
     "metadata": {},
     "execution_count": 78
    }
   ],
   "source": [
    "strat_tr.target.value_counts()"
   ]
  },
  {
   "cell_type": "code",
   "execution_count": 90,
   "metadata": {},
   "outputs": [],
   "source": [
    "samp_mel_tr = strat_tr[strat_tr.target == 1]\n",
    "samp_nm_tr = strat_tr[strat_tr.target == 0]\n",
    "\n",
    "samp_mel_tr_ids = samp_mel_tr.jpg.to_list()\n",
    "samp_nm_tr_ids = samp_nm_tr.jpg.to_list()"
   ]
  },
  {
   "cell_type": "code",
   "execution_count": 91,
   "metadata": {},
   "outputs": [],
   "source": [
    "tr_mel_ori = '../split/train/mel'\n",
    "tr_mel_dest = '../sample/train/mel'\n",
    "tr_nm_ori = '../split/train/not_mel'\n",
    "tr_nm_dest = '../sample/train/not_mel'"
   ]
  },
  {
   "cell_type": "code",
   "execution_count": 92,
   "metadata": {},
   "outputs": [
    {
     "output_type": "display_data",
     "data": {
      "text/plain": "  0%|          | 0/817 [00:00<?, ?it/s]",
      "application/vnd.jupyter.widget-view+json": {
       "version_major": 2,
       "version_minor": 0,
       "model_id": "23f36a1be41e4f9f82a5f99383ea2544"
      }
     },
     "metadata": {}
    }
   ],
   "source": [
    "for img in tqdm(samp_mel_tr_ids):\n",
    "    shutil.copyfile(os.path.join(tr_mel_ori, img), os.path.join(tr_mel_dest, img))"
   ]
  },
  {
   "cell_type": "code",
   "execution_count": 93,
   "metadata": {},
   "outputs": [],
   "source": [
    "sam_tr_1 = samp_nm_tr_ids[0:2000]\n",
    "sam_tr_2 = samp_nm_tr_ids[2000:4000]\n",
    "sam_tr_3 = samp_nm_tr_ids[4000:] "
   ]
  },
  {
   "cell_type": "code",
   "execution_count": 94,
   "metadata": {},
   "outputs": [
    {
     "output_type": "display_data",
     "data": {
      "text/plain": "  0%|          | 0/2000 [00:00<?, ?it/s]",
      "application/vnd.jupyter.widget-view+json": {
       "version_major": 2,
       "version_minor": 0,
       "model_id": "63f1c3784a6340aeb57e79476d1bedb2"
      }
     },
     "metadata": {}
    }
   ],
   "source": [
    "for img in tqdm(sam_tr_1):\n",
    "    shutil.copyfile(os.path.join(tr_nm_ori, img), os.path.join(tr_nm_dest, img))"
   ]
  },
  {
   "cell_type": "code",
   "execution_count": 95,
   "metadata": {},
   "outputs": [
    {
     "output_type": "display_data",
     "data": {
      "text/plain": "  0%|          | 0/2000 [00:00<?, ?it/s]",
      "application/vnd.jupyter.widget-view+json": {
       "version_major": 2,
       "version_minor": 0,
       "model_id": "1cb0d99a96f541098b0769e85aa618fd"
      }
     },
     "metadata": {}
    }
   ],
   "source": [
    "for img in tqdm(sam_tr_2):\n",
    "    shutil.copyfile(os.path.join(tr_nm_ori, img), os.path.join(tr_nm_dest, img))"
   ]
  },
  {
   "cell_type": "code",
   "execution_count": 96,
   "metadata": {},
   "outputs": [
    {
     "output_type": "display_data",
     "data": {
      "text/plain": "  0%|          | 0/1206 [00:00<?, ?it/s]",
      "application/vnd.jupyter.widget-view+json": {
       "version_major": 2,
       "version_minor": 0,
       "model_id": "ed4677adfb114550986b42a65f03073e"
      }
     },
     "metadata": {}
    }
   ],
   "source": [
    "for img in tqdm(sam_tr_3):\n",
    "    shutil.copyfile(os.path.join(tr_nm_ori, img), os.path.join(tr_nm_dest, img))"
   ]
  },
  {
   "source": [
    "## Validation Dataset"
   ],
   "cell_type": "markdown",
   "metadata": {}
  },
  {
   "cell_type": "code",
   "execution_count": 75,
   "metadata": {},
   "outputs": [],
   "source": [
    "val2['jpg'] = val2.file.apply(lambda x: str(x) + '.jpg')\n",
    "mel_val = val2[val2.target == 1]\n",
    "nm_val = val2[val2.target == 0]\n",
    "\n",
    "mel_val_ids = mel_val.jpg.to_list()\n",
    "nm_val_ids = nm_val.jpg.to_list()"
   ]
  },
  {
   "cell_type": "code",
   "execution_count": 54,
   "metadata": {},
   "outputs": [],
   "source": [
    "images_dir = '../jpegs'\n",
    "val_mel = '../split/val/mel'\n",
    "val_nm = '../split/val/not_mel'"
   ]
  },
  {
   "cell_type": "code",
   "execution_count": 55,
   "metadata": {},
   "outputs": [],
   "source": [
    "for img in mel_val_ids:\n",
    "    shutil.move(os.path.join(images_dir, img), os.path.join(val_mel, img))"
   ]
  },
  {
   "cell_type": "code",
   "execution_count": 60,
   "metadata": {},
   "outputs": [],
   "source": [
    "val_nm1 = nm_val_ids[0:2000]\n",
    "val_nm3 = nm_val_ids[2000:4000]\n",
    "val_nm2 = nm_val_ids[4000:]\n"
   ]
  },
  {
   "cell_type": "code",
   "execution_count": 58,
   "metadata": {},
   "outputs": [
    {
     "output_type": "display_data",
     "data": {
      "text/plain": "  0%|          | 0/2000 [00:00<?, ?it/s]",
      "application/vnd.jupyter.widget-view+json": {
       "version_major": 2,
       "version_minor": 0,
       "model_id": "54590fbded974cf6ab2f621b946ab14b"
      }
     },
     "metadata": {}
    }
   ],
   "source": [
    "for img in tqdm(val_nm1):\n",
    "    shutil.move(os.path.join(images_dir, img), os.path.join(val_nm, img))"
   ]
  },
  {
   "cell_type": "code",
   "execution_count": 59,
   "metadata": {},
   "outputs": [
    {
     "output_type": "display_data",
     "data": {
      "text/plain": "  0%|          | 0/2509 [00:00<?, ?it/s]",
      "application/vnd.jupyter.widget-view+json": {
       "version_major": 2,
       "version_minor": 0,
       "model_id": "8bebdc0360e446d792a1eaf65fa0224b"
      }
     },
     "metadata": {}
    }
   ],
   "source": [
    "for img in tqdm(val_nm2):\n",
    "    shutil.move(os.path.join(images_dir, img), os.path.join(val_nm, img))"
   ]
  },
  {
   "cell_type": "code",
   "execution_count": 61,
   "metadata": {},
   "outputs": [
    {
     "output_type": "display_data",
     "data": {
      "text/plain": "  0%|          | 0/2000 [00:00<?, ?it/s]",
      "application/vnd.jupyter.widget-view+json": {
       "version_major": 2,
       "version_minor": 0,
       "model_id": "5d8a3d09fce940f78733bd21943c1ffe"
      }
     },
     "metadata": {}
    }
   ],
   "source": [
    "for img in tqdm(val_nm3):\n",
    "    shutil.move(os.path.join(images_dir, img), os.path.join(val_nm, img))"
   ]
  },
  {
   "source": [
    "## Sample Validation Set"
   ],
   "cell_type": "markdown",
   "metadata": {}
  },
  {
   "cell_type": "code",
   "execution_count": 84,
   "metadata": {},
   "outputs": [
    {
     "output_type": "execute_result",
     "data": {
      "text/plain": [
       "           file  target               jpg\n",
       "0  ISIC_0066678       1  ISIC_0066678.jpg\n",
       "1  ISIC_0057668       1  ISIC_0057668.jpg\n",
       "2  ISIC_0053843       1  ISIC_0053843.jpg\n",
       "3  ISIC_0072218       1  ISIC_0072218.jpg\n",
       "4  ISIC_0032685       1  ISIC_0032685.jpg"
      ],
      "text/html": "<div>\n<style scoped>\n    .dataframe tbody tr th:only-of-type {\n        vertical-align: middle;\n    }\n\n    .dataframe tbody tr th {\n        vertical-align: top;\n    }\n\n    .dataframe thead th {\n        text-align: right;\n    }\n</style>\n<table border=\"1\" class=\"dataframe\">\n  <thead>\n    <tr style=\"text-align: right;\">\n      <th></th>\n      <th>file</th>\n      <th>target</th>\n      <th>jpg</th>\n    </tr>\n  </thead>\n  <tbody>\n    <tr>\n      <th>0</th>\n      <td>ISIC_0066678</td>\n      <td>1</td>\n      <td>ISIC_0066678.jpg</td>\n    </tr>\n    <tr>\n      <th>1</th>\n      <td>ISIC_0057668</td>\n      <td>1</td>\n      <td>ISIC_0057668.jpg</td>\n    </tr>\n    <tr>\n      <th>2</th>\n      <td>ISIC_0053843</td>\n      <td>1</td>\n      <td>ISIC_0053843.jpg</td>\n    </tr>\n    <tr>\n      <th>3</th>\n      <td>ISIC_0072218</td>\n      <td>1</td>\n      <td>ISIC_0072218.jpg</td>\n    </tr>\n    <tr>\n      <th>4</th>\n      <td>ISIC_0032685</td>\n      <td>1</td>\n      <td>ISIC_0032685.jpg</td>\n    </tr>\n  </tbody>\n</table>\n</div>"
     },
     "metadata": {},
     "execution_count": 84
    }
   ],
   "source": [
    "val2.head()"
   ]
  },
  {
   "cell_type": "code",
   "execution_count": 85,
   "metadata": {},
   "outputs": [
    {
     "output_type": "execute_result",
     "data": {
      "text/plain": [
       "0    3254\n",
       "1     511\n",
       "Name: target, dtype: int64"
      ]
     },
     "metadata": {},
     "execution_count": 85
    }
   ],
   "source": [
    "val2.target.value_counts()"
   ]
  },
  {
   "cell_type": "code",
   "execution_count": 86,
   "metadata": {},
   "outputs": [],
   "source": [
    "strat_val = stratified_sample(df = val2, strata = ['target'], size = 0.2, seed = 42)"
   ]
  },
  {
   "cell_type": "code",
   "execution_count": 87,
   "metadata": {},
   "outputs": [
    {
     "output_type": "execute_result",
     "data": {
      "text/plain": [
       "0    651\n",
       "1    102\n",
       "Name: target, dtype: int64"
      ]
     },
     "metadata": {},
     "execution_count": 87
    }
   ],
   "source": [
    "strat_val.target.value_counts()"
   ]
  },
  {
   "cell_type": "code",
   "execution_count": 94,
   "metadata": {},
   "outputs": [],
   "source": [
    "val_mel_ori = '../split/val/mel'\n",
    "val_mel_dest = '../sample/val/mel'\n",
    "val_nm_ori = '../split/val/not_mel'\n",
    "val_nm_dest = '../sample/val/not_mel'"
   ]
  },
  {
   "cell_type": "code",
   "execution_count": 95,
   "metadata": {},
   "outputs": [],
   "source": [
    "samp_mel_val = strat_val[strat_val.target == 1]\n",
    "samp_nm_val = strat_val[strat_val.target == 0]\n",
    "\n",
    "samp_mel_val_ids = samp_mel_val.jpg.to_list()\n",
    "samp_nm_val_ids = samp_nm_val.jpg.to_list()"
   ]
  },
  {
   "cell_type": "code",
   "execution_count": 96,
   "metadata": {},
   "outputs": [
    {
     "output_type": "display_data",
     "data": {
      "text/plain": "  0%|          | 0/102 [00:00<?, ?it/s]",
      "application/vnd.jupyter.widget-view+json": {
       "version_major": 2,
       "version_minor": 0,
       "model_id": "fa0929b6d7b040c19bfb1cdeeb9ff4f4"
      }
     },
     "metadata": {}
    }
   ],
   "source": [
    "for img in tqdm(samp_mel_val_ids):\n",
    "    shutil.copyfile(os.path.join(val_mel_ori, img), os.path.join(val_mel_dest, img))"
   ]
  },
  {
   "cell_type": "code",
   "execution_count": 97,
   "metadata": {},
   "outputs": [
    {
     "output_type": "display_data",
     "data": {
      "text/plain": "  0%|          | 0/651 [00:00<?, ?it/s]",
      "application/vnd.jupyter.widget-view+json": {
       "version_major": 2,
       "version_minor": 0,
       "model_id": "7ec31dbbd2ee49efba09d1bda4bf6fee"
      }
     },
     "metadata": {}
    }
   ],
   "source": [
    "for img in tqdm(samp_nm_val_ids):\n",
    "    shutil.copyfile(os.path.join(val_nm_ori, img), os.path.join(val_nm_dest, img))"
   ]
  },
  {
   "source": [
    "# Testing Set"
   ],
   "cell_type": "markdown",
   "metadata": {}
  },
  {
   "cell_type": "code",
   "execution_count": 76,
   "metadata": {},
   "outputs": [],
   "source": [
    "tt2['jpg'] = tt2.file.apply(lambda x: str(x) + '.jpg')\n",
    "mel_tt = tt2[tt2.target == 1]\n",
    "nm_tt = tt2[tt2.target == 0]\n",
    "\n",
    "mel_tt_ids = mel_tt.jpg.to_list()\n",
    "nm_tt_ids = nm_tt.jpg.to_list()"
   ]
  },
  {
   "cell_type": "code",
   "execution_count": 78,
   "metadata": {},
   "outputs": [],
   "source": [
    "# direc = '../split/te/'\n",
    "\n",
    "# os.mkdir('../split/test/mel')\n",
    "# os.mkdir('../split/test/non_mel')\n",
    "\n",
    "direc = '../split/val/mel/'\n",
    "direc2 = '../split/val/not_mel'\n",
    "direc3 = '../split/test/mel'\n",
    "direc4 = '../split/test/not_mel'"
   ]
  },
  {
   "cell_type": "code",
   "execution_count": 81,
   "metadata": {},
   "outputs": [
    {
     "output_type": "display_data",
     "data": {
      "text/plain": "  0%|          | 0/3255 [00:00<?, ?it/s]",
      "application/vnd.jupyter.widget-view+json": {
       "version_major": 2,
       "version_minor": 0,
       "model_id": "5849a72ab8754d849d68126aa2b4b3b2"
      }
     },
     "metadata": {}
    }
   ],
   "source": [
    "for img in tqdm(nm_tt_ids):\n",
    "    shutil.move(os.path.join(direc2, img), os.path.join(direc4, img))"
   ]
  },
  {
   "cell_type": "code",
   "execution_count": 80,
   "metadata": {},
   "outputs": [
    {
     "output_type": "display_data",
     "data": {
      "text/plain": "  0%|          | 0/511 [00:00<?, ?it/s]",
      "application/vnd.jupyter.widget-view+json": {
       "version_major": 2,
       "version_minor": 0,
       "model_id": "8872d67a22394f11a26b1673dc4251e6"
      }
     },
     "metadata": {}
    }
   ],
   "source": [
    "for img in tqdm(mel_tt_ids):\n",
    "    shutil.move(os.path.join(direc, img), os.path.join(direc3, img))"
   ]
  },
  {
   "cell_type": "code",
   "execution_count": 82,
   "metadata": {},
   "outputs": [
    {
     "output_type": "execute_result",
     "data": {
      "text/plain": [
       "           file  target               jpg\n",
       "0  ISIC_0064868       1  ISIC_0064868.jpg\n",
       "1  ISIC_0032617       1  ISIC_0032617.jpg\n",
       "2  ISIC_0061378       1  ISIC_0061378.jpg\n",
       "3  ISIC_0065382       1  ISIC_0065382.jpg\n",
       "4  ISIC_5732201       1  ISIC_5732201.jpg"
      ],
      "text/html": "<div>\n<style scoped>\n    .dataframe tbody tr th:only-of-type {\n        vertical-align: middle;\n    }\n\n    .dataframe tbody tr th {\n        vertical-align: top;\n    }\n\n    .dataframe thead th {\n        text-align: right;\n    }\n</style>\n<table border=\"1\" class=\"dataframe\">\n  <thead>\n    <tr style=\"text-align: right;\">\n      <th></th>\n      <th>file</th>\n      <th>target</th>\n      <th>jpg</th>\n    </tr>\n  </thead>\n  <tbody>\n    <tr>\n      <th>0</th>\n      <td>ISIC_0064868</td>\n      <td>1</td>\n      <td>ISIC_0064868.jpg</td>\n    </tr>\n    <tr>\n      <th>1</th>\n      <td>ISIC_0032617</td>\n      <td>1</td>\n      <td>ISIC_0032617.jpg</td>\n    </tr>\n    <tr>\n      <th>2</th>\n      <td>ISIC_0061378</td>\n      <td>1</td>\n      <td>ISIC_0061378.jpg</td>\n    </tr>\n    <tr>\n      <th>3</th>\n      <td>ISIC_0065382</td>\n      <td>1</td>\n      <td>ISIC_0065382.jpg</td>\n    </tr>\n    <tr>\n      <th>4</th>\n      <td>ISIC_5732201</td>\n      <td>1</td>\n      <td>ISIC_5732201.jpg</td>\n    </tr>\n  </tbody>\n</table>\n</div>"
     },
     "metadata": {},
     "execution_count": 82
    }
   ],
   "source": [
    "tt2.head()"
   ]
  },
  {
   "cell_type": "code",
   "execution_count": 83,
   "metadata": {},
   "outputs": [
    {
     "output_type": "execute_result",
     "data": {
      "text/plain": [
       "0    3255\n",
       "1     511\n",
       "Name: target, dtype: int64"
      ]
     },
     "metadata": {},
     "execution_count": 83
    }
   ],
   "source": [
    "tt2.target.value_counts()"
   ]
  },
  {
   "cell_type": "code",
   "execution_count": 90,
   "metadata": {},
   "outputs": [],
   "source": [
    "strat_tt = stratified_sample(df = tt2, strata = ['target'], size = 0.2, seed = 42)"
   ]
  },
  {
   "cell_type": "code",
   "execution_count": 91,
   "metadata": {},
   "outputs": [
    {
     "output_type": "execute_result",
     "data": {
      "text/plain": [
       "0    651\n",
       "1    102\n",
       "Name: target, dtype: int64"
      ]
     },
     "metadata": {},
     "execution_count": 91
    }
   ],
   "source": [
    "strat_tt.target.value_counts()"
   ]
  },
  {
   "cell_type": "code",
   "execution_count": 98,
   "metadata": {},
   "outputs": [],
   "source": [
    "tt_mel_ori = '../split/test/mel'\n",
    "tt_mel_dest = '../sample/test/mel'\n",
    "tt_nm_ori = '../split/test/not_mel'\n",
    "tt_nm_dest = '../sample/test/not_mel'"
   ]
  },
  {
   "cell_type": "code",
   "execution_count": 99,
   "metadata": {},
   "outputs": [],
   "source": [
    "samp_mel_tt = strat_tt[strat_tt.target == 1]\n",
    "samp_nm_tt = strat_tt[strat_tt.target == 0]\n",
    "\n",
    "samp_mel_tt_ids = samp_mel_tt.jpg.to_list()\n",
    "samp_nm_tt_ids = samp_nm_tt.jpg.to_list()"
   ]
  },
  {
   "cell_type": "code",
   "execution_count": 102,
   "metadata": {},
   "outputs": [
    {
     "output_type": "display_data",
     "data": {
      "text/plain": "  0%|          | 0/102 [00:00<?, ?it/s]",
      "application/vnd.jupyter.widget-view+json": {
       "version_major": 2,
       "version_minor": 0,
       "model_id": "bfc3a9d41d4e40d2bad95e849e35ab47"
      }
     },
     "metadata": {}
    }
   ],
   "source": [
    "for img in tqdm(samp_mel_tt_ids):\n",
    "    shutil.copyfile(os.path.join(tt_mel_ori, img), os.path.join(tt_mel_dest, img))"
   ]
  },
  {
   "cell_type": "code",
   "execution_count": 103,
   "metadata": {},
   "outputs": [
    {
     "output_type": "display_data",
     "data": {
      "text/plain": "  0%|          | 0/651 [00:00<?, ?it/s]",
      "application/vnd.jupyter.widget-view+json": {
       "version_major": 2,
       "version_minor": 0,
       "model_id": "13a5d4a62b4446b48bb9fcf79709ccf9"
      }
     },
     "metadata": {}
    }
   ],
   "source": [
    "for img in tqdm(samp_nm_tt_ids):\n",
    "    shutil.copyfile(os.path.join(tt_nm_ori, img), os.path.join(tt_nm_dest, img))"
   ]
  },
  {
   "cell_type": "code",
   "execution_count": null,
   "metadata": {},
   "outputs": [],
   "source": []
  }
 ]
}