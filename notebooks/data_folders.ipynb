{
 "metadata": {
  "language_info": {
   "codemirror_mode": {
    "name": "ipython",
    "version": 3
   },
   "file_extension": ".py",
   "mimetype": "text/x-python",
   "name": "python",
   "nbconvert_exporter": "python",
   "pygments_lexer": "ipython3",
   "version": "3.6.13-final"
  },
  "orig_nbformat": 2,
  "kernelspec": {
   "name": "python3",
   "display_name": "Python 3.6.13 64-bit",
   "metadata": {
    "interpreter": {
     "hash": "6555959b910bb7a8fb6f47a2dcc8365b919d4ffbc6f566ad680344e31443b77e"
    }
   }
  }
 },
 "nbformat": 4,
 "nbformat_minor": 2,
 "cells": [
  {
   "cell_type": "code",
   "execution_count": 1,
   "metadata": {},
   "outputs": [],
   "source": [
    "import numpy as np\n",
    "import pandas as pd\n",
    "import matplotlib.pyplot as plt\n",
    "import seaborn as sns\n",
    "import pydicom as dicom\n",
    "import pandas as pd\n",
    "import numpy as np\n",
    "from random import randint\n",
    "\n",
    "import os, sys, time, shutil, scipy, cv2, json, datetime\n",
    "import numpy as np\n",
    "import pandas as pd\n",
    "import PIL.Image\n",
    "import matplotlib.pyplot as plt\n",
    "%matplotlib inline\n",
    "import seaborn as sns\n",
    "from tqdm.notebook import tqdm\n",
    "\n",
    "# ignoring warnings\n",
    "import warnings\n",
    "warnings.simplefilter(\"ignore\")\n",
    "\n",
    "import torch\n",
    "from torch.utils.data import TensorDataset, DataLoader,Dataset\n",
    "import torch.nn as nn\n",
    "import torch.nn.functional as F\n",
    "import torchvision\n",
    "import torchvision.transforms as transforms\n",
    "import torch.optim as optim\n",
    "from torch.optim import lr_scheduler\n",
    "from torch.utils.data.sampler import SubsetRandomSampler, RandomSampler, SequentialSampler\n",
    "from torch.optim.lr_scheduler import CosineAnnealingLR\n",
    "from warmup_scheduler import GradualWarmupScheduler \n",
    "import albumentations as A\n",
    "import geffnet\n",
    "\n",
    "from scipy import ndimage\n",
    "from keras.preprocessing.image import ImageDataGenerator, array_to_img, img_to_array, load_img\n",
    "from keras.models import Sequential\n",
    "#Import from keras_preprocessing not from keras.preprocessing\n",
    "from keras_preprocessing.image import ImageDataGenerator\n",
    "from keras.layers import Dense, Activation, Flatten, Dropout, BatchNormalization\n",
    "from keras.layers import Conv2D, MaxPooling2D\n",
    "\n",
    "from sklearn.model_selection import train_test_split\n",
    "from sklearn.metrics import accuracy_score, confusion_matrix, mean_squared_error, r2_score, roc_auc_score\n",
    "from sklearn.model_selection import train_test_split\n",
    "\n",
    "import tensorflow as tf\n",
    "from tensorflow.keras import models, layers\n",
    "from tensorflow.keras.preprocessing import image\n",
    "from tensorflow.keras.preprocessing.image import ImageDataGenerator\n",
    "from tensorflow.keras.callbacks import ModelCheckpoint, EarlyStopping, ReduceLROnPlateau\n",
    "from tensorflow.keras.applications import EfficientNetB0\n",
    "from tensorflow.keras.optimizers import Adam\n",
    "from tensorflow.keras import regularizers, optimizers\n",
    "\n",
    "# Build a baseline fully connected model\n",
    "from keras import models\n",
    "from keras import layers"
   ]
  },
  {
   "source": [
    "# Dataset 1 (Train and Validation)"
   ],
   "cell_type": "markdown",
   "metadata": {}
  },
  {
   "cell_type": "code",
   "execution_count": 2,
   "metadata": {},
   "outputs": [
    {
     "output_type": "execute_result",
     "data": {
      "text/plain": [
       "           file  patient_id   lesion_id  gender   age             site  \\\n",
       "0  ISIC_2637011  IP_7279968  IL_7972535    male  45.0        head/neck   \n",
       "1  ISIC_0015719  IP_3075186  IL_4649854  female  45.0  upper extremity   \n",
       "2  ISIC_0052212  IP_2842074  IL_9087444  female  50.0  lower extremity   \n",
       "3  ISIC_0068279  IP_6890425  IL_4255399  female  45.0        head/neck   \n",
       "4  ISIC_0074268  IP_8723313  IL_6898037  female  55.0  upper extremity   \n",
       "\n",
       "  diagnosis ben_mal  target               jpg  \n",
       "0   unknown  benign       0  ISIC_2637011.jpg  \n",
       "1   unknown  benign       0  ISIC_0015719.jpg  \n",
       "2     nevus  benign       0  ISIC_0052212.jpg  \n",
       "3   unknown  benign       0  ISIC_0068279.jpg  \n",
       "4   unknown  benign       0  ISIC_0074268.jpg  "
      ],
      "text/html": "<div>\n<style scoped>\n    .dataframe tbody tr th:only-of-type {\n        vertical-align: middle;\n    }\n\n    .dataframe tbody tr th {\n        vertical-align: top;\n    }\n\n    .dataframe thead th {\n        text-align: right;\n    }\n</style>\n<table border=\"1\" class=\"dataframe\">\n  <thead>\n    <tr style=\"text-align: right;\">\n      <th></th>\n      <th>file</th>\n      <th>patient_id</th>\n      <th>lesion_id</th>\n      <th>gender</th>\n      <th>age</th>\n      <th>site</th>\n      <th>diagnosis</th>\n      <th>ben_mal</th>\n      <th>target</th>\n      <th>jpg</th>\n    </tr>\n  </thead>\n  <tbody>\n    <tr>\n      <th>0</th>\n      <td>ISIC_2637011</td>\n      <td>IP_7279968</td>\n      <td>IL_7972535</td>\n      <td>male</td>\n      <td>45.0</td>\n      <td>head/neck</td>\n      <td>unknown</td>\n      <td>benign</td>\n      <td>0</td>\n      <td>ISIC_2637011.jpg</td>\n    </tr>\n    <tr>\n      <th>1</th>\n      <td>ISIC_0015719</td>\n      <td>IP_3075186</td>\n      <td>IL_4649854</td>\n      <td>female</td>\n      <td>45.0</td>\n      <td>upper extremity</td>\n      <td>unknown</td>\n      <td>benign</td>\n      <td>0</td>\n      <td>ISIC_0015719.jpg</td>\n    </tr>\n    <tr>\n      <th>2</th>\n      <td>ISIC_0052212</td>\n      <td>IP_2842074</td>\n      <td>IL_9087444</td>\n      <td>female</td>\n      <td>50.0</td>\n      <td>lower extremity</td>\n      <td>nevus</td>\n      <td>benign</td>\n      <td>0</td>\n      <td>ISIC_0052212.jpg</td>\n    </tr>\n    <tr>\n      <th>3</th>\n      <td>ISIC_0068279</td>\n      <td>IP_6890425</td>\n      <td>IL_4255399</td>\n      <td>female</td>\n      <td>45.0</td>\n      <td>head/neck</td>\n      <td>unknown</td>\n      <td>benign</td>\n      <td>0</td>\n      <td>ISIC_0068279.jpg</td>\n    </tr>\n    <tr>\n      <th>4</th>\n      <td>ISIC_0074268</td>\n      <td>IP_8723313</td>\n      <td>IL_6898037</td>\n      <td>female</td>\n      <td>55.0</td>\n      <td>upper extremity</td>\n      <td>unknown</td>\n      <td>benign</td>\n      <td>0</td>\n      <td>ISIC_0074268.jpg</td>\n    </tr>\n  </tbody>\n</table>\n</div>"
     },
     "metadata": {},
     "execution_count": 2
    }
   ],
   "source": [
    "df = pd.read_csv('data/ISIC_2020_Training_GroundTruth_v2.csv')\n",
    "df.columns = ['file', 'patient_id', 'lesion_id', 'gender', 'age', 'site', 'diagnosis', 'ben_mal', 'target']\n",
    "df['jpg'] = df['file'].apply(lambda x: str(x) + \".jpg\")\n",
    "df.head()"
   ]
  },
  {
   "cell_type": "code",
   "execution_count": 3,
   "metadata": {},
   "outputs": [],
   "source": [
    "melanoma = df[df.target == 1]\n",
    "non_melanoma = df[df.target == 0]\n",
    "y_mel = melanoma.target\n",
    "X_mel = melanoma.drop(columns=['target'], axis=1)\n",
    "y_non_mel = non_melanoma.target\n",
    "X_non_mel = non_melanoma.drop(columns=['target'], axis=1)"
   ]
  },
  {
   "cell_type": "code",
   "execution_count": 4,
   "metadata": {},
   "outputs": [],
   "source": [
    "\n",
    "\n",
    "X_tr_m, X_val_m, y_tr_m, y_val_m = train_test_split(X_mel, y_mel, random_state=42, test_size=0.2)\n",
    "X_tr_nm, X_val_nm, y_tr_nm, y_val_nm = train_test_split(X_non_mel, y_non_mel, random_state=42, test_size=0.2)\n",
    "\n",
    "mel_train = pd.concat([X_tr_m, y_tr_m], axis=1)\n",
    "non_mel_train = pd.concat([X_tr_nm, y_tr_nm], axis=1)\n",
    "mel_val = pd.concat([X_val_m, y_val_m], axis=1)\n",
    "non_mel_val = pd.concat([X_val_nm, y_val_nm], axis=1)\n",
    "\n",
    "train = pd.concat([mel_train, non_mel_train], axis=0)\n",
    "val = pd.concat([mel_val, non_mel_val], axis=0)\n",
    "train = train.reset_index(drop=True)\n",
    "val = val.reset_index(drop=True)"
   ]
  },
  {
   "cell_type": "code",
   "execution_count": 19,
   "metadata": {},
   "outputs": [
    {
     "output_type": "execute_result",
     "data": {
      "text/plain": [
       "           file  patient_id   lesion_id  gender   age             site  \\\n",
       "0  ISIC_1569119  IP_6120178  IL_3157235    male  65.0            torso   \n",
       "1  ISIC_7536704  IP_3994607  IL_1685088    male  75.0            torso   \n",
       "2  ISIC_3696488  IP_6051587  IL_8878499  female  90.0  upper extremity   \n",
       "3  ISIC_3343475  IP_4576785  IL_9262145    male  80.0        head/neck   \n",
       "4  ISIC_7785723  IP_8447624  IL_2711936  female  50.0  lower extremity   \n",
       "\n",
       "  diagnosis    ben_mal               jpg  target  \n",
       "0  melanoma  malignant  ISIC_1569119.jpg       1  \n",
       "1  melanoma  malignant  ISIC_7536704.jpg       1  \n",
       "2  melanoma  malignant  ISIC_3696488.jpg       1  \n",
       "3  melanoma  malignant  ISIC_3343475.jpg       1  \n",
       "4  melanoma  malignant  ISIC_7785723.jpg       1  "
      ],
      "text/html": "<div>\n<style scoped>\n    .dataframe tbody tr th:only-of-type {\n        vertical-align: middle;\n    }\n\n    .dataframe tbody tr th {\n        vertical-align: top;\n    }\n\n    .dataframe thead th {\n        text-align: right;\n    }\n</style>\n<table border=\"1\" class=\"dataframe\">\n  <thead>\n    <tr style=\"text-align: right;\">\n      <th></th>\n      <th>file</th>\n      <th>patient_id</th>\n      <th>lesion_id</th>\n      <th>gender</th>\n      <th>age</th>\n      <th>site</th>\n      <th>diagnosis</th>\n      <th>ben_mal</th>\n      <th>jpg</th>\n      <th>target</th>\n    </tr>\n  </thead>\n  <tbody>\n    <tr>\n      <th>0</th>\n      <td>ISIC_1569119</td>\n      <td>IP_6120178</td>\n      <td>IL_3157235</td>\n      <td>male</td>\n      <td>65.0</td>\n      <td>torso</td>\n      <td>melanoma</td>\n      <td>malignant</td>\n      <td>ISIC_1569119.jpg</td>\n      <td>1</td>\n    </tr>\n    <tr>\n      <th>1</th>\n      <td>ISIC_7536704</td>\n      <td>IP_3994607</td>\n      <td>IL_1685088</td>\n      <td>male</td>\n      <td>75.0</td>\n      <td>torso</td>\n      <td>melanoma</td>\n      <td>malignant</td>\n      <td>ISIC_7536704.jpg</td>\n      <td>1</td>\n    </tr>\n    <tr>\n      <th>2</th>\n      <td>ISIC_3696488</td>\n      <td>IP_6051587</td>\n      <td>IL_8878499</td>\n      <td>female</td>\n      <td>90.0</td>\n      <td>upper extremity</td>\n      <td>melanoma</td>\n      <td>malignant</td>\n      <td>ISIC_3696488.jpg</td>\n      <td>1</td>\n    </tr>\n    <tr>\n      <th>3</th>\n      <td>ISIC_3343475</td>\n      <td>IP_4576785</td>\n      <td>IL_9262145</td>\n      <td>male</td>\n      <td>80.0</td>\n      <td>head/neck</td>\n      <td>melanoma</td>\n      <td>malignant</td>\n      <td>ISIC_3343475.jpg</td>\n      <td>1</td>\n    </tr>\n    <tr>\n      <th>4</th>\n      <td>ISIC_7785723</td>\n      <td>IP_8447624</td>\n      <td>IL_2711936</td>\n      <td>female</td>\n      <td>50.0</td>\n      <td>lower extremity</td>\n      <td>melanoma</td>\n      <td>malignant</td>\n      <td>ISIC_7785723.jpg</td>\n      <td>1</td>\n    </tr>\n  </tbody>\n</table>\n</div>"
     },
     "metadata": {},
     "execution_count": 19
    }
   ],
   "source": [
    "train.head()"
   ]
  },
  {
   "cell_type": "code",
   "execution_count": 21,
   "metadata": {},
   "outputs": [
    {
     "output_type": "stream",
     "name": "stdout",
     "text": [
      "<class 'pandas.core.frame.DataFrame'>\nRangeIndex: 26500 entries, 0 to 26499\nData columns (total 10 columns):\n #   Column      Non-Null Count  Dtype  \n---  ------      --------------  -----  \n 0   file        26500 non-null  object \n 1   patient_id  26500 non-null  object \n 2   lesion_id   26500 non-null  object \n 3   gender      26449 non-null  object \n 4   age         26447 non-null  float64\n 5   site        26088 non-null  object \n 6   diagnosis   26500 non-null  object \n 7   ben_mal     26500 non-null  object \n 8   jpg         26500 non-null  object \n 9   target      26500 non-null  int64  \ndtypes: float64(1), int64(1), object(8)\nmemory usage: 2.0+ MB\n"
     ]
    }
   ],
   "source": [
    "train.info()"
   ]
  },
  {
   "cell_type": "code",
   "execution_count": 20,
   "metadata": {},
   "outputs": [
    {
     "output_type": "execute_result",
     "data": {
      "text/plain": [
       "           file  patient_id   lesion_id  gender   age             site  \\\n",
       "0  ISIC_6767569  IP_7665112  IL_1769376    male  70.0        head/neck   \n",
       "1  ISIC_7312977  IP_8675890  IL_2723500    male  55.0  lower extremity   \n",
       "2  ISIC_1785627  IP_0170821  IL_6029631  female  40.0  upper extremity   \n",
       "3  ISIC_8066110  IP_3055814  IL_7066374    male  50.0  lower extremity   \n",
       "4  ISIC_8838753  IP_6292815  IL_9486623  female  65.0  lower extremity   \n",
       "\n",
       "  diagnosis    ben_mal               jpg  target  \n",
       "0  melanoma  malignant  ISIC_6767569.jpg       1  \n",
       "1  melanoma  malignant  ISIC_7312977.jpg       1  \n",
       "2  melanoma  malignant  ISIC_1785627.jpg       1  \n",
       "3  melanoma  malignant  ISIC_8066110.jpg       1  \n",
       "4  melanoma  malignant  ISIC_8838753.jpg       1  "
      ],
      "text/html": "<div>\n<style scoped>\n    .dataframe tbody tr th:only-of-type {\n        vertical-align: middle;\n    }\n\n    .dataframe tbody tr th {\n        vertical-align: top;\n    }\n\n    .dataframe thead th {\n        text-align: right;\n    }\n</style>\n<table border=\"1\" class=\"dataframe\">\n  <thead>\n    <tr style=\"text-align: right;\">\n      <th></th>\n      <th>file</th>\n      <th>patient_id</th>\n      <th>lesion_id</th>\n      <th>gender</th>\n      <th>age</th>\n      <th>site</th>\n      <th>diagnosis</th>\n      <th>ben_mal</th>\n      <th>jpg</th>\n      <th>target</th>\n    </tr>\n  </thead>\n  <tbody>\n    <tr>\n      <th>0</th>\n      <td>ISIC_6767569</td>\n      <td>IP_7665112</td>\n      <td>IL_1769376</td>\n      <td>male</td>\n      <td>70.0</td>\n      <td>head/neck</td>\n      <td>melanoma</td>\n      <td>malignant</td>\n      <td>ISIC_6767569.jpg</td>\n      <td>1</td>\n    </tr>\n    <tr>\n      <th>1</th>\n      <td>ISIC_7312977</td>\n      <td>IP_8675890</td>\n      <td>IL_2723500</td>\n      <td>male</td>\n      <td>55.0</td>\n      <td>lower extremity</td>\n      <td>melanoma</td>\n      <td>malignant</td>\n      <td>ISIC_7312977.jpg</td>\n      <td>1</td>\n    </tr>\n    <tr>\n      <th>2</th>\n      <td>ISIC_1785627</td>\n      <td>IP_0170821</td>\n      <td>IL_6029631</td>\n      <td>female</td>\n      <td>40.0</td>\n      <td>upper extremity</td>\n      <td>melanoma</td>\n      <td>malignant</td>\n      <td>ISIC_1785627.jpg</td>\n      <td>1</td>\n    </tr>\n    <tr>\n      <th>3</th>\n      <td>ISIC_8066110</td>\n      <td>IP_3055814</td>\n      <td>IL_7066374</td>\n      <td>male</td>\n      <td>50.0</td>\n      <td>lower extremity</td>\n      <td>melanoma</td>\n      <td>malignant</td>\n      <td>ISIC_8066110.jpg</td>\n      <td>1</td>\n    </tr>\n    <tr>\n      <th>4</th>\n      <td>ISIC_8838753</td>\n      <td>IP_6292815</td>\n      <td>IL_9486623</td>\n      <td>female</td>\n      <td>65.0</td>\n      <td>lower extremity</td>\n      <td>melanoma</td>\n      <td>malignant</td>\n      <td>ISIC_8838753.jpg</td>\n      <td>1</td>\n    </tr>\n  </tbody>\n</table>\n</div>"
     },
     "metadata": {},
     "execution_count": 20
    }
   ],
   "source": [
    "val.head()"
   ]
  },
  {
   "cell_type": "code",
   "execution_count": 22,
   "metadata": {},
   "outputs": [
    {
     "output_type": "stream",
     "name": "stdout",
     "text": [
      "<class 'pandas.core.frame.DataFrame'>\nRangeIndex: 6626 entries, 0 to 6625\nData columns (total 10 columns):\n #   Column      Non-Null Count  Dtype  \n---  ------      --------------  -----  \n 0   file        6626 non-null   object \n 1   patient_id  6626 non-null   object \n 2   lesion_id   6626 non-null   object \n 3   gender      6612 non-null   object \n 4   age         6611 non-null   float64\n 5   site        6511 non-null   object \n 6   diagnosis   6626 non-null   object \n 7   ben_mal     6626 non-null   object \n 8   jpg         6626 non-null   object \n 9   target      6626 non-null   int64  \ndtypes: float64(1), int64(1), object(8)\nmemory usage: 517.8+ KB\n"
     ]
    }
   ],
   "source": [
    "val.info()"
   ]
  },
  {
   "source": [
    "# Dataset 2 (Test)"
   ],
   "cell_type": "markdown",
   "metadata": {}
  },
  {
   "cell_type": "code",
   "execution_count": 6,
   "metadata": {},
   "outputs": [
    {
     "output_type": "execute_result",
     "data": {
      "text/plain": [
       "           file   age             site lesion_id  gender  target  \\\n",
       "0  ISIC_0000000  55.0   anterior torso       NaN  female       0   \n",
       "1  ISIC_0000001  30.0   anterior torso       NaN  female       0   \n",
       "2  ISIC_0000002  60.0  upper extremity       NaN  female       1   \n",
       "3  ISIC_0000003  30.0  upper extremity       NaN    male       0   \n",
       "4  ISIC_0000004  80.0  posterior torso       NaN    male       1   \n",
       "\n",
       "                jpg  \n",
       "0  ISIC_0000000.jpg  \n",
       "1  ISIC_0000001.jpg  \n",
       "2  ISIC_0000002.jpg  \n",
       "3  ISIC_0000003.jpg  \n",
       "4  ISIC_0000004.jpg  "
      ],
      "text/html": "<div>\n<style scoped>\n    .dataframe tbody tr th:only-of-type {\n        vertical-align: middle;\n    }\n\n    .dataframe tbody tr th {\n        vertical-align: top;\n    }\n\n    .dataframe thead th {\n        text-align: right;\n    }\n</style>\n<table border=\"1\" class=\"dataframe\">\n  <thead>\n    <tr style=\"text-align: right;\">\n      <th></th>\n      <th>file</th>\n      <th>age</th>\n      <th>site</th>\n      <th>lesion_id</th>\n      <th>gender</th>\n      <th>target</th>\n      <th>jpg</th>\n    </tr>\n  </thead>\n  <tbody>\n    <tr>\n      <th>0</th>\n      <td>ISIC_0000000</td>\n      <td>55.0</td>\n      <td>anterior torso</td>\n      <td>NaN</td>\n      <td>female</td>\n      <td>0</td>\n      <td>ISIC_0000000.jpg</td>\n    </tr>\n    <tr>\n      <th>1</th>\n      <td>ISIC_0000001</td>\n      <td>30.0</td>\n      <td>anterior torso</td>\n      <td>NaN</td>\n      <td>female</td>\n      <td>0</td>\n      <td>ISIC_0000001.jpg</td>\n    </tr>\n    <tr>\n      <th>2</th>\n      <td>ISIC_0000002</td>\n      <td>60.0</td>\n      <td>upper extremity</td>\n      <td>NaN</td>\n      <td>female</td>\n      <td>1</td>\n      <td>ISIC_0000002.jpg</td>\n    </tr>\n    <tr>\n      <th>3</th>\n      <td>ISIC_0000003</td>\n      <td>30.0</td>\n      <td>upper extremity</td>\n      <td>NaN</td>\n      <td>male</td>\n      <td>0</td>\n      <td>ISIC_0000003.jpg</td>\n    </tr>\n    <tr>\n      <th>4</th>\n      <td>ISIC_0000004</td>\n      <td>80.0</td>\n      <td>posterior torso</td>\n      <td>NaN</td>\n      <td>male</td>\n      <td>1</td>\n      <td>ISIC_0000004.jpg</td>\n    </tr>\n  </tbody>\n</table>\n</div>"
     },
     "metadata": {},
     "execution_count": 6
    }
   ],
   "source": [
    "test1 = pd.read_csv('data/ISIC_2019_Training_GroundTruth.csv')\n",
    "test2 = pd.read_csv('data/ISIC_2019_Training_Metadata.csv')\n",
    "test1 = test1.rename(columns={'image':'image1'})\n",
    "test2 = test2.rename(columns={'image':'image2'})\n",
    "test = pd.concat([test2, test1], axis=1)\n",
    "test = test.drop(columns=['image1'], axis=1)\n",
    "test = test.drop(columns=['NV', 'BCC', 'AK', 'BKL', 'DF', 'VASC', 'SCC', 'UNK'], axis=1)\n",
    "test.columns = ['file', 'age', 'site', 'lesion_id', 'gender', 'target']\n",
    "test.target = test.target.astype(int)\n",
    "test['jpg'] = test.file.apply(lambda x: str(x) + \".jpg\")\n",
    "test.head()"
   ]
  },
  {
   "cell_type": "code",
   "execution_count": 23,
   "metadata": {},
   "outputs": [
    {
     "output_type": "stream",
     "name": "stdout",
     "text": [
      "<class 'pandas.core.frame.DataFrame'>\nRangeIndex: 25331 entries, 0 to 25330\nData columns (total 7 columns):\n #   Column     Non-Null Count  Dtype  \n---  ------     --------------  -----  \n 0   file       25331 non-null  object \n 1   age        24894 non-null  float64\n 2   site       22700 non-null  object \n 3   lesion_id  23247 non-null  object \n 4   gender     24947 non-null  object \n 5   target     25331 non-null  int64  \n 6   jpg        25331 non-null  object \ndtypes: float64(1), int64(1), object(5)\nmemory usage: 1.4+ MB\n"
     ]
    }
   ],
   "source": [
    "test.info()"
   ]
  },
  {
   "source": [
    "# Proper Folder Structure"
   ],
   "cell_type": "markdown",
   "metadata": {}
  },
  {
   "cell_type": "code",
   "execution_count": 10,
   "metadata": {},
   "outputs": [],
   "source": [
    "# assign folder variables\n",
    "new_dir = 'split/'\n",
    "tr_fldr = os.path.join(new_dir, 'train')\n",
    "tr_mel = os.path.join(tr_fldr, 'mel')\n",
    "tr_nm = os.path.join(tr_fldr, 'not_mel')\n",
    "val_fldr = os.path.join(new_dir, 'val')\n",
    "val_mel = os.path.join(val_fldr, 'mel')\n",
    "val_nm = os.path.join(val_fldr, 'not_mel')\n",
    "tt_fldr = os.path.join(new_dir, 'test')\n",
    "tt_mel = os.path.join(tt_fldr, 'mel')\n",
    "tt_nm = os.path.join(tt_fldr, 'not_mel')\n",
    "images_dir = 'images/train_jpg'"
   ]
  },
  {
   "cell_type": "code",
   "execution_count": 22,
   "metadata": {},
   "outputs": [],
   "source": [
    "# make new directories\n",
    "os.mkdir(new_dir)\n",
    "os.mkdir(tt_fldr)\n",
    "os.mkdir(tt_mel)\n",
    "os.mkdir(tt_nm)\n",
    "os.mkdir(tr_fldr)\n",
    "os.mkdir(tr_mel)\n",
    "os.mkdir(tr_nm)\n",
    "os.mkdir(val_fldr)\n",
    "os.mkdir(val_mel)\n",
    "os.mkdir(val_nm)"
   ]
  },
  {
   "source": [
    "## Training Set"
   ],
   "cell_type": "markdown",
   "metadata": {}
  },
  {
   "cell_type": "code",
   "execution_count": null,
   "metadata": {},
   "outputs": [],
   "source": [
    "mel_tr_ids = mel_train.jpg.to_list()\n",
    "nm_tr_ids = non_mel_train.jpg.to_list()"
   ]
  },
  {
   "cell_type": "code",
   "execution_count": 12,
   "metadata": {},
   "outputs": [],
   "source": [
    "# move images into train/mel folder\n",
    "for img in mel_tr_ids:\n",
    "    origin = os.path.join(images_dir, img)\n",
    "    destination = os.path.join(tr_mel, img)\n",
    "    shutil.copyfile(origin, destination)"
   ]
  },
  {
   "cell_type": "code",
   "execution_count": 30,
   "metadata": {},
   "outputs": [
    {
     "output_type": "execute_result",
     "data": {
      "text/plain": [
       "26033"
      ]
     },
     "metadata": {},
     "execution_count": 30
    }
   ],
   "source": [
    "len(nm_tr_ids)"
   ]
  },
  {
   "cell_type": "code",
   "execution_count": 33,
   "metadata": {},
   "outputs": [],
   "source": [
    "tr_1 = nm_tr_ids[0:2000]\n",
    "tr_2 = nm_tr_ids[2000:4000]\n",
    "tr_3 = nm_tr_ids[4000:6000]\n",
    "tr_4 = nm_tr_ids[6000:8000]\n",
    "tr_5 = nm_tr_ids[8000:10000]\n",
    "tr_6 = nm_tr_ids[10000:12000]\n",
    "tr_7 = nm_tr_ids[12000:14000]\n",
    "tr_8 = nm_tr_ids[14000:16000]\n",
    "tr_9 = nm_tr_ids[16000:18000]\n",
    "tr_10 = nm_tr_ids[18000:20000]\n",
    "tr_11 = nm_tr_ids[20000:]"
   ]
  },
  {
   "cell_type": "code",
   "execution_count": 1,
   "metadata": {},
   "outputs": [],
   "source": [
    "# tr_lst = [tr_1, tr_2, tr_3, tr_4, tr_5, tr_6, tr_7, tr_8, tr_9, tr_10, tr_11]\n",
    "\n",
    "# for lst in tqdm(tr_lst):\n",
    "#     for img in lst:\n",
    "#         shutil.copyfile(os.path.join(images_dir, img), os.path.join(tr_nm, img))"
   ]
  },
  {
   "cell_type": "code",
   "execution_count": 39,
   "metadata": {},
   "outputs": [],
   "source": [
    "for img in tqdm(tr_1):\n",
    "    shutil.copyfile(os.path.join(images_dir, img), os.path.join(tr_nm, img))"
   ]
  },
  {
   "cell_type": "code",
   "execution_count": null,
   "metadata": {},
   "outputs": [],
   "source": [
    "for img in tqdm(tr_2):\n",
    "    shutil.copyfile(os.path.join(images_dir, img), os.path.join(tr_nm, img))"
   ]
  },
  {
   "cell_type": "code",
   "execution_count": null,
   "metadata": {},
   "outputs": [],
   "source": [
    "for img in tqdm(tr_3):\n",
    "    shutil.copyfile(os.path.join(images_dir, img), os.path.join(tr_nm, img))"
   ]
  },
  {
   "cell_type": "code",
   "execution_count": null,
   "metadata": {},
   "outputs": [],
   "source": [
    "for img in tqdm(tr_4):\n",
    "    shutil.copyfile(os.path.join(images_dir, img), os.path.join(tr_nm, img))"
   ]
  },
  {
   "cell_type": "code",
   "execution_count": null,
   "metadata": {},
   "outputs": [],
   "source": [
    "for img in tqdm(tr_5):\n",
    "    shutil.copyfile(os.path.join(images_dir, img), os.path.join(tr_nm, img))"
   ]
  },
  {
   "cell_type": "code",
   "execution_count": null,
   "metadata": {},
   "outputs": [],
   "source": [
    "for img in tqdm(tr_6):\n",
    "    shutil.copyfile(os.path.join(images_dir, img), os.path.join(tr_nm, img))"
   ]
  },
  {
   "cell_type": "code",
   "execution_count": null,
   "metadata": {},
   "outputs": [],
   "source": [
    "for img in tqdm(tr_7):\n",
    "    shutil.copyfile(os.path.join(images_dir, img), os.path.join(tr_nm, img))"
   ]
  },
  {
   "cell_type": "code",
   "execution_count": null,
   "metadata": {},
   "outputs": [],
   "source": [
    "for img in tqdm(tr_8):\n",
    "    shutil.copyfile(os.path.join(images_dir, img), os.path.join(tr_nm, img))"
   ]
  },
  {
   "cell_type": "code",
   "execution_count": null,
   "metadata": {},
   "outputs": [],
   "source": [
    "for img in tqdm(tr_9):\n",
    "    shutil.copyfile(os.path.join(images_dir, img), os.path.join(tr_nm, img))"
   ]
  },
  {
   "cell_type": "code",
   "execution_count": null,
   "metadata": {},
   "outputs": [],
   "source": [
    "for img in tqdm(tr_10):\n",
    "    shutil.copyfile(os.path.join(images_dir, img), os.path.join(tr_nm, img))"
   ]
  },
  {
   "cell_type": "code",
   "execution_count": null,
   "metadata": {},
   "outputs": [],
   "source": [
    "for img in tqdm(tr_11):\n",
    "    shutil.copyfile(os.path.join(images_dir, img), os.path.join(tr_nm, img))"
   ]
  },
  {
   "source": [
    "## Validation Set"
   ],
   "cell_type": "markdown",
   "metadata": {}
  },
  {
   "cell_type": "code",
   "execution_count": null,
   "metadata": {},
   "outputs": [],
   "source": [
    "mel_val_ids = mel_val.jpg.to_list()\n",
    "nm_val_ids = non_mel_val.jpg.to_list()"
   ]
  },
  {
   "cell_type": "code",
   "execution_count": 15,
   "metadata": {},
   "outputs": [],
   "source": [
    "# move images into val/mel folder\n",
    "for img in mel_val_ids:\n",
    "    origin = os.path.join(images_dir, img)\n",
    "    destination = os.path.join(val_mel, img)\n",
    "    shutil.copyfile(origin, destination)    "
   ]
  },
  {
   "cell_type": "code",
   "execution_count": 27,
   "metadata": {},
   "outputs": [],
   "source": [
    "# move images into val/non-mel folder\n",
    "for img in nm_val_ids:\n",
    "    origin = os.path.join(images_dir, img)\n",
    "    destination = os.path.join(val_nm, img)\n",
    "    shutil.copyfile(origin, destination)"
   ]
  },
  {
   "source": [
    "## Testing Set"
   ],
   "cell_type": "markdown",
   "metadata": {}
  },
  {
   "cell_type": "code",
   "execution_count": 28,
   "metadata": {},
   "outputs": [],
   "source": [
    "# move \n",
    "tt_mel_df = test[test.target == 1]\n",
    "tt_nm_df = test[test.target == 0]\n",
    "tt_mel_ids = tt_mel_df.jpg.to_list()\n",
    "tt_nm_ids = tt_nm_df.jpg.to_list()\n",
    "test_dir = 'images/test'\n"
   ]
  },
  {
   "cell_type": "code",
   "execution_count": 2,
   "metadata": {},
   "outputs": [
    {
     "output_type": "error",
     "ename": "NameError",
     "evalue": "name 'tt_nm_ids' is not defined",
     "traceback": [
      "\u001b[0;31m---------------------------------------------------------------------------\u001b[0m",
      "\u001b[0;31mNameError\u001b[0m                                 Traceback (most recent call last)",
      "\u001b[0;32m<ipython-input-2-d082534169e0>\u001b[0m in \u001b[0;36m<module>\u001b[0;34m\u001b[0m\n\u001b[0;32m----> 1\u001b[0;31m \u001b[0mlen\u001b[0m\u001b[0;34m(\u001b[0m\u001b[0mtt_nm_ids\u001b[0m\u001b[0;34m)\u001b[0m\u001b[0;34m\u001b[0m\u001b[0;34m\u001b[0m\u001b[0m\n\u001b[0m",
      "\u001b[0;31mNameError\u001b[0m: name 'tt_nm_ids' is not defined"
     ]
    }
   ],
   "source": [
    "len(tt_nm_ids)"
   ]
  },
  {
   "cell_type": "code",
   "execution_count": 29,
   "metadata": {},
   "outputs": [],
   "source": [
    "for img in tt_mel_ids:\n",
    "    origin = os.path.join(test_dir, img)\n",
    "    destination = os.path.join(tt_mel, img)\n",
    "    shutil.copyfile(origin, destination)"
   ]
  },
  {
   "cell_type": "code",
   "execution_count": null,
   "metadata": {},
   "outputs": [],
   "source": [
    "for img in tt_nm_ids:\n",
    "    origin = os.path.join(test_dir, img)\n",
    "    destination = os.path.join(tt_nm, img)\n",
    "    shutil.copyfile(origin, destination)"
   ]
  },
  {
   "cell_type": "code",
   "execution_count": 35,
   "metadata": {},
   "outputs": [
    {
     "output_type": "execute_result",
     "data": {
      "text/plain": [
       "20809"
      ]
     },
     "metadata": {},
     "execution_count": 35
    }
   ],
   "source": [
    "len(tt_nm_ids)"
   ]
  },
  {
   "cell_type": "code",
   "execution_count": 36,
   "metadata": {},
   "outputs": [],
   "source": [
    "tt_1 = tt_nm_ids[0:2000]\n",
    "tt_2 = tt_nm_ids[2000:4000]\n",
    "tt_3 = tt_nm_ids[4000:6000]\n",
    "tt_4 = tt_nm_ids[6000:8000]\n",
    "tt_5 = tt_nm_ids[8000:10000]\n",
    "tt_6 = tt_nm_ids[10000:12000]\n",
    "tt_7 = tt_nm_ids[12000:14000]\n",
    "tt_8 = tt_nm_ids[14000:16000]\n",
    "tt_9 = tt_nm_ids[16000:18000]\n",
    "tt_10 = tt_nm_ids[18000:]\n"
   ]
  },
  {
   "cell_type": "code",
   "execution_count": null,
   "metadata": {},
   "outputs": [],
   "source": [
    "for img in tqdm(tt_1):\n",
    "    shutil.copyfile(os.path.join(test_dir, img), os.path.join(tt_nm, img))"
   ]
  },
  {
   "cell_type": "code",
   "execution_count": null,
   "metadata": {},
   "outputs": [],
   "source": [
    "for img in tqdm(tt_2):\n",
    "    shutil.copyfile(os.path.join(test_dir, img), os.path.join(tt_nm, img))"
   ]
  },
  {
   "cell_type": "code",
   "execution_count": null,
   "metadata": {},
   "outputs": [],
   "source": [
    "for img in tqdm(tt_3):\n",
    "    shutil.copyfile(os.path.join(test_dir, img), os.path.join(tt_nm, img))"
   ]
  },
  {
   "cell_type": "code",
   "execution_count": null,
   "metadata": {},
   "outputs": [],
   "source": [
    "for img in tqdm(tt_4):\n",
    "    shutil.copyfile(os.path.join(test_dir, img), os.path.join(tt_nm, img))"
   ]
  },
  {
   "cell_type": "code",
   "execution_count": null,
   "metadata": {},
   "outputs": [],
   "source": [
    "for img in tqdm(tt_5):\n",
    "    shutil.copyfile(os.path.join(test_dir, img), os.path.join(tt_nm, img))"
   ]
  },
  {
   "cell_type": "code",
   "execution_count": null,
   "metadata": {},
   "outputs": [],
   "source": [
    "for img in tqdm(tt_6):\n",
    "    shutil.copyfile(os.path.join(test_dir, img), os.path.join(tt_nm, img))"
   ]
  },
  {
   "cell_type": "code",
   "execution_count": null,
   "metadata": {},
   "outputs": [],
   "source": [
    "for img in tqdm(tt_7):\n",
    "    shutil.copyfile(os.path.join(test_dir, img), os.path.join(tt_nm, img))"
   ]
  },
  {
   "cell_type": "code",
   "execution_count": null,
   "metadata": {},
   "outputs": [],
   "source": [
    "for img in tqdm(tt_8):\n",
    "    shutil.copyfile(os.path.join(test_dir, img), os.path.join(tt_nm, img))"
   ]
  },
  {
   "cell_type": "code",
   "execution_count": null,
   "metadata": {},
   "outputs": [],
   "source": [
    "for img in tqdm(tt_9):\n",
    "    shutil.copyfile(os.path.join(test_dir, img), os.path.join(tt_nm, img))"
   ]
  },
  {
   "cell_type": "code",
   "execution_count": null,
   "metadata": {},
   "outputs": [],
   "source": [
    "for img in tqdm(tt_10):\n",
    "    shutil.copyfile(os.path.join(test_dir, img), os.path.join(tt_nm, img))"
   ]
  }
 ]
}